{
 "cells": [
  {
   "cell_type": "code",
   "execution_count": 1,
   "id": "8be9b2c8",
   "metadata": {},
   "outputs": [],
   "source": [
    "#importing libraries\n",
    "import pandas as pd\n",
    "import numpy as np\n",
    "import seaborn as sns\n",
    "import matplotlib.pyplot as plt\n",
    "import matplotlib.gridspec as gridspec\n",
    "from pylab import rcParams\n",
    "from datetime import datetime as dt\n",
    "from sklearn.linear_model import Ridge\n",
    "lr = Ridge()\n",
    "import scipy.stats\n",
    "from tabulate import tabulate\n",
    "import statistics as stats\n",
    "import statsmodels.api as sm\n",
    "from statsmodels.formula.api import ols\n",
    "from scipy import stats\n",
    "from scipy.stats import levene\n",
    "import json\n",
    "import folium\n",
    "\n"
   ]
  },
  {
   "cell_type": "code",
   "execution_count": 169,
   "id": "35e75184",
   "metadata": {},
   "outputs": [],
   "source": [
    "#read in irish data\n",
    "df_trends_bovine_data = pd.read_csv(r'trends_bovine_data.csv',header=0)#reading in irish bovine data file, DATASET 1\n",
    "df_milk_sales8021 = pd.read_csv(r'milk_sales_80-21.csv',header=0)# DATASET 2\n",
    "df_milk_prices0721 = pd.read_csv(r'milk_prices_07-21.csv',header=0)# DATASET 3\n",
    "df_milk_sales0721 = pd.read_csv(r'milk_sales_07-21.csv',header=0)# DATASET \n",
    "df_irish_cheese1022 = pd.read_csv(r'irish_dairy_produce_10-22_Cheese.csv',header=0)# DATASET \n",
    "df_irish_butter1022 = pd.read_csv(r'irish_dairy_produce_10-22_Butter.csv',header=0)# DATASET \n",
    "df_irish_skimmedmilkpowder1022 = pd.read_csv(r'irish_dairy_produce_10-22_SkimmedMilkPowder.csv',header=0)# DATASET \n",
    "\n",
    "#reading in european data\n",
    "df_eumilk_produce9021 = pd.read_csv(r'DairyMilk_produce_europe.csv',header=0)# DATASET\n",
    "df_eucheese_produce9021 = pd.read_csv(r'DairyCheese_produce_europe.csv',header=0)# DATASET \n",
    "df_eubutter_produce9021 = pd.read_csv(r'DairyButter_produce_europe.csv',header=0)# DATASET\n",
    "df_euskimmedmilkpowder_produce9021 = pd.read_csv(r'DairySkimmedMilkPowder_produce_europe.csv',header=0)# DATASET \n",
    "\n"
   ]
  },
  {
   "cell_type": "code",
   "execution_count": 3,
   "id": "25899ebd",
   "metadata": {},
   "outputs": [
    {
     "data": {
      "text/html": [
       "<div>\n",
       "<style scoped>\n",
       "    .dataframe tbody tr th:only-of-type {\n",
       "        vertical-align: middle;\n",
       "    }\n",
       "\n",
       "    .dataframe tbody tr th {\n",
       "        vertical-align: top;\n",
       "    }\n",
       "\n",
       "    .dataframe thead th {\n",
       "        text-align: right;\n",
       "    }\n",
       "</style>\n",
       "<table border=\"1\" class=\"dataframe\">\n",
       "  <thead>\n",
       "    <tr style=\"text-align: right;\">\n",
       "      <th></th>\n",
       "      <th>country</th>\n",
       "      <th>2010</th>\n",
       "      <th>2011</th>\n",
       "      <th>2012</th>\n",
       "      <th>2013</th>\n",
       "      <th>2014</th>\n",
       "      <th>2015</th>\n",
       "      <th>2016</th>\n",
       "      <th>2017</th>\n",
       "      <th>2018</th>\n",
       "      <th>2019</th>\n",
       "      <th>2020</th>\n",
       "      <th>2021e</th>\n",
       "    </tr>\n",
       "  </thead>\n",
       "  <tbody>\n",
       "    <tr>\n",
       "      <th>3</th>\n",
       "      <td>Denmark</td>\n",
       "      <td>472</td>\n",
       "      <td>472</td>\n",
       "      <td>493</td>\n",
       "      <td>492</td>\n",
       "      <td>506</td>\n",
       "      <td>519</td>\n",
       "      <td>519</td>\n",
       "      <td>518</td>\n",
       "      <td>516</td>\n",
       "      <td>514</td>\n",
       "      <td>508</td>\n",
       "      <td>497</td>\n",
       "    </tr>\n",
       "    <tr>\n",
       "      <th>8</th>\n",
       "      <td>Spain</td>\n",
       "      <td>3,518</td>\n",
       "      <td>3,612 e</td>\n",
       "      <td>3,485 e</td>\n",
       "      <td>3,662 e</td>\n",
       "      <td>3,521 e</td>\n",
       "      <td>3,660</td>\n",
       "      <td>3,581</td>\n",
       "      <td>3,538 e</td>\n",
       "      <td>3,292 e</td>\n",
       "      <td>3,184 e</td>\n",
       "      <td>3,505 e</td>\n",
       "      <td>3,404 e</td>\n",
       "    </tr>\n",
       "    <tr>\n",
       "      <th>4</th>\n",
       "      <td>Germany</td>\n",
       "      <td>5,276</td>\n",
       "      <td>5,238</td>\n",
       "      <td>5,251</td>\n",
       "      <td>4,931 b</td>\n",
       "      <td>4,839</td>\n",
       "      <td>4,860</td>\n",
       "      <td>4,843</td>\n",
       "      <td>4,595</td>\n",
       "      <td>4,452</td>\n",
       "      <td>4,597</td>\n",
       "      <td>4,635</td>\n",
       "      <td>4,447</td>\n",
       "    </tr>\n",
       "    <tr>\n",
       "      <th>9</th>\n",
       "      <td>France</td>\n",
       "      <td>3,681</td>\n",
       "      <td>3,610</td>\n",
       "      <td>3,599</td>\n",
       "      <td>3,640</td>\n",
       "      <td>3,536</td>\n",
       "      <td>3,423</td>\n",
       "      <td>3,395</td>\n",
       "      <td>3,299</td>\n",
       "      <td>3,213</td>\n",
       "      <td>3,173</td>\n",
       "      <td>3,050</td>\n",
       "      <td>2,888</td>\n",
       "    </tr>\n",
       "    <tr>\n",
       "      <th>11</th>\n",
       "      <td>Italy</td>\n",
       "      <td>2,661</td>\n",
       "      <td>2,653</td>\n",
       "      <td>2,620</td>\n",
       "      <td>2,563</td>\n",
       "      <td>2,548</td>\n",
       "      <td>2,511</td>\n",
       "      <td>2,428</td>\n",
       "      <td>2,459</td>\n",
       "      <td>2,470</td>\n",
       "      <td>2,479</td>\n",
       "      <td>2,449</td>\n",
       "      <td>2,488</td>\n",
       "    </tr>\n",
       "    <tr>\n",
       "      <th>22</th>\n",
       "      <td>Romania</td>\n",
       "      <td>223</td>\n",
       "      <td>220</td>\n",
       "      <td>208</td>\n",
       "      <td>219</td>\n",
       "      <td>250</td>\n",
       "      <td>260 e</td>\n",
       "      <td>278 e</td>\n",
       "      <td>289 e</td>\n",
       "      <td>306 e</td>\n",
       "      <td>330 e</td>\n",
       "      <td>357 e</td>\n",
       "      <td>387 e</td>\n",
       "    </tr>\n",
       "    <tr>\n",
       "      <th>6</th>\n",
       "      <td>Ireland</td>\n",
       "      <td>507</td>\n",
       "      <td>509</td>\n",
       "      <td>502</td>\n",
       "      <td>494</td>\n",
       "      <td>494 e</td>\n",
       "      <td>523 e</td>\n",
       "      <td>543 e</td>\n",
       "      <td>554</td>\n",
       "      <td>553</td>\n",
       "      <td>549</td>\n",
       "      <td>549</td>\n",
       "      <td>522</td>\n",
       "    </tr>\n",
       "  </tbody>\n",
       "</table>\n",
       "</div>"
      ],
      "text/plain": [
       "     country   2010     2011     2012     2013     2014   2015   2016  \\\n",
       "3    Denmark    472      472      493      492      506    519    519   \n",
       "8      Spain  3,518  3,612 e  3,485 e  3,662 e  3,521 e  3,660  3,581   \n",
       "4   Germany   5,276    5,238    5,251  4,931 b    4,839  4,860  4,843   \n",
       "9     France  3,681    3,610    3,599    3,640    3,536  3,423  3,395   \n",
       "11     Italy  2,661    2,653    2,620    2,563    2,548  2,511  2,428   \n",
       "22   Romania    223      220      208      219      250  260 e  278 e   \n",
       "6    Ireland    507      509      502      494    494 e  523 e  543 e   \n",
       "\n",
       "       2017     2018     2019     2020    2021e  \n",
       "3       518      516      514      508      497  \n",
       "8   3,538 e  3,292 e  3,184 e  3,505 e  3,404 e  \n",
       "4     4,595    4,452    4,597    4,635    4,447  \n",
       "9     3,299    3,213    3,173    3,050    2,888  \n",
       "11    2,459    2,470    2,479    2,449    2,488  \n",
       "22    289 e    306 e    330 e    357 e    387 e  \n",
       "6       554      553      549      549      522  "
      ]
     },
     "execution_count": 3,
     "metadata": {},
     "output_type": "execute_result"
    }
   ],
   "source": [
    "#dropping first and 3rd columns\n",
    "#df_eumilk_produce9021.drop(columns=[\"ID\",'code'], inplace=True) #dropping columns\n",
    "#df_eumilk_produce9021.head()\n",
    "#subsetting dataset for years producing most bovine population and years 2000-2020 using iloc indexer\n",
    "#\"Spain\",'Germany','France','Italy','Ireland',denmark, romania= rows\n",
    "\n",
    "\n",
    "#xdf_eumilk_produce2020=df_eumilk_produce2020[['country','2010','2011','2012','2013','2014','2015','2016','2017','2018','2019','2020']]\n",
    "#xdf_eumilk_produce2020.head()\n",
    "df_eumilk_produce2020=df_eumilk_produce9021.iloc[[3,8,4,9,11,22,6],[1,23,24,25,26,27,28,29,30,31,32,33,34]] \n",
    "df_eumilk_produce2020"
   ]
  },
  {
   "cell_type": "code",
   "execution_count": 46,
   "id": "e0863087",
   "metadata": {},
   "outputs": [],
   "source": [
    "#filtering dataset milk\n",
    "df_eumilk_produce2020=df_eumilk_produce9021.iloc[[3,8,4,9,11,22,6],[1,2,23,24,25,26,27,28,29,30,31,32,33,34]]\n",
    "df_eumilk_produce2020\n",
    "\n",
    "xdf_eumilk_produce2020=df_eumilk_produce2020[['country','code','2010','2011','2012','2013','2014','2015','2016','2017','2018','2019','2020']]\n",
    "xdf_eumilk_produce2020.head()\n",
    "#melting data for graph\n",
    "df_eumilk_produce2020melt = pd.melt(xdf_eumilk_produce2020, id_vars=['country','code'],  value_vars=['2010','2011','2012','2013','2014','2015','2016','2017','2018','2019','2020'], var_name='year',value_name='number')\n",
    "df_eumilk_produce2020melt.head()\n",
    "\n",
    "df_eumilk_produce2020melt.iloc[:,2:14]=df_eumilk_produce2020melt.iloc[:,2:14].replace(',','',regex=True)#removal of special characters\n",
    "df_eumilk_produce2020melt.iloc[:,2:14]=df_eumilk_produce2020melt.iloc[:,2:14].replace('e','',regex=True)#removal of special characters\n",
    "df_eumilk_produce2020melt.iloc[:,2:14]=df_eumilk_produce2020melt.iloc[:,2:14].replace('b','',regex=True)#removal of special characters\n",
    "\n",
    "\n",
    "df_eumilk_produce2020melt['number']=df_eumilk_produce2020melt['number'].astype(int)"
   ]
  },
  {
   "cell_type": "code",
   "execution_count": 27,
   "id": "7a9b93e1",
   "metadata": {},
   "outputs": [
    {
     "data": {
      "text/html": [
       "<div>\n",
       "<style scoped>\n",
       "    .dataframe tbody tr th:only-of-type {\n",
       "        vertical-align: middle;\n",
       "    }\n",
       "\n",
       "    .dataframe tbody tr th {\n",
       "        vertical-align: top;\n",
       "    }\n",
       "\n",
       "    .dataframe thead th {\n",
       "        text-align: right;\n",
       "    }\n",
       "</style>\n",
       "<table border=\"1\" class=\"dataframe\">\n",
       "  <thead>\n",
       "    <tr style=\"text-align: right;\">\n",
       "      <th></th>\n",
       "      <th>country</th>\n",
       "      <th>code</th>\n",
       "      <th>year</th>\n",
       "      <th>number</th>\n",
       "    </tr>\n",
       "  </thead>\n",
       "  <tbody>\n",
       "    <tr>\n",
       "      <th>0</th>\n",
       "      <td>Denmark</td>\n",
       "      <td>DK</td>\n",
       "      <td>2010</td>\n",
       "      <td>472</td>\n",
       "    </tr>\n",
       "    <tr>\n",
       "      <th>1</th>\n",
       "      <td>Spain</td>\n",
       "      <td>ES</td>\n",
       "      <td>2010</td>\n",
       "      <td>3518</td>\n",
       "    </tr>\n",
       "    <tr>\n",
       "      <th>2</th>\n",
       "      <td>Germany</td>\n",
       "      <td>DE</td>\n",
       "      <td>2010</td>\n",
       "      <td>5276</td>\n",
       "    </tr>\n",
       "    <tr>\n",
       "      <th>3</th>\n",
       "      <td>France</td>\n",
       "      <td>FR</td>\n",
       "      <td>2010</td>\n",
       "      <td>3681</td>\n",
       "    </tr>\n",
       "    <tr>\n",
       "      <th>4</th>\n",
       "      <td>Italy</td>\n",
       "      <td>IT</td>\n",
       "      <td>2010</td>\n",
       "      <td>2661</td>\n",
       "    </tr>\n",
       "    <tr>\n",
       "      <th>...</th>\n",
       "      <td>...</td>\n",
       "      <td>...</td>\n",
       "      <td>...</td>\n",
       "      <td>...</td>\n",
       "    </tr>\n",
       "    <tr>\n",
       "      <th>72</th>\n",
       "      <td>Germany</td>\n",
       "      <td>DE</td>\n",
       "      <td>2020</td>\n",
       "      <td>4635</td>\n",
       "    </tr>\n",
       "    <tr>\n",
       "      <th>73</th>\n",
       "      <td>France</td>\n",
       "      <td>FR</td>\n",
       "      <td>2020</td>\n",
       "      <td>3050</td>\n",
       "    </tr>\n",
       "    <tr>\n",
       "      <th>74</th>\n",
       "      <td>Italy</td>\n",
       "      <td>IT</td>\n",
       "      <td>2020</td>\n",
       "      <td>2449</td>\n",
       "    </tr>\n",
       "    <tr>\n",
       "      <th>75</th>\n",
       "      <td>Romania</td>\n",
       "      <td>RO</td>\n",
       "      <td>2020</td>\n",
       "      <td>357</td>\n",
       "    </tr>\n",
       "    <tr>\n",
       "      <th>76</th>\n",
       "      <td>Ireland</td>\n",
       "      <td>IE</td>\n",
       "      <td>2020</td>\n",
       "      <td>549</td>\n",
       "    </tr>\n",
       "  </tbody>\n",
       "</table>\n",
       "<p>77 rows × 4 columns</p>\n",
       "</div>"
      ],
      "text/plain": [
       "     country code  year  number\n",
       "0    Denmark   DK  2010     472\n",
       "1      Spain   ES  2010    3518\n",
       "2   Germany    DE  2010    5276\n",
       "3     France   FR  2010    3681\n",
       "4      Italy   IT  2010    2661\n",
       "..       ...  ...   ...     ...\n",
       "72  Germany    DE  2020    4635\n",
       "73    France   FR  2020    3050\n",
       "74     Italy   IT  2020    2449\n",
       "75   Romania   RO  2020     357\n",
       "76   Ireland   IE  2020     549\n",
       "\n",
       "[77 rows x 4 columns]"
      ]
     },
     "execution_count": 27,
     "metadata": {},
     "output_type": "execute_result"
    }
   ],
   "source": [
    "df_eumilk_produce2020melt"
   ]
  },
  {
   "cell_type": "code",
   "execution_count": 6,
   "id": "9977e3c9",
   "metadata": {},
   "outputs": [
    {
     "data": {
      "image/png": "[encoded data removed]",
      "text/plain": [
       "<Figure size 640x480 with 1 Axes>"
      ]
     },
     "metadata": {},
     "output_type": "display_data"
    }
   ],
   "source": [
    "chart=sns.barplot(x = \"year\", y = \"number\", hue = \"country\", data = df_eumilk_produce2020melt,ci = \"sd\",palette=\"RdYlGn\");\n",
    "#rotating ax tick labels to fit\n",
    "sns.set(style='darkgrid', context='talk')\n",
    "chart.set_xticklabels(chart.get_xticklabels(), rotation=45, horizontalalignment='right')\n",
    "fontsize=0.5\n",
    "plt.legend(title='Milk product in 000s tonnes by country', fontsize=fontsize)\n",
    "\n",
    "sns.move_legend(chart, \"center right\",bbox_to_anchor=(1.7, 1.2),frameon=True,ncol=7 )\n",
    "plt.show()\n"
   ]
  },
  {
   "cell_type": "code",
   "execution_count": 7,
   "id": "568c7b03",
   "metadata": {},
   "outputs": [
    {
     "data": {
      "text/html": [
       "<div>\n",
       "<style scoped>\n",
       "    .dataframe tbody tr th:only-of-type {\n",
       "        vertical-align: middle;\n",
       "    }\n",
       "\n",
       "    .dataframe tbody tr th {\n",
       "        vertical-align: top;\n",
       "    }\n",
       "\n",
       "    .dataframe thead th {\n",
       "        text-align: right;\n",
       "    }\n",
       "</style>\n",
       "<table border=\"1\" class=\"dataframe\">\n",
       "  <thead>\n",
       "    <tr style=\"text-align: right;\">\n",
       "      <th></th>\n",
       "      <th>country</th>\n",
       "      <th>code</th>\n",
       "      <th>2010</th>\n",
       "      <th>2011</th>\n",
       "      <th>2012</th>\n",
       "      <th>2013</th>\n",
       "      <th>2014</th>\n",
       "      <th>2015</th>\n",
       "      <th>2016</th>\n",
       "      <th>2017</th>\n",
       "      <th>2018</th>\n",
       "      <th>2019</th>\n",
       "      <th>2020</th>\n",
       "      <th>2021e</th>\n",
       "    </tr>\n",
       "  </thead>\n",
       "  <tbody>\n",
       "    <tr>\n",
       "      <th>3</th>\n",
       "      <td>Denmark</td>\n",
       "      <td>DK</td>\n",
       "      <td>472</td>\n",
       "      <td>472</td>\n",
       "      <td>493</td>\n",
       "      <td>492</td>\n",
       "      <td>506</td>\n",
       "      <td>519</td>\n",
       "      <td>519</td>\n",
       "      <td>518</td>\n",
       "      <td>516</td>\n",
       "      <td>514</td>\n",
       "      <td>508</td>\n",
       "      <td>497</td>\n",
       "    </tr>\n",
       "    <tr>\n",
       "      <th>8</th>\n",
       "      <td>Spain</td>\n",
       "      <td>ES</td>\n",
       "      <td>3,518</td>\n",
       "      <td>3,612 e</td>\n",
       "      <td>3,485 e</td>\n",
       "      <td>3,662 e</td>\n",
       "      <td>3,521 e</td>\n",
       "      <td>3,660</td>\n",
       "      <td>3,581</td>\n",
       "      <td>3,538 e</td>\n",
       "      <td>3,292 e</td>\n",
       "      <td>3,184 e</td>\n",
       "      <td>3,505 e</td>\n",
       "      <td>3,404 e</td>\n",
       "    </tr>\n",
       "    <tr>\n",
       "      <th>4</th>\n",
       "      <td>Germany</td>\n",
       "      <td>DE</td>\n",
       "      <td>5,276</td>\n",
       "      <td>5,238</td>\n",
       "      <td>5,251</td>\n",
       "      <td>4,931 b</td>\n",
       "      <td>4,839</td>\n",
       "      <td>4,860</td>\n",
       "      <td>4,843</td>\n",
       "      <td>4,595</td>\n",
       "      <td>4,452</td>\n",
       "      <td>4,597</td>\n",
       "      <td>4,635</td>\n",
       "      <td>4,447</td>\n",
       "    </tr>\n",
       "    <tr>\n",
       "      <th>9</th>\n",
       "      <td>France</td>\n",
       "      <td>FR</td>\n",
       "      <td>3,681</td>\n",
       "      <td>3,610</td>\n",
       "      <td>3,599</td>\n",
       "      <td>3,640</td>\n",
       "      <td>3,536</td>\n",
       "      <td>3,423</td>\n",
       "      <td>3,395</td>\n",
       "      <td>3,299</td>\n",
       "      <td>3,213</td>\n",
       "      <td>3,173</td>\n",
       "      <td>3,050</td>\n",
       "      <td>2,888</td>\n",
       "    </tr>\n",
       "    <tr>\n",
       "      <th>11</th>\n",
       "      <td>Italy</td>\n",
       "      <td>IT</td>\n",
       "      <td>2,661</td>\n",
       "      <td>2,653</td>\n",
       "      <td>2,620</td>\n",
       "      <td>2,563</td>\n",
       "      <td>2,548</td>\n",
       "      <td>2,511</td>\n",
       "      <td>2,428</td>\n",
       "      <td>2,459</td>\n",
       "      <td>2,470</td>\n",
       "      <td>2,479</td>\n",
       "      <td>2,449</td>\n",
       "      <td>2,488</td>\n",
       "    </tr>\n",
       "    <tr>\n",
       "      <th>22</th>\n",
       "      <td>Romania</td>\n",
       "      <td>RO</td>\n",
       "      <td>223</td>\n",
       "      <td>220</td>\n",
       "      <td>208</td>\n",
       "      <td>219</td>\n",
       "      <td>250</td>\n",
       "      <td>260 e</td>\n",
       "      <td>278 e</td>\n",
       "      <td>289 e</td>\n",
       "      <td>306 e</td>\n",
       "      <td>330 e</td>\n",
       "      <td>357 e</td>\n",
       "      <td>387 e</td>\n",
       "    </tr>\n",
       "    <tr>\n",
       "      <th>6</th>\n",
       "      <td>Ireland</td>\n",
       "      <td>IE</td>\n",
       "      <td>507</td>\n",
       "      <td>509</td>\n",
       "      <td>502</td>\n",
       "      <td>494</td>\n",
       "      <td>494 e</td>\n",
       "      <td>523 e</td>\n",
       "      <td>543 e</td>\n",
       "      <td>554</td>\n",
       "      <td>553</td>\n",
       "      <td>549</td>\n",
       "      <td>549</td>\n",
       "      <td>522</td>\n",
       "    </tr>\n",
       "  </tbody>\n",
       "</table>\n",
       "</div>"
      ],
      "text/plain": [
       "     country code   2010     2011     2012     2013     2014   2015   2016  \\\n",
       "3    Denmark   DK    472      472      493      492      506    519    519   \n",
       "8      Spain   ES  3,518  3,612 e  3,485 e  3,662 e  3,521 e  3,660  3,581   \n",
       "4   Germany    DE  5,276    5,238    5,251  4,931 b    4,839  4,860  4,843   \n",
       "9     France   FR  3,681    3,610    3,599    3,640    3,536  3,423  3,395   \n",
       "11     Italy   IT  2,661    2,653    2,620    2,563    2,548  2,511  2,428   \n",
       "22   Romania   RO    223      220      208      219      250  260 e  278 e   \n",
       "6    Ireland   IE    507      509      502      494    494 e  523 e  543 e   \n",
       "\n",
       "       2017     2018     2019     2020    2021e  \n",
       "3       518      516      514      508      497  \n",
       "8   3,538 e  3,292 e  3,184 e  3,505 e  3,404 e  \n",
       "4     4,595    4,452    4,597    4,635    4,447  \n",
       "9     3,299    3,213    3,173    3,050    2,888  \n",
       "11    2,459    2,470    2,479    2,449    2,488  \n",
       "22    289 e    306 e    330 e    357 e    387 e  \n",
       "6       554      553      549      549      522  "
      ]
     },
     "execution_count": 7,
     "metadata": {},
     "output_type": "execute_result"
    }
   ],
   "source": [
    "df_eumilk_produce2020"
   ]
  },
  {
   "cell_type": "code",
   "execution_count": 139,
   "id": "052bf42a",
   "metadata": {},
   "outputs": [],
   "source": [
    "#filtering out the special charachters in year columns\n",
    "df_eumilk_produce2020.iloc[:,2:14]=df_eumilk_produce2020.iloc[:,2:14].replace('e','',regex=True)#removal of special characters\n",
    "df_eumilk_produce2020.iloc[:,2:14]=df_eumilk_produce2020.iloc[:,2:14].replace(',','',regex=True)#removal of special characters\n",
    "df_eumilk_produce2020['2020']=df_eumilk_produce2020['2020'].astype(float)"
   ]
  },
  {
   "cell_type": "code",
   "execution_count": 140,
   "id": "e3e408ac",
   "metadata": {},
   "outputs": [
    {
     "data": {
      "text/html": [
       "<div>\n",
       "<style scoped>\n",
       "    .dataframe tbody tr th:only-of-type {\n",
       "        vertical-align: middle;\n",
       "    }\n",
       "\n",
       "    .dataframe tbody tr th {\n",
       "        vertical-align: top;\n",
       "    }\n",
       "\n",
       "    .dataframe thead th {\n",
       "        text-align: right;\n",
       "    }\n",
       "</style>\n",
       "<table border=\"1\" class=\"dataframe\">\n",
       "  <thead>\n",
       "    <tr style=\"text-align: right;\">\n",
       "      <th></th>\n",
       "      <th>country</th>\n",
       "      <th>code</th>\n",
       "      <th>2010</th>\n",
       "      <th>2011</th>\n",
       "      <th>2012</th>\n",
       "      <th>2013</th>\n",
       "      <th>2014</th>\n",
       "      <th>2015</th>\n",
       "      <th>2016</th>\n",
       "      <th>2017</th>\n",
       "      <th>2018</th>\n",
       "      <th>2019</th>\n",
       "      <th>2020</th>\n",
       "      <th>2021e</th>\n",
       "    </tr>\n",
       "  </thead>\n",
       "  <tbody>\n",
       "    <tr>\n",
       "      <th>3</th>\n",
       "      <td>Denmark</td>\n",
       "      <td>DK</td>\n",
       "      <td>472</td>\n",
       "      <td>472</td>\n",
       "      <td>493</td>\n",
       "      <td>492</td>\n",
       "      <td>506</td>\n",
       "      <td>519</td>\n",
       "      <td>519</td>\n",
       "      <td>518</td>\n",
       "      <td>516</td>\n",
       "      <td>514</td>\n",
       "      <td>508.0</td>\n",
       "      <td>497</td>\n",
       "    </tr>\n",
       "    <tr>\n",
       "      <th>8</th>\n",
       "      <td>Spain</td>\n",
       "      <td>ES</td>\n",
       "      <td>3518</td>\n",
       "      <td>3612</td>\n",
       "      <td>3485</td>\n",
       "      <td>3662</td>\n",
       "      <td>3521</td>\n",
       "      <td>3660</td>\n",
       "      <td>3581</td>\n",
       "      <td>3538</td>\n",
       "      <td>3292</td>\n",
       "      <td>3184</td>\n",
       "      <td>3505.0</td>\n",
       "      <td>3404</td>\n",
       "    </tr>\n",
       "    <tr>\n",
       "      <th>4</th>\n",
       "      <td>Germany</td>\n",
       "      <td>DE</td>\n",
       "      <td>5276</td>\n",
       "      <td>5238</td>\n",
       "      <td>5251</td>\n",
       "      <td>4931 b</td>\n",
       "      <td>4839</td>\n",
       "      <td>4860</td>\n",
       "      <td>4843</td>\n",
       "      <td>4595</td>\n",
       "      <td>4452</td>\n",
       "      <td>4597</td>\n",
       "      <td>4635.0</td>\n",
       "      <td>4447</td>\n",
       "    </tr>\n",
       "    <tr>\n",
       "      <th>9</th>\n",
       "      <td>France</td>\n",
       "      <td>FR</td>\n",
       "      <td>3681</td>\n",
       "      <td>3610</td>\n",
       "      <td>3599</td>\n",
       "      <td>3640</td>\n",
       "      <td>3536</td>\n",
       "      <td>3423</td>\n",
       "      <td>3395</td>\n",
       "      <td>3299</td>\n",
       "      <td>3213</td>\n",
       "      <td>3173</td>\n",
       "      <td>3050.0</td>\n",
       "      <td>2888</td>\n",
       "    </tr>\n",
       "    <tr>\n",
       "      <th>11</th>\n",
       "      <td>Italy</td>\n",
       "      <td>IT</td>\n",
       "      <td>2661</td>\n",
       "      <td>2653</td>\n",
       "      <td>2620</td>\n",
       "      <td>2563</td>\n",
       "      <td>2548</td>\n",
       "      <td>2511</td>\n",
       "      <td>2428</td>\n",
       "      <td>2459</td>\n",
       "      <td>2470</td>\n",
       "      <td>2479</td>\n",
       "      <td>2449.0</td>\n",
       "      <td>2488</td>\n",
       "    </tr>\n",
       "    <tr>\n",
       "      <th>22</th>\n",
       "      <td>Romania</td>\n",
       "      <td>RO</td>\n",
       "      <td>223</td>\n",
       "      <td>220</td>\n",
       "      <td>208</td>\n",
       "      <td>219</td>\n",
       "      <td>250</td>\n",
       "      <td>260</td>\n",
       "      <td>278</td>\n",
       "      <td>289</td>\n",
       "      <td>306</td>\n",
       "      <td>330</td>\n",
       "      <td>357.0</td>\n",
       "      <td>387</td>\n",
       "    </tr>\n",
       "    <tr>\n",
       "      <th>6</th>\n",
       "      <td>Ireland</td>\n",
       "      <td>IE</td>\n",
       "      <td>507</td>\n",
       "      <td>509</td>\n",
       "      <td>502</td>\n",
       "      <td>494</td>\n",
       "      <td>494</td>\n",
       "      <td>523</td>\n",
       "      <td>543</td>\n",
       "      <td>554</td>\n",
       "      <td>553</td>\n",
       "      <td>549</td>\n",
       "      <td>549.0</td>\n",
       "      <td>522</td>\n",
       "    </tr>\n",
       "  </tbody>\n",
       "</table>\n",
       "</div>"
      ],
      "text/plain": [
       "     country code  2010   2011   2012    2013   2014  2015  2016   2017  \\\n",
       "3    Denmark   DK   472    472    493     492    506   519   519    518   \n",
       "8      Spain   ES  3518  3612   3485    3662   3521   3660  3581  3538    \n",
       "4   Germany    DE  5276   5238   5251  4931 b   4839  4860  4843   4595   \n",
       "9     France   FR  3681   3610   3599    3640   3536  3423  3395   3299   \n",
       "11     Italy   IT  2661   2653   2620    2563   2548  2511  2428   2459   \n",
       "22   Romania   RO   223    220    208     219    250  260   278    289    \n",
       "6    Ireland   IE   507    509    502     494   494   523   543     554   \n",
       "\n",
       "     2018   2019    2020  2021e  \n",
       "3     516    514   508.0    497  \n",
       "8   3292   3184   3505.0  3404   \n",
       "4    4452   4597  4635.0   4447  \n",
       "9    3213   3173  3050.0   2888  \n",
       "11   2470   2479  2449.0   2488  \n",
       "22   306    330    357.0   387   \n",
       "6     553    549   549.0    522  "
      ]
     },
     "execution_count": 140,
     "metadata": {},
     "output_type": "execute_result"
    }
   ],
   "source": [
    "df_eumilk_produce2020"
   ]
  },
  {
   "cell_type": "code",
   "execution_count": 199,
   "id": "78ed1547",
   "metadata": {},
   "outputs": [
    {
     "data": {
      "text/html": [
       "<div>\n",
       "<style scoped>\n",
       "    .dataframe tbody tr th:only-of-type {\n",
       "        vertical-align: middle;\n",
       "    }\n",
       "\n",
       "    .dataframe tbody tr th {\n",
       "        vertical-align: top;\n",
       "    }\n",
       "\n",
       "    .dataframe thead th {\n",
       "        text-align: right;\n",
       "    }\n",
       "</style>\n",
       "<table border=\"1\" class=\"dataframe\">\n",
       "  <thead>\n",
       "    <tr style=\"text-align: right;\">\n",
       "      <th></th>\n",
       "      <th>country</th>\n",
       "      <th>code</th>\n",
       "      <th>year</th>\n",
       "      <th>number</th>\n",
       "      <th>stat</th>\n",
       "    </tr>\n",
       "  </thead>\n",
       "  <tbody>\n",
       "    <tr>\n",
       "      <th>0</th>\n",
       "      <td>Denmark</td>\n",
       "      <td>DK</td>\n",
       "      <td>2010</td>\n",
       "      <td>472</td>\n",
       "      <td>0.002748</td>\n",
       "    </tr>\n",
       "    <tr>\n",
       "      <th>1</th>\n",
       "      <td>Spain</td>\n",
       "      <td>ES</td>\n",
       "      <td>2010</td>\n",
       "      <td>3518</td>\n",
       "      <td>0.020480</td>\n",
       "    </tr>\n",
       "    <tr>\n",
       "      <th>2</th>\n",
       "      <td>Germany</td>\n",
       "      <td>DE</td>\n",
       "      <td>2010</td>\n",
       "      <td>5276</td>\n",
       "      <td>0.030714</td>\n",
       "    </tr>\n",
       "    <tr>\n",
       "      <th>3</th>\n",
       "      <td>France</td>\n",
       "      <td>FR</td>\n",
       "      <td>2010</td>\n",
       "      <td>3681</td>\n",
       "      <td>0.021428</td>\n",
       "    </tr>\n",
       "    <tr>\n",
       "      <th>4</th>\n",
       "      <td>Italy</td>\n",
       "      <td>IT</td>\n",
       "      <td>2010</td>\n",
       "      <td>2661</td>\n",
       "      <td>0.015491</td>\n",
       "    </tr>\n",
       "    <tr>\n",
       "      <th>...</th>\n",
       "      <td>...</td>\n",
       "      <td>...</td>\n",
       "      <td>...</td>\n",
       "      <td>...</td>\n",
       "      <td>...</td>\n",
       "    </tr>\n",
       "    <tr>\n",
       "      <th>72</th>\n",
       "      <td>Germany</td>\n",
       "      <td>DE</td>\n",
       "      <td>2020</td>\n",
       "      <td>4635</td>\n",
       "      <td>0.026982</td>\n",
       "    </tr>\n",
       "    <tr>\n",
       "      <th>73</th>\n",
       "      <td>France</td>\n",
       "      <td>FR</td>\n",
       "      <td>2020</td>\n",
       "      <td>3050</td>\n",
       "      <td>0.017755</td>\n",
       "    </tr>\n",
       "    <tr>\n",
       "      <th>74</th>\n",
       "      <td>Italy</td>\n",
       "      <td>IT</td>\n",
       "      <td>2020</td>\n",
       "      <td>2449</td>\n",
       "      <td>0.014257</td>\n",
       "    </tr>\n",
       "    <tr>\n",
       "      <th>75</th>\n",
       "      <td>Romania</td>\n",
       "      <td>RO</td>\n",
       "      <td>2020</td>\n",
       "      <td>357</td>\n",
       "      <td>0.002078</td>\n",
       "    </tr>\n",
       "    <tr>\n",
       "      <th>76</th>\n",
       "      <td>Ireland</td>\n",
       "      <td>IE</td>\n",
       "      <td>2020</td>\n",
       "      <td>549</td>\n",
       "      <td>0.003196</td>\n",
       "    </tr>\n",
       "  </tbody>\n",
       "</table>\n",
       "<p>77 rows × 5 columns</p>\n",
       "</div>"
      ],
      "text/plain": [
       "     country code  year  number      stat\n",
       "0    Denmark   DK  2010     472  0.002748\n",
       "1      Spain   ES  2010    3518  0.020480\n",
       "2   Germany    DE  2010    5276  0.030714\n",
       "3     France   FR  2010    3681  0.021428\n",
       "4      Italy   IT  2010    2661  0.015491\n",
       "..       ...  ...   ...     ...       ...\n",
       "72  Germany    DE  2020    4635  0.026982\n",
       "73    France   FR  2020    3050  0.017755\n",
       "74     Italy   IT  2020    2449  0.014257\n",
       "75   Romania   RO  2020     357  0.002078\n",
       "76   Ireland   IE  2020     549  0.003196\n",
       "\n",
       "[77 rows x 5 columns]"
      ]
     },
     "execution_count": 199,
     "metadata": {},
     "output_type": "execute_result"
    }
   ],
   "source": [
    "df_eumilk_produce2020melt"
   ]
  },
  {
   "cell_type": "code",
   "execution_count": 201,
   "id": "f8c84f3f",
   "metadata": {},
   "outputs": [
    {
     "data": {
      "text/html": [
       "<div>\n",
       "<style scoped>\n",
       "    .dataframe tbody tr th:only-of-type {\n",
       "        vertical-align: middle;\n",
       "    }\n",
       "\n",
       "    .dataframe tbody tr th {\n",
       "        vertical-align: top;\n",
       "    }\n",
       "\n",
       "    .dataframe thead th {\n",
       "        text-align: right;\n",
       "    }\n",
       "</style>\n",
       "<table border=\"1\" class=\"dataframe\">\n",
       "  <thead>\n",
       "    <tr style=\"text-align: right;\">\n",
       "      <th></th>\n",
       "      <th>country</th>\n",
       "      <th>code</th>\n",
       "      <th>number</th>\n",
       "      <th>year</th>\n",
       "    </tr>\n",
       "  </thead>\n",
       "  <tbody>\n",
       "    <tr>\n",
       "      <th>70</th>\n",
       "      <td>Denmark</td>\n",
       "      <td>DK</td>\n",
       "      <td>508</td>\n",
       "      <td>2020</td>\n",
       "    </tr>\n",
       "    <tr>\n",
       "      <th>71</th>\n",
       "      <td>Spain</td>\n",
       "      <td>ES</td>\n",
       "      <td>3505</td>\n",
       "      <td>2020</td>\n",
       "    </tr>\n",
       "    <tr>\n",
       "      <th>72</th>\n",
       "      <td>Germany</td>\n",
       "      <td>DE</td>\n",
       "      <td>4635</td>\n",
       "      <td>2020</td>\n",
       "    </tr>\n",
       "    <tr>\n",
       "      <th>73</th>\n",
       "      <td>France</td>\n",
       "      <td>FR</td>\n",
       "      <td>3050</td>\n",
       "      <td>2020</td>\n",
       "    </tr>\n",
       "    <tr>\n",
       "      <th>74</th>\n",
       "      <td>Italy</td>\n",
       "      <td>IT</td>\n",
       "      <td>2449</td>\n",
       "      <td>2020</td>\n",
       "    </tr>\n",
       "  </tbody>\n",
       "</table>\n",
       "</div>"
      ],
      "text/plain": [
       "     country code  number  year\n",
       "70   Denmark   DK     508  2020\n",
       "71     Spain   ES    3505  2020\n",
       "72  Germany    DE    4635  2020\n",
       "73    France   FR    3050  2020\n",
       "74     Italy   IT    2449  2020"
      ]
     },
     "execution_count": 201,
     "metadata": {},
     "output_type": "execute_result"
    }
   ],
   "source": [
    "df_eumilk_produce2020melt2=df_eumilk_produce2020melt.loc[(df_eumilk_produce2020melt[\"year\"] == \"2020\"), ['country','code','number','year']]\n",
    "df_eumilk_produce2020melt2.head()"
   ]
  },
  {
   "cell_type": "code",
   "execution_count": 202,
   "id": "0f206740",
   "metadata": {},
   "outputs": [
    {
     "data": {
      "text/html": [
       "<div>\n",
       "<style scoped>\n",
       "    .dataframe tbody tr th:only-of-type {\n",
       "        vertical-align: middle;\n",
       "    }\n",
       "\n",
       "    .dataframe tbody tr th {\n",
       "        vertical-align: top;\n",
       "    }\n",
       "\n",
       "    .dataframe thead th {\n",
       "        text-align: right;\n",
       "    }\n",
       "</style>\n",
       "<table border=\"1\" class=\"dataframe\">\n",
       "  <thead>\n",
       "    <tr style=\"text-align: right;\">\n",
       "      <th></th>\n",
       "      <th>country</th>\n",
       "      <th>code</th>\n",
       "      <th>number</th>\n",
       "      <th>year</th>\n",
       "    </tr>\n",
       "  </thead>\n",
       "  <tbody>\n",
       "    <tr>\n",
       "      <th>70</th>\n",
       "      <td>Denmark</td>\n",
       "      <td>DNK</td>\n",
       "      <td>508</td>\n",
       "      <td>2020</td>\n",
       "    </tr>\n",
       "    <tr>\n",
       "      <th>71</th>\n",
       "      <td>Spain</td>\n",
       "      <td>ESP</td>\n",
       "      <td>3505</td>\n",
       "      <td>2020</td>\n",
       "    </tr>\n",
       "    <tr>\n",
       "      <th>72</th>\n",
       "      <td>Germany</td>\n",
       "      <td>DEU</td>\n",
       "      <td>4635</td>\n",
       "      <td>2020</td>\n",
       "    </tr>\n",
       "    <tr>\n",
       "      <th>73</th>\n",
       "      <td>France</td>\n",
       "      <td>FRA</td>\n",
       "      <td>3050</td>\n",
       "      <td>2020</td>\n",
       "    </tr>\n",
       "    <tr>\n",
       "      <th>74</th>\n",
       "      <td>Italy</td>\n",
       "      <td>ITA</td>\n",
       "      <td>2449</td>\n",
       "      <td>2020</td>\n",
       "    </tr>\n",
       "    <tr>\n",
       "      <th>75</th>\n",
       "      <td>Romania</td>\n",
       "      <td>ROU</td>\n",
       "      <td>357</td>\n",
       "      <td>2020</td>\n",
       "    </tr>\n",
       "    <tr>\n",
       "      <th>76</th>\n",
       "      <td>Ireland</td>\n",
       "      <td>IRL</td>\n",
       "      <td>549</td>\n",
       "      <td>2020</td>\n",
       "    </tr>\n",
       "  </tbody>\n",
       "</table>\n",
       "</div>"
      ],
      "text/plain": [
       "     country code  number  year\n",
       "70   Denmark  DNK     508  2020\n",
       "71     Spain  ESP    3505  2020\n",
       "72  Germany   DEU    4635  2020\n",
       "73    France  FRA    3050  2020\n",
       "74     Italy  ITA    2449  2020\n",
       "75   Romania  ROU     357  2020\n",
       "76   Ireland  IRL     549  2020"
      ]
     },
     "execution_count": 202,
     "metadata": {},
     "output_type": "execute_result"
    }
   ],
   "source": [
    "\n",
    "#converting codes from Alpha 2 code to alpha 3 code for ISO 3166 country codes\n",
    "df_eumilk_produce2020melt2['code']=df_eumilk_produce2020melt2['code'].replace('IE','IRL')\n",
    "df_eumilk_produce2020melt2['code']=df_eumilk_produce2020melt2['code'].replace('DK','DNK')\n",
    "df_eumilk_produce2020melt2['code']=df_eumilk_produce2020melt2['code'].replace('ES','ESP')\n",
    "df_eumilk_produce2020melt2['code']=df_eumilk_produce2020melt2['code'].replace('FR','FRA')\n",
    "df_eumilk_produce2020melt2['code']=df_eumilk_produce2020melt2['code'].replace('DE','DEU')\n",
    "df_eumilk_produce2020melt2['code']=df_eumilk_produce2020melt2['code'].replace('IT','ITA')\n",
    "df_eumilk_produce2020melt2['code']=df_eumilk_produce2020melt2['code'].replace('RO','ROU')\n",
    "df_eumilk_produce2020melt2\n",
    "                            "
   ]
  },
  {
   "cell_type": "code",
   "execution_count": 214,
   "id": "2c40d80c",
   "metadata": {},
   "outputs": [
    {
     "data": {
      "application/vnd.plotly.v1+json": {
       "config": {
        "plotlyServerURL": "https://plot.ly"
       },
       "data": [
        {
         "coloraxis": "coloraxis",
         "geo": "geo",
         "hovertemplate": "<b>%{hovertext}</b><br><br>code=%{location}<br>number=%{z}<extra></extra>",
         "hovertext": [
          "Denmark",
          "Spain",
          "Germany ",
          "France",
          "Italy",
          "Romania",
          "Ireland"
         ],
         "locations": [
          "DNK",
          "ESP",
          "DEU",
          "FRA",
          "ITA",
          "ROU",
          "IRL"
         ],
         "name": "",
         "type": "choropleth",
         "z": [
          508,
          3505,
          4635,
          3050,
          2449,
          357,
          549
         ]
        }
       ],
       "layout": {
        "coloraxis": {
         "colorbar": {
          "title": {
           "text": "number"
          }
         },
         "colorscale": [
          [
           0,
           "rgb(36, 86, 104)"
          ],
          [
           0.16666666666666666,
           "rgb(15, 114, 121)"
          ],
          [
           0.3333333333333333,
           "rgb(13, 143, 129)"
          ],
          [
           0.5,
           "rgb(57, 171, 126)"
          ],
          [
           0.6666666666666666,
           "rgb(110, 197, 116)"
          ],
          [
           0.8333333333333334,
           "rgb(169, 220, 103)"
          ],
          [
           1,
           "rgb(237, 239, 93)"
          ]
         ]
        },
        "geo": {
         "center": {},
         "domain": {
          "x": [
           0,
           1
          ],
          "y": [
           0,
           1
          ]
         },
         "scope": "europe"
        },
        "legend": {
         "tracegroupgap": 0
        },
        "margin": {
         "t": 60
        },
        "template": {
         "data": {
          "bar": [
           {
            "error_x": {
             "color": "#2a3f5f"
            },
            "error_y": {
             "color": "#2a3f5f"
            },
            "marker": {
             "line": {
              "color": "#E5ECF6",
              "width": 0.5
             },
             "pattern": {
              "fillmode": "overlay",
              "size": 10,
              "solidity": 0.2
             }
            },
            "type": "bar"
           }
          ],
          "barpolar": [
           {
            "marker": {
             "line": {
              "color": "#E5ECF6",
              "width": 0.5
             },
             "pattern": {
              "fillmode": "overlay",
              "size": 10,
              "solidity": 0.2
             }
            },
            "type": "barpolar"
           }
          ],
          "carpet": [
           {
            "aaxis": {
             "endlinecolor": "#2a3f5f",
             "gridcolor": "white",
             "linecolor": "white",
             "minorgridcolor": "white",
             "startlinecolor": "#2a3f5f"
            },
            "baxis": {
             "endlinecolor": "#2a3f5f",
             "gridcolor": "white",
             "linecolor": "white",
             "minorgridcolor": "white",
             "startlinecolor": "#2a3f5f"
            },
            "type": "carpet"
           }
          ],
          "choropleth": [
           {
            "colorbar": {
             "outlinewidth": 0,
             "ticks": ""
            },
            "type": "choropleth"
           }
          ],
          "contour": [
           {
            "colorbar": {
             "outlinewidth": 0,
             "ticks": ""
            },
            "colorscale": [
             [
              0,
              "#0d0887"
             ],
             [
              0.1111111111111111,
              "#46039f"
             ],
             [
              0.2222222222222222,
              "#7201a8"
             ],
             [
              0.3333333333333333,
              "#9c179e"
             ],
             [
              0.4444444444444444,
              "#bd3786"
             ],
             [
              0.5555555555555556,
              "#d8576b"
             ],
             [
              0.6666666666666666,
              "#ed7953"
             ],
             [
              0.7777777777777778,
              "#fb9f3a"
             ],
             [
              0.8888888888888888,
              "#fdca26"
             ],
             [
              1,
              "#f0f921"
             ]
            ],
            "type": "contour"
           }
          ],
          "contourcarpet": [
           {
            "colorbar": {
             "outlinewidth": 0,
             "ticks": ""
            },
            "type": "contourcarpet"
           }
          ],
          "heatmap": [
           {
            "colorbar": {
             "outlinewidth": 0,
             "ticks": ""
            },
            "colorscale": [
             [
              0,
              "#0d0887"
             ],
             [
              0.1111111111111111,
              "#46039f"
             ],
             [
              0.2222222222222222,
              "#7201a8"
             ],
             [
              0.3333333333333333,
              "#9c179e"
             ],
             [
              0.4444444444444444,
              "#bd3786"
             ],
             [
              0.5555555555555556,
              "#d8576b"
             ],
             [
              0.6666666666666666,
              "#ed7953"
             ],
             [
              0.7777777777777778,
              "#fb9f3a"
             ],
             [
              0.8888888888888888,
              "#fdca26"
             ],
             [
              1,
              "#f0f921"
             ]
            ],
            "type": "heatmap"
           }
          ],
          "heatmapgl": [
           {
            "colorbar": {
             "outlinewidth": 0,
             "ticks": ""
            },
            "colorscale": [
             [
              0,
              "#0d0887"
             ],
             [
              0.1111111111111111,
              "#46039f"
             ],
             [
              0.2222222222222222,
              "#7201a8"
             ],
             [
              0.3333333333333333,
              "#9c179e"
             ],
             [
              0.4444444444444444,
              "#bd3786"
             ],
             [
              0.5555555555555556,
              "#d8576b"
             ],
             [
              0.6666666666666666,
              "#ed7953"
             ],
             [
              0.7777777777777778,
              "#fb9f3a"
             ],
             [
              0.8888888888888888,
              "#fdca26"
             ],
             [
              1,
              "#f0f921"
             ]
            ],
            "type": "heatmapgl"
           }
          ],
          "histogram": [
           {
            "marker": {
             "pattern": {
              "fillmode": "overlay",
              "size": 10,
              "solidity": 0.2
             }
            },
            "type": "histogram"
           }
          ],
          "histogram2d": [
           {
            "colorbar": {
             "outlinewidth": 0,
             "ticks": ""
            },
            "colorscale": [
             [
              0,
              "#0d0887"
             ],
             [
              0.1111111111111111,
              "#46039f"
             ],
             [
              0.2222222222222222,
              "#7201a8"
             ],
             [
              0.3333333333333333,
              "#9c179e"
             ],
             [
              0.4444444444444444,
              "#bd3786"
             ],
             [
              0.5555555555555556,
              "#d8576b"
             ],
             [
              0.6666666666666666,
              "#ed7953"
             ],
             [
              0.7777777777777778,
              "#fb9f3a"
             ],
             [
              0.8888888888888888,
              "#fdca26"
             ],
             [
              1,
              "#f0f921"
             ]
            ],
            "type": "histogram2d"
           }
          ],
          "histogram2dcontour": [
           {
            "colorbar": {
             "outlinewidth": 0,
             "ticks": ""
            },
            "colorscale": [
             [
              0,
              "#0d0887"
             ],
             [
              0.1111111111111111,
              "#46039f"
             ],
             [
              0.2222222222222222,
              "#7201a8"
             ],
             [
              0.3333333333333333,
              "#9c179e"
             ],
             [
              0.4444444444444444,
              "#bd3786"
             ],
             [
              0.5555555555555556,
              "#d8576b"
             ],
             [
              0.6666666666666666,
              "#ed7953"
             ],
             [
              0.7777777777777778,
              "#fb9f3a"
             ],
             [
              0.8888888888888888,
              "#fdca26"
             ],
             [
              1,
              "#f0f921"
             ]
            ],
            "type": "histogram2dcontour"
           }
          ],
          "mesh3d": [
           {
            "colorbar": {
             "outlinewidth": 0,
             "ticks": ""
            },
            "type": "mesh3d"
           }
          ],
          "parcoords": [
           {
            "line": {
             "colorbar": {
              "outlinewidth": 0,
              "ticks": ""
             }
            },
            "type": "parcoords"
           }
          ],
          "pie": [
           {
            "automargin": true,
            "type": "pie"
           }
          ],
          "scatter": [
           {
            "fillpattern": {
             "fillmode": "overlay",
             "size": 10,
             "solidity": 0.2
            },
            "type": "scatter"
           }
          ],
          "scatter3d": [
           {
            "line": {
             "colorbar": {
              "outlinewidth": 0,
              "ticks": ""
             }
            },
            "marker": {
             "colorbar": {
              "outlinewidth": 0,
              "ticks": ""
             }
            },
            "type": "scatter3d"
           }
          ],
          "scattercarpet": [
           {
            "marker": {
             "colorbar": {
              "outlinewidth": 0,
              "ticks": ""
             }
            },
            "type": "scattercarpet"
           }
          ],
          "scattergeo": [
           {
            "marker": {
             "colorbar": {
              "outlinewidth": 0,
              "ticks": ""
             }
            },
            "type": "scattergeo"
           }
          ],
          "scattergl": [
           {
            "marker": {
             "colorbar": {
              "outlinewidth": 0,
              "ticks": ""
             }
            },
            "type": "scattergl"
           }
          ],
          "scattermapbox": [
           {
            "marker": {
             "colorbar": {
              "outlinewidth": 0,
              "ticks": ""
             }
            },
            "type": "scattermapbox"
           }
          ],
          "scatterpolar": [
           {
            "marker": {
             "colorbar": {
              "outlinewidth": 0,
              "ticks": ""
             }
            },
            "type": "scatterpolar"
           }
          ],
          "scatterpolargl": [
           {
            "marker": {
             "colorbar": {
              "outlinewidth": 0,
              "ticks": ""
             }
            },
            "type": "scatterpolargl"
           }
          ],
          "scatterternary": [
           {
            "marker": {
             "colorbar": {
              "outlinewidth": 0,
              "ticks": ""
             }
            },
            "type": "scatterternary"
           }
          ],
          "surface": [
           {
            "colorbar": {
             "outlinewidth": 0,
             "ticks": ""
            },
            "colorscale": [
             [
              0,
              "#0d0887"
             ],
             [
              0.1111111111111111,
              "#46039f"
             ],
             [
              0.2222222222222222,
              "#7201a8"
             ],
             [
              0.3333333333333333,
              "#9c179e"
             ],
             [
              0.4444444444444444,
              "#bd3786"
             ],
             [
              0.5555555555555556,
              "#d8576b"
             ],
             [
              0.6666666666666666,
              "#ed7953"
             ],
             [
              0.7777777777777778,
              "#fb9f3a"
             ],
             [
              0.8888888888888888,
              "#fdca26"
             ],
             [
              1,
              "#f0f921"
             ]
            ],
            "type": "surface"
           }
          ],
          "table": [
           {
            "cells": {
             "fill": {
              "color": "#EBF0F8"
             },
             "line": {
              "color": "white"
             }
            },
            "header": {
             "fill": {
              "color": "#C8D4E3"
             },
             "line": {
              "color": "white"
             }
            },
            "type": "table"
           }
          ]
         },
         "layout": {
          "annotationdefaults": {
           "arrowcolor": "#2a3f5f",
           "arrowhead": 0,
           "arrowwidth": 1
          },
          "autotypenumbers": "strict",
          "coloraxis": {
           "colorbar": {
            "outlinewidth": 0,
            "ticks": ""
           }
          },
          "colorscale": {
           "diverging": [
            [
             0,
             "#8e0152"
            ],
            [
             0.1,
             "#c51b7d"
            ],
            [
             0.2,
             "#de77ae"
            ],
            [
             0.3,
             "#f1b6da"
            ],
            [
             0.4,
             "#fde0ef"
            ],
            [
             0.5,
             "#f7f7f7"
            ],
            [
             0.6,
             "#e6f5d0"
            ],
            [
             0.7,
             "#b8e186"
            ],
            [
             0.8,
             "#7fbc41"
            ],
            [
             0.9,
             "#4d9221"
            ],
            [
             1,
             "#276419"
            ]
           ],
           "sequential": [
            [
             0,
             "#0d0887"
            ],
            [
             0.1111111111111111,
             "#46039f"
            ],
            [
             0.2222222222222222,
             "#7201a8"
            ],
            [
             0.3333333333333333,
             "#9c179e"
            ],
            [
             0.4444444444444444,
             "#bd3786"
            ],
            [
             0.5555555555555556,
             "#d8576b"
            ],
            [
             0.6666666666666666,
             "#ed7953"
            ],
            [
             0.7777777777777778,
             "#fb9f3a"
            ],
            [
             0.8888888888888888,
             "#fdca26"
            ],
            [
             1,
             "#f0f921"
            ]
           ],
           "sequentialminus": [
            [
             0,
             "#0d0887"
            ],
            [
             0.1111111111111111,
             "#46039f"
            ],
            [
             0.2222222222222222,
             "#7201a8"
            ],
            [
             0.3333333333333333,
             "#9c179e"
            ],
            [
             0.4444444444444444,
             "#bd3786"
            ],
            [
             0.5555555555555556,
             "#d8576b"
            ],
            [
             0.6666666666666666,
             "#ed7953"
            ],
            [
             0.7777777777777778,
             "#fb9f3a"
            ],
            [
             0.8888888888888888,
             "#fdca26"
            ],
            [
             1,
             "#f0f921"
            ]
           ]
          },
          "colorway": [
           "#636efa",
           "#EF553B",
           "#00cc96",
           "#ab63fa",
           "#FFA15A",
           "#19d3f3",
           "#FF6692",
           "#B6E880",
           "#FF97FF",
           "#FECB52"
          ],
          "font": {
           "color": "#2a3f5f"
          },
          "geo": {
           "bgcolor": "white",
           "lakecolor": "white",
           "landcolor": "#E5ECF6",
           "showlakes": true,
           "showland": true,
           "subunitcolor": "white"
          },
          "hoverlabel": {
           "align": "left"
          },
          "hovermode": "closest",
          "mapbox": {
           "style": "light"
          },
          "paper_bgcolor": "white",
          "plot_bgcolor": "#E5ECF6",
          "polar": {
           "angularaxis": {
            "gridcolor": "white",
            "linecolor": "white",
            "ticks": ""
           },
           "bgcolor": "#E5ECF6",
           "radialaxis": {
            "gridcolor": "white",
            "linecolor": "white",
            "ticks": ""
           }
          },
          "scene": {
           "xaxis": {
            "backgroundcolor": "#E5ECF6",
            "gridcolor": "white",
            "gridwidth": 2,
            "linecolor": "white",
            "showbackground": true,
            "ticks": "",
            "zerolinecolor": "white"
           },
           "yaxis": {
            "backgroundcolor": "#E5ECF6",
            "gridcolor": "white",
            "gridwidth": 2,
            "linecolor": "white",
            "showbackground": true,
            "ticks": "",
            "zerolinecolor": "white"
           },
           "zaxis": {
            "backgroundcolor": "#E5ECF6",
            "gridcolor": "white",
            "gridwidth": 2,
            "linecolor": "white",
            "showbackground": true,
            "ticks": "",
            "zerolinecolor": "white"
           }
          },
          "shapedefaults": {
           "line": {
            "color": "#2a3f5f"
           }
          },
          "ternary": {
           "aaxis": {
            "gridcolor": "white",
            "linecolor": "white",
            "ticks": ""
           },
           "baxis": {
            "gridcolor": "white",
            "linecolor": "white",
            "ticks": ""
           },
           "bgcolor": "#E5ECF6",
           "caxis": {
            "gridcolor": "white",
            "linecolor": "white",
            "ticks": ""
           }
          },
          "title": {
           "x": 0.05
          },
          "xaxis": {
           "automargin": true,
           "gridcolor": "white",
           "linecolor": "white",
           "ticks": "",
           "title": {
            "standoff": 15
           },
           "zerolinecolor": "white",
           "zerolinewidth": 2
          },
          "yaxis": {
           "automargin": true,
           "gridcolor": "white",
           "linecolor": "white",
           "ticks": "",
           "title": {
            "standoff": 15
           },
           "zerolinecolor": "white",
           "zerolinewidth": 2
          }
         }
        },
        "title": {
         "text": "Milk produce across the European continent in 2020"
        }
       }
      },
      "text/html": [
       "<div>                            <div id=\"1d22db70-b894-4d07-a797-cf2cf8246a02\" class=\"plotly-graph-div\" style=\"height:525px; width:100%;\"></div>            <script type=\"text/javascript\">                require([\"plotly\"], function(Plotly) {                    window.PLOTLYENV=window.PLOTLYENV || {};                                    if (document.getElementById(\"1d22db70-b894-4d07-a797-cf2cf8246a02\")) {                    Plotly.newPlot(                        \"1d22db70-b894-4d07-a797-cf2cf8246a02\",                        [{\"coloraxis\":\"coloraxis\",\"geo\":\"geo\",\"hovertemplate\":\"<b>%{hovertext}</b><br><br>code=%{location}<br>number=%{z}<extra></extra>\",\"hovertext\":[\"Denmark\",\"Spain\",\"Germany \",\"France\",\"Italy\",\"Romania\",\"Ireland\"],\"locations\":[\"DNK\",\"ESP\",\"DEU\",\"FRA\",\"ITA\",\"ROU\",\"IRL\"],\"name\":\"\",\"z\":[508,3505,4635,3050,2449,357,549],\"type\":\"choropleth\"}],                        {\"template\":{\"data\":{\"histogram2dcontour\":[{\"type\":\"histogram2dcontour\",\"colorbar\":{\"outlinewidth\":0,\"ticks\":\"\"},\"colorscale\":[[0.0,\"#0d0887\"],[0.1111111111111111,\"#46039f\"],[0.2222222222222222,\"#7201a8\"],[0.3333333333333333,\"#9c179e\"],[0.4444444444444444,\"#bd3786\"],[0.5555555555555556,\"#d8576b\"],[0.6666666666666666,\"#ed7953\"],[0.7777777777777778,\"#fb9f3a\"],[0.8888888888888888,\"#fdca26\"],[1.0,\"#f0f921\"]]}],\"choropleth\":[{\"type\":\"choropleth\",\"colorbar\":{\"outlinewidth\":0,\"ticks\":\"\"}}],\"histogram2d\":[{\"type\":\"histogram2d\",\"colorbar\":{\"outlinewidth\":0,\"ticks\":\"\"},\"colorscale\":[[0.0,\"#0d0887\"],[0.1111111111111111,\"#46039f\"],[0.2222222222222222,\"#7201a8\"],[0.3333333333333333,\"#9c179e\"],[0.4444444444444444,\"#bd3786\"],[0.5555555555555556,\"#d8576b\"],[0.6666666666666666,\"#ed7953\"],[0.7777777777777778,\"#fb9f3a\"],[0.8888888888888888,\"#fdca26\"],[1.0,\"#f0f921\"]]}],\"heatmap\":[{\"type\":\"heatmap\",\"colorbar\":{\"outlinewidth\":0,\"ticks\":\"\"},\"colorscale\":[[0.0,\"#0d0887\"],[0.1111111111111111,\"#46039f\"],[0.2222222222222222,\"#7201a8\"],[0.3333333333333333,\"#9c179e\"],[0.4444444444444444,\"#bd3786\"],[0.5555555555555556,\"#d8576b\"],[0.6666666666666666,\"#ed7953\"],[0.7777777777777778,\"#fb9f3a\"],[0.8888888888888888,\"#fdca26\"],[1.0,\"#f0f921\"]]}],\"heatmapgl\":[{\"type\":\"heatmapgl\",\"colorbar\":{\"outlinewidth\":0,\"ticks\":\"\"},\"colorscale\":[[0.0,\"#0d0887\"],[0.1111111111111111,\"#46039f\"],[0.2222222222222222,\"#7201a8\"],[0.3333333333333333,\"#9c179e\"],[0.4444444444444444,\"#bd3786\"],[0.5555555555555556,\"#d8576b\"],[0.6666666666666666,\"#ed7953\"],[0.7777777777777778,\"#fb9f3a\"],[0.8888888888888888,\"#fdca26\"],[1.0,\"#f0f921\"]]}],\"contourcarpet\":[{\"type\":\"contourcarpet\",\"colorbar\":{\"outlinewidth\":0,\"ticks\":\"\"}}],\"contour\":[{\"type\":\"contour\",\"colorbar\":{\"outlinewidth\":0,\"ticks\":\"\"},\"colorscale\":[[0.0,\"#0d0887\"],[0.1111111111111111,\"#46039f\"],[0.2222222222222222,\"#7201a8\"],[0.3333333333333333,\"#9c179e\"],[0.4444444444444444,\"#bd3786\"],[0.5555555555555556,\"#d8576b\"],[0.6666666666666666,\"#ed7953\"],[0.7777777777777778,\"#fb9f3a\"],[0.8888888888888888,\"#fdca26\"],[1.0,\"#f0f921\"]]}],\"surface\":[{\"type\":\"surface\",\"colorbar\":{\"outlinewidth\":0,\"ticks\":\"\"},\"colorscale\":[[0.0,\"#0d0887\"],[0.1111111111111111,\"#46039f\"],[0.2222222222222222,\"#7201a8\"],[0.3333333333333333,\"#9c179e\"],[0.4444444444444444,\"#bd3786\"],[0.5555555555555556,\"#d8576b\"],[0.6666666666666666,\"#ed7953\"],[0.7777777777777778,\"#fb9f3a\"],[0.8888888888888888,\"#fdca26\"],[1.0,\"#f0f921\"]]}],\"mesh3d\":[{\"type\":\"mesh3d\",\"colorbar\":{\"outlinewidth\":0,\"ticks\":\"\"}}],\"scatter\":[{\"fillpattern\":{\"fillmode\":\"overlay\",\"size\":10,\"solidity\":0.2},\"type\":\"scatter\"}],\"parcoords\":[{\"type\":\"parcoords\",\"line\":{\"colorbar\":{\"outlinewidth\":0,\"ticks\":\"\"}}}],\"scatterpolargl\":[{\"type\":\"scatterpolargl\",\"marker\":{\"colorbar\":{\"outlinewidth\":0,\"ticks\":\"\"}}}],\"bar\":[{\"error_x\":{\"color\":\"#2a3f5f\"},\"error_y\":{\"color\":\"#2a3f5f\"},\"marker\":{\"line\":{\"color\":\"#E5ECF6\",\"width\":0.5},\"pattern\":{\"fillmode\":\"overlay\",\"size\":10,\"solidity\":0.2}},\"type\":\"bar\"}],\"scattergeo\":[{\"type\":\"scattergeo\",\"marker\":{\"colorbar\":{\"outlinewidth\":0,\"ticks\":\"\"}}}],\"scatterpolar\":[{\"type\":\"scatterpolar\",\"marker\":{\"colorbar\":{\"outlinewidth\":0,\"ticks\":\"\"}}}],\"histogram\":[{\"marker\":{\"pattern\":{\"fillmode\":\"overlay\",\"size\":10,\"solidity\":0.2}},\"type\":\"histogram\"}],\"scattergl\":[{\"type\":\"scattergl\",\"marker\":{\"colorbar\":{\"outlinewidth\":0,\"ticks\":\"\"}}}],\"scatter3d\":[{\"type\":\"scatter3d\",\"line\":{\"colorbar\":{\"outlinewidth\":0,\"ticks\":\"\"}},\"marker\":{\"colorbar\":{\"outlinewidth\":0,\"ticks\":\"\"}}}],\"scattermapbox\":[{\"type\":\"scattermapbox\",\"marker\":{\"colorbar\":{\"outlinewidth\":0,\"ticks\":\"\"}}}],\"scatterternary\":[{\"type\":\"scatterternary\",\"marker\":{\"colorbar\":{\"outlinewidth\":0,\"ticks\":\"\"}}}],\"scattercarpet\":[{\"type\":\"scattercarpet\",\"marker\":{\"colorbar\":{\"outlinewidth\":0,\"ticks\":\"\"}}}],\"carpet\":[{\"aaxis\":{\"endlinecolor\":\"#2a3f5f\",\"gridcolor\":\"white\",\"linecolor\":\"white\",\"minorgridcolor\":\"white\",\"startlinecolor\":\"#2a3f5f\"},\"baxis\":{\"endlinecolor\":\"#2a3f5f\",\"gridcolor\":\"white\",\"linecolor\":\"white\",\"minorgridcolor\":\"white\",\"startlinecolor\":\"#2a3f5f\"},\"type\":\"carpet\"}],\"table\":[{\"cells\":{\"fill\":{\"color\":\"#EBF0F8\"},\"line\":{\"color\":\"white\"}},\"header\":{\"fill\":{\"color\":\"#C8D4E3\"},\"line\":{\"color\":\"white\"}},\"type\":\"table\"}],\"barpolar\":[{\"marker\":{\"line\":{\"color\":\"#E5ECF6\",\"width\":0.5},\"pattern\":{\"fillmode\":\"overlay\",\"size\":10,\"solidity\":0.2}},\"type\":\"barpolar\"}],\"pie\":[{\"automargin\":true,\"type\":\"pie\"}]},\"layout\":{\"autotypenumbers\":\"strict\",\"colorway\":[\"#636efa\",\"#EF553B\",\"#00cc96\",\"#ab63fa\",\"#FFA15A\",\"#19d3f3\",\"#FF6692\",\"#B6E880\",\"#FF97FF\",\"#FECB52\"],\"font\":{\"color\":\"#2a3f5f\"},\"hovermode\":\"closest\",\"hoverlabel\":{\"align\":\"left\"},\"paper_bgcolor\":\"white\",\"plot_bgcolor\":\"#E5ECF6\",\"polar\":{\"bgcolor\":\"#E5ECF6\",\"angularaxis\":{\"gridcolor\":\"white\",\"linecolor\":\"white\",\"ticks\":\"\"},\"radialaxis\":{\"gridcolor\":\"white\",\"linecolor\":\"white\",\"ticks\":\"\"}},\"ternary\":{\"bgcolor\":\"#E5ECF6\",\"aaxis\":{\"gridcolor\":\"white\",\"linecolor\":\"white\",\"ticks\":\"\"},\"baxis\":{\"gridcolor\":\"white\",\"linecolor\":\"white\",\"ticks\":\"\"},\"caxis\":{\"gridcolor\":\"white\",\"linecolor\":\"white\",\"ticks\":\"\"}},\"coloraxis\":{\"colorbar\":{\"outlinewidth\":0,\"ticks\":\"\"}},\"colorscale\":{\"sequential\":[[0.0,\"#0d0887\"],[0.1111111111111111,\"#46039f\"],[0.2222222222222222,\"#7201a8\"],[0.3333333333333333,\"#9c179e\"],[0.4444444444444444,\"#bd3786\"],[0.5555555555555556,\"#d8576b\"],[0.6666666666666666,\"#ed7953\"],[0.7777777777777778,\"#fb9f3a\"],[0.8888888888888888,\"#fdca26\"],[1.0,\"#f0f921\"]],\"sequentialminus\":[[0.0,\"#0d0887\"],[0.1111111111111111,\"#46039f\"],[0.2222222222222222,\"#7201a8\"],[0.3333333333333333,\"#9c179e\"],[0.4444444444444444,\"#bd3786\"],[0.5555555555555556,\"#d8576b\"],[0.6666666666666666,\"#ed7953\"],[0.7777777777777778,\"#fb9f3a\"],[0.8888888888888888,\"#fdca26\"],[1.0,\"#f0f921\"]],\"diverging\":[[0,\"#8e0152\"],[0.1,\"#c51b7d\"],[0.2,\"#de77ae\"],[0.3,\"#f1b6da\"],[0.4,\"#fde0ef\"],[0.5,\"#f7f7f7\"],[0.6,\"#e6f5d0\"],[0.7,\"#b8e186\"],[0.8,\"#7fbc41\"],[0.9,\"#4d9221\"],[1,\"#276419\"]]},\"xaxis\":{\"gridcolor\":\"white\",\"linecolor\":\"white\",\"ticks\":\"\",\"title\":{\"standoff\":15},\"zerolinecolor\":\"white\",\"automargin\":true,\"zerolinewidth\":2},\"yaxis\":{\"gridcolor\":\"white\",\"linecolor\":\"white\",\"ticks\":\"\",\"title\":{\"standoff\":15},\"zerolinecolor\":\"white\",\"automargin\":true,\"zerolinewidth\":2},\"scene\":{\"xaxis\":{\"backgroundcolor\":\"#E5ECF6\",\"gridcolor\":\"white\",\"linecolor\":\"white\",\"showbackground\":true,\"ticks\":\"\",\"zerolinecolor\":\"white\",\"gridwidth\":2},\"yaxis\":{\"backgroundcolor\":\"#E5ECF6\",\"gridcolor\":\"white\",\"linecolor\":\"white\",\"showbackground\":true,\"ticks\":\"\",\"zerolinecolor\":\"white\",\"gridwidth\":2},\"zaxis\":{\"backgroundcolor\":\"#E5ECF6\",\"gridcolor\":\"white\",\"linecolor\":\"white\",\"showbackground\":true,\"ticks\":\"\",\"zerolinecolor\":\"white\",\"gridwidth\":2}},\"shapedefaults\":{\"line\":{\"color\":\"#2a3f5f\"}},\"annotationdefaults\":{\"arrowcolor\":\"#2a3f5f\",\"arrowhead\":0,\"arrowwidth\":1},\"geo\":{\"bgcolor\":\"white\",\"landcolor\":\"#E5ECF6\",\"subunitcolor\":\"white\",\"showland\":true,\"showlakes\":true,\"lakecolor\":\"white\"},\"title\":{\"x\":0.05},\"mapbox\":{\"style\":\"light\"}}},\"geo\":{\"domain\":{\"x\":[0.0,1.0],\"y\":[0.0,1.0]},\"center\":{},\"scope\":\"europe\"},\"coloraxis\":{\"colorbar\":{\"title\":{\"text\":\"number\"}},\"colorscale\":[[0.0,\"rgb(36, 86, 104)\"],[0.16666666666666666,\"rgb(15, 114, 121)\"],[0.3333333333333333,\"rgb(13, 143, 129)\"],[0.5,\"rgb(57, 171, 126)\"],[0.6666666666666666,\"rgb(110, 197, 116)\"],[0.8333333333333334,\"rgb(169, 220, 103)\"],[1.0,\"rgb(237, 239, 93)\"]]},\"legend\":{\"tracegroupgap\":0},\"margin\":{\"t\":60},\"title\":{\"text\":\"Milk produce across the European continent in 2020\"}},                        {\"responsive\": true}                    ).then(function(){\n",
       "                            \n",
       "var gd = document.getElementById('1d22db70-b894-4d07-a797-cf2cf8246a02');\n",
       "var x = new MutationObserver(function (mutations, observer) {{\n",
       "        var display = window.getComputedStyle(gd).display;\n",
       "        if (!display || display === 'none') {{\n",
       "            console.log([gd, 'removed!']);\n",
       "            Plotly.purge(gd);\n",
       "            observer.disconnect();\n",
       "        }}\n",
       "}});\n",
       "\n",
       "// Listen for the removal of the full notebook cells\n",
       "var notebookContainer = gd.closest('#notebook-container');\n",
       "if (notebookContainer) {{\n",
       "    x.observe(notebookContainer, {childList: true});\n",
       "}}\n",
       "\n",
       "// Listen for the clearing of the current output cell\n",
       "var outputEl = gd.closest('.output');\n",
       "if (outputEl) {{\n",
       "    x.observe(outputEl, {childList: true});\n",
       "}}\n",
       "\n",
       "                        })                };                });            </script>        </div>"
      ]
     },
     "metadata": {},
     "output_type": "display_data"
    }
   ],
   "source": [
    "\n",
    "import plotly.express as px\n",
    "fig = px.choropleth(df_eumilk_produce2020melt2,\n",
    "                    locations=\"code\", \n",
    "# colunm containing ISO 3166 country codes\n",
    "                    color=\"number\", \n",
    "# column by which to color-code\n",
    "                    hover_name=\"country\", # column to display in hover information\n",
    "                 color_continuous_scale=px.colors.sequential.Aggrnyl)\n",
    "fig.update_layout(\n",
    "    # add a title text for the plot\n",
    "    title_text = 'Milk produce across the European continent in 2020',\n",
    "    geo_scope = 'europe' \n",
    "\n",
    ")\n",
    "fig.show()\n"
   ]
  },
  {
   "cell_type": "code",
   "execution_count": 151,
   "id": "68bccf78",
   "metadata": {},
   "outputs": [
    {
     "data": {
      "text/html": [
       "<div>\n",
       "<style scoped>\n",
       "    .dataframe tbody tr th:only-of-type {\n",
       "        vertical-align: middle;\n",
       "    }\n",
       "\n",
       "    .dataframe tbody tr th {\n",
       "        vertical-align: top;\n",
       "    }\n",
       "\n",
       "    .dataframe thead th {\n",
       "        text-align: right;\n",
       "    }\n",
       "</style>\n",
       "<table border=\"1\" class=\"dataframe\">\n",
       "  <thead>\n",
       "    <tr style=\"text-align: right;\">\n",
       "      <th></th>\n",
       "      <th>country</th>\n",
       "      <th>2010</th>\n",
       "      <th>2011</th>\n",
       "      <th>2012</th>\n",
       "      <th>2013</th>\n",
       "      <th>2014</th>\n",
       "      <th>2015</th>\n",
       "      <th>2016</th>\n",
       "      <th>2017</th>\n",
       "      <th>2018</th>\n",
       "      <th>2019</th>\n",
       "      <th>2020</th>\n",
       "      <th>2021e</th>\n",
       "    </tr>\n",
       "  </thead>\n",
       "  <tbody>\n",
       "    <tr>\n",
       "      <th>3</th>\n",
       "      <td>Denmark</td>\n",
       "      <td>292</td>\n",
       "      <td>276</td>\n",
       "      <td>300</td>\n",
       "      <td>325</td>\n",
       "      <td>369</td>\n",
       "      <td>391</td>\n",
       "      <td>443</td>\n",
       "      <td>447</td>\n",
       "      <td>452</td>\n",
       "      <td>457</td>\n",
       "      <td>468</td>\n",
       "      <td>455</td>\n",
       "    </tr>\n",
       "    <tr>\n",
       "      <th>8</th>\n",
       "      <td>Spain</td>\n",
       "      <td>302</td>\n",
       "      <td>307 e</td>\n",
       "      <td>316 e</td>\n",
       "      <td>315 e</td>\n",
       "      <td>388 e</td>\n",
       "      <td>452</td>\n",
       "      <td>461</td>\n",
       "      <td>481 e</td>\n",
       "      <td>475 e</td>\n",
       "      <td>442 e</td>\n",
       "      <td>472 e</td>\n",
       "      <td>548 e</td>\n",
       "    </tr>\n",
       "    <tr>\n",
       "      <th>4</th>\n",
       "      <td>Germany</td>\n",
       "      <td>2,083</td>\n",
       "      <td>2,111</td>\n",
       "      <td>2,161</td>\n",
       "      <td>2,226 b</td>\n",
       "      <td>2,276</td>\n",
       "      <td>2,238</td>\n",
       "      <td>2,234</td>\n",
       "      <td>2,217</td>\n",
       "      <td>2,246</td>\n",
       "      <td>2,297</td>\n",
       "      <td>2,355</td>\n",
       "      <td>2,361</td>\n",
       "    </tr>\n",
       "    <tr>\n",
       "      <th>9</th>\n",
       "      <td>France</td>\n",
       "      <td>1,913</td>\n",
       "      <td>1,923</td>\n",
       "      <td>1,928</td>\n",
       "      <td>1,947</td>\n",
       "      <td>1,946</td>\n",
       "      <td>1,950</td>\n",
       "      <td>1,919</td>\n",
       "      <td>1,920</td>\n",
       "      <td>1,908</td>\n",
       "      <td>1,903</td>\n",
       "      <td>1,841</td>\n",
       "      <td>1,856</td>\n",
       "    </tr>\n",
       "    <tr>\n",
       "      <th>11</th>\n",
       "      <td>Italy</td>\n",
       "      <td>1,177</td>\n",
       "      <td>1,171</td>\n",
       "      <td>1,204</td>\n",
       "      <td>1,158</td>\n",
       "      <td>1,176</td>\n",
       "      <td>1,207</td>\n",
       "      <td>1,232</td>\n",
       "      <td>1,261</td>\n",
       "      <td>1,308</td>\n",
       "      <td>1,327</td>\n",
       "      <td>1,345</td>\n",
       "      <td>1,374</td>\n",
       "    </tr>\n",
       "    <tr>\n",
       "      <th>22</th>\n",
       "      <td>Romania</td>\n",
       "      <td>64</td>\n",
       "      <td>61</td>\n",
       "      <td>67</td>\n",
       "      <td>70</td>\n",
       "      <td>75</td>\n",
       "      <td>82 e</td>\n",
       "      <td>88 e</td>\n",
       "      <td>91 e</td>\n",
       "      <td>96 e</td>\n",
       "      <td>96 e</td>\n",
       "      <td>97 e</td>\n",
       "      <td>99 e</td>\n",
       "    </tr>\n",
       "    <tr>\n",
       "      <th>6</th>\n",
       "      <td>Ireland</td>\n",
       "      <td>172</td>\n",
       "      <td>180</td>\n",
       "      <td>186</td>\n",
       "      <td>183</td>\n",
       "      <td>188 e</td>\n",
       "      <td>207 e</td>\n",
       "      <td>206 e</td>\n",
       "      <td>220</td>\n",
       "      <td>225</td>\n",
       "      <td>278</td>\n",
       "      <td>285</td>\n",
       "      <td>287</td>\n",
       "    </tr>\n",
       "  </tbody>\n",
       "</table>\n",
       "</div>"
      ],
      "text/plain": [
       "     country   2010   2011   2012     2013   2014   2015   2016   2017   2018  \\\n",
       "3    Denmark    292    276    300      325    369    391    443    447    452   \n",
       "8      Spain    302  307 e  316 e    315 e  388 e    452    461  481 e  475 e   \n",
       "4   Germany   2,083  2,111  2,161  2,226 b  2,276  2,238  2,234  2,217  2,246   \n",
       "9     France  1,913  1,923  1,928    1,947  1,946  1,950  1,919  1,920  1,908   \n",
       "11     Italy  1,177  1,171  1,204    1,158  1,176  1,207  1,232  1,261  1,308   \n",
       "22   Romania     64     61     67       70     75   82 e   88 e   91 e   96 e   \n",
       "6    Ireland    172    180    186      183  188 e  207 e  206 e    220    225   \n",
       "\n",
       "     2019   2020  2021e  \n",
       "3     457    468    455  \n",
       "8   442 e  472 e  548 e  \n",
       "4   2,297  2,355  2,361  \n",
       "9   1,903  1,841  1,856  \n",
       "11  1,327  1,345  1,374  \n",
       "22   96 e   97 e   99 e  \n",
       "6     278    285    287  "
      ]
     },
     "execution_count": 151,
     "metadata": {},
     "output_type": "execute_result"
    }
   ],
   "source": [
    "df_eucheese_produce2020"
   ]
  },
  {
   "cell_type": "code",
   "execution_count": 185,
   "id": "bf1e234e",
   "metadata": {},
   "outputs": [],
   "source": [
    "#dropping first and 3rd columns\n",
    "#df_eucheese_produce9021.drop(columns=[\"ID\",'code'], inplace=True) #dropping columns\n",
    "df_eucheese_produce2020=df_eucheese_produce9021.iloc[[3,8,4,9,11,22,6],[1,2,23,24,25,26,27,28,29,30,31,32,33,34]] \n",
    "df_eucheese_produce2020\n",
    "#melting data\n",
    "xdf_eucheese_produce2020=df_eucheese_produce2020[['country','code','2010','2011','2012','2013','2014','2015','2016','2017','2018','2019','2020']]\n",
    "xdf_eucheese_produce2020.head()\n",
    "#melting data for graph\n",
    "df_eucheese_produce2020melt = pd.melt(xdf_eucheese_produce2020, id_vars=['country','code'],  value_vars=['2010','2011','2012','2013','2014','2015','2016','2017','2018','2019','2020'], var_name='year',value_name='number')\n",
    "df_eucheese_produce2020melt.head()\n",
    "#cleaning\n",
    "df_eucheese_produce2020melt=df_eucheese_produce2020melt.replace(',','',regex=True)#removal of special characters\n",
    "df_eucheese_produce2020melt=df_eucheese_produce2020melt.replace('e','',regex=True)#removal of special characters, e=estimate\n",
    "df_eucheese_produce2020melt=df_eucheese_produce2020melt.replace('b','',regex=True)#removal of special characters\n",
    "df_eucheese_produce2020melt['number']=df_eucheese_produce2020melt['number'].astype(int)"
   ]
  },
  {
   "cell_type": "code",
   "execution_count": 186,
   "id": "bb68db46",
   "metadata": {},
   "outputs": [
    {
     "data": {
      "image/png": "[encoded data removed]",
      "text/plain": [
       "<Figure size 640x480 with 1 Axes>"
      ]
     },
     "metadata": {},
     "output_type": "display_data"
    }
   ],
   "source": [
    "chart=sns.barplot(x = \"year\", y = \"number\", hue = \"country\", data = df_eucheese_produce2020melt,ci = \"sd\",palette='Spectral');\n",
    "#rotating ax tick labels to fit\n",
    "sns.set(style='darkgrid', context='talk') \n",
    "sequential_colors = sns.color_palette(\"Set2\", 10)\n",
    "chart.set_xticklabels(chart.get_xticklabels(), rotation=45, horizontalalignment='center')\n",
    "fontsize=1\n",
    "plt.legend(title='Cheese product in thousand tonnes by country', fontsize=fontsize)\n",
    "sns.move_legend(chart, \"center right\",bbox_to_anchor=(1.7, 1.2),frameon=True,ncol=7 )\n",
    "\n",
    "plt.show()\n",
    "#ireland 2nd highest again, less than 500,000 tonnes per year. Highest are germany and france"
   ]
  },
  {
   "cell_type": "code",
   "execution_count": 187,
   "id": "a17db9cc",
   "metadata": {},
   "outputs": [],
   "source": [
    "df_eubutter_produce2020=df_eubutter_produce9021.iloc[[3,8,4,9,11,22,6],[1,2,23,24,25,26,27,28,29,30,31,32,33,34]] \n",
    "df_eubutter_produce2020\n",
    "#melting data\n",
    "xdf_eubutter_produce2020=df_eubutter_produce2020[['country','code','2010','2011','2012','2013','2014','2015','2016','2017','2018','2019','2020']]\n",
    "xdf_eubutter_produce2020.head()\n",
    "#melting data for graph\n",
    "df_eubutter_produce2020melt = pd.melt(xdf_eubutter_produce2020, id_vars=['country','code'],  value_vars=['2010','2011','2012','2013','2014','2015','2016','2017','2018','2019','2020'], var_name='year',value_name='number')\n",
    "df_eubutter_produce2020melt.head()\n",
    "#cleaning\n",
    "df_eubutter_produce2020melt=df_eubutter_produce2020melt.replace(',','',regex=True)#removal of special characters\n",
    "df_eubutter_produce2020melt=df_eubutter_produce2020melt.replace('e','',regex=True)#removal of special characters, e=estimate\n",
    "df_eubutter_produce2020melt=df_eubutter_produce2020melt.replace('b','',regex=True)#removal of special characters\n",
    "df_eubutter_produce2020melt['number']=df_eubutter_produce2020melt['number'].astype(int)"
   ]
  },
  {
   "cell_type": "code",
   "execution_count": 182,
   "id": "f3484218",
   "metadata": {},
   "outputs": [
    {
     "data": {
      "text/html": [
       "<div>\n",
       "<style scoped>\n",
       "    .dataframe tbody tr th:only-of-type {\n",
       "        vertical-align: middle;\n",
       "    }\n",
       "\n",
       "    .dataframe tbody tr th {\n",
       "        vertical-align: top;\n",
       "    }\n",
       "\n",
       "    .dataframe thead th {\n",
       "        text-align: right;\n",
       "    }\n",
       "</style>\n",
       "<table border=\"1\" class=\"dataframe\">\n",
       "  <thead>\n",
       "    <tr style=\"text-align: right;\">\n",
       "      <th></th>\n",
       "      <th>country</th>\n",
       "      <th>code</th>\n",
       "      <th>year</th>\n",
       "      <th>number</th>\n",
       "    </tr>\n",
       "  </thead>\n",
       "  <tbody>\n",
       "    <tr>\n",
       "      <th>0</th>\n",
       "      <td>Dnmark</td>\n",
       "      <td>DK</td>\n",
       "      <td>2010</td>\n",
       "      <td>115</td>\n",
       "    </tr>\n",
       "    <tr>\n",
       "      <th>1</th>\n",
       "      <td>Spain</td>\n",
       "      <td>ES</td>\n",
       "      <td>2010</td>\n",
       "      <td>38</td>\n",
       "    </tr>\n",
       "    <tr>\n",
       "      <th>2</th>\n",
       "      <td>Grmany</td>\n",
       "      <td>DE</td>\n",
       "      <td>2010</td>\n",
       "      <td>449</td>\n",
       "    </tr>\n",
       "    <tr>\n",
       "      <th>3</th>\n",
       "      <td>Franc</td>\n",
       "      <td>FR</td>\n",
       "      <td>2010</td>\n",
       "      <td>411</td>\n",
       "    </tr>\n",
       "    <tr>\n",
       "      <th>4</th>\n",
       "      <td>Italy</td>\n",
       "      <td>IT</td>\n",
       "      <td>2010</td>\n",
       "      <td>108</td>\n",
       "    </tr>\n",
       "    <tr>\n",
       "      <th>...</th>\n",
       "      <td>...</td>\n",
       "      <td>...</td>\n",
       "      <td>...</td>\n",
       "      <td>...</td>\n",
       "    </tr>\n",
       "    <tr>\n",
       "      <th>72</th>\n",
       "      <td>Grmany</td>\n",
       "      <td>DE</td>\n",
       "      <td>2020</td>\n",
       "      <td>497</td>\n",
       "    </tr>\n",
       "    <tr>\n",
       "      <th>73</th>\n",
       "      <td>Franc</td>\n",
       "      <td>FR</td>\n",
       "      <td>2020</td>\n",
       "      <td>417</td>\n",
       "    </tr>\n",
       "    <tr>\n",
       "      <th>74</th>\n",
       "      <td>Italy</td>\n",
       "      <td>IT</td>\n",
       "      <td>2020</td>\n",
       "      <td>92</td>\n",
       "    </tr>\n",
       "    <tr>\n",
       "      <th>75</th>\n",
       "      <td>Romania</td>\n",
       "      <td>RO</td>\n",
       "      <td>2020</td>\n",
       "      <td>10</td>\n",
       "    </tr>\n",
       "    <tr>\n",
       "      <th>76</th>\n",
       "      <td>Irland</td>\n",
       "      <td>IE</td>\n",
       "      <td>2020</td>\n",
       "      <td>294</td>\n",
       "    </tr>\n",
       "  </tbody>\n",
       "</table>\n",
       "<p>77 rows × 4 columns</p>\n",
       "</div>"
      ],
      "text/plain": [
       "    country code  year  number\n",
       "0    Dnmark   DK  2010     115\n",
       "1     Spain   ES  2010      38\n",
       "2   Grmany    DE  2010     449\n",
       "3     Franc   FR  2010     411\n",
       "4     Italy   IT  2010     108\n",
       "..      ...  ...   ...     ...\n",
       "72  Grmany    DE  2020     497\n",
       "73    Franc   FR  2020     417\n",
       "74    Italy   IT  2020      92\n",
       "75  Romania   RO  2020      10\n",
       "76   Irland   IE  2020     294\n",
       "\n",
       "[77 rows x 4 columns]"
      ]
     },
     "execution_count": 182,
     "metadata": {},
     "output_type": "execute_result"
    }
   ],
   "source": [
    "df_eubutter_produce2020melt"
   ]
  },
  {
   "cell_type": "code",
   "execution_count": 188,
   "id": "304715c2",
   "metadata": {},
   "outputs": [
    {
     "data": {
      "image/png": "[encoded data removed]",
      "text/plain": [
       "<Figure size 640x480 with 1 Axes>"
      ]
     },
     "metadata": {},
     "output_type": "display_data"
    }
   ],
   "source": [
    "chart=sns.barplot(x = \"year\", y = \"number\", hue = \"country\", data = df_eubutter_produce2020melt,ci = \"sd\",palette='Accent');\n",
    "#rotating ax tick labels to fit\n",
    "sns.set(style='darkgrid', context='talk') \n",
    "sequential_colors = sns.color_palette(\"Set1\", 10)\n",
    "chart.set_xticklabels(chart.get_xticklabels(), rotation=45, horizontalalignment='right')\n",
    "fontsize=1\n",
    "plt.legend(title='Butter produce in thousand tonnes by country', fontsize=fontsize)\n",
    "sns.move_legend(chart, \"center right\",bbox_to_anchor=(1.7, 1.2),frameon=True,ncol=7 )\n",
    "\n",
    "plt.show()\n",
    "#ireland 3rd here in butter production. Highest are germany and france. nearly 200,000 tonnes per year produced\n",
    "#increasing trend per year"
   ]
  },
  {
   "cell_type": "code",
   "execution_count": 184,
   "id": "3e813d2d",
   "metadata": {},
   "outputs": [],
   "source": [
    "df_euskimmedmilkpowder_produce2020=df_euskimmedmilkpowder_produce9021.iloc[[3,8,4,9,11,22,6],[1,2,23,24,25,26,27,28,29,30,31,32,33,34]] \n",
    "df_euskimmedmilkpowder_produce2020\n",
    "#melting data\n",
    "xdf_euskimmedmilkpowder_produce2020=df_euskimmedmilkpowder_produce2020[['country','code','2010','2011','2012','2013','2014','2015','2016','2017','2018','2019','2020']]\n",
    "xdf_euskimmedmilkpowder_produce2020.head()\n",
    "#melting data for graph\n",
    "df_euskimmedmilkpowder_produce2020melt = pd.melt(xdf_eubutter_produce2020, id_vars=['country','code'],  value_vars=['2010','2011','2012','2013','2014','2015','2016','2017','2018','2019','2020'], var_name='year',value_name='number')\n",
    "df_euskimmedmilkpowder_produce2020melt.head()\n",
    "#cleaning\n",
    "df_euskimmedmilkpowder_produce2020melt=df_euskimmedmilkpowder_produce2020melt.replace(',','',regex=True)#removal of special characters\n",
    "df_euskimmedmilkpowder_produce2020melt=df_euskimmedmilkpowder_produce2020melt.replace('e','',regex=True)#removal of special characters, e=estimate\n",
    "df_euskimmedmilkpowder_produce2020melt=df_euskimmedmilkpowder_produce2020melt.replace('b','',regex=True)#removal of special characters\n",
    "df_euskimmedmilkpowder_produce2020melt['number']=df_euskimmedmilkpowder_produce2020melt['number'].astype(int)"
   ]
  },
  {
   "cell_type": "code",
   "execution_count": 171,
   "id": "ec53afac",
   "metadata": {},
   "outputs": [
    {
     "data": {
      "image/png": "[encoded data removed]",
      "text/plain": [
       "<Figure size 640x480 with 1 Axes>"
      ]
     },
     "metadata": {},
     "output_type": "display_data"
    }
   ],
   "source": [
    "chart=sns.barplot(x = \"year\", y = \"number\", hue = \"country\", data = df_euskimmedmilkpowder_produce2020melt,ci = \"sd\",palette='Paired');\n",
    "#rotating ax tick labels to fit\n",
    "sns.set(style='darkgrid', context='talk') \n",
    "sequential_colors = sns.color_palette(\"binary\", 10)\n",
    "chart.set_xticklabels(chart.get_xticklabels(), rotation=45, horizontalalignment='right')\n",
    "fontsize=1\n",
    "plt.legend(title='Skimmed milk powder produce in thousand tonnes by country', fontsize=fontsize)\n",
    "sns.move_legend(chart, \"center right\",bbox_to_anchor=(1.7, 1.2),frameon=True,ncol=7 )\n",
    "plt.show()\n",
    "#ireland 3rd here in skimmed milk production. Highest are germany and france. over 200,000 from 2014 tonnes per year produced\n",
    "#increasing trend per year"
   ]
  },
  {
   "cell_type": "code",
   "execution_count": 189,
   "id": "09063dfd",
   "metadata": {},
   "outputs": [
    {
     "data": {
      "text/html": [
       "<div>\n",
       "<style scoped>\n",
       "    .dataframe tbody tr th:only-of-type {\n",
       "        vertical-align: middle;\n",
       "    }\n",
       "\n",
       "    .dataframe tbody tr th {\n",
       "        vertical-align: top;\n",
       "    }\n",
       "\n",
       "    .dataframe thead th {\n",
       "        text-align: right;\n",
       "    }\n",
       "</style>\n",
       "<table border=\"1\" class=\"dataframe\">\n",
       "  <thead>\n",
       "    <tr style=\"text-align: right;\">\n",
       "      <th></th>\n",
       "      <th>country</th>\n",
       "      <th>code</th>\n",
       "      <th>number</th>\n",
       "      <th>year</th>\n",
       "    </tr>\n",
       "  </thead>\n",
       "  <tbody>\n",
       "    <tr>\n",
       "      <th>70</th>\n",
       "      <td>Dnmark</td>\n",
       "      <td>DK</td>\n",
       "      <td>199</td>\n",
       "      <td>2020</td>\n",
       "    </tr>\n",
       "    <tr>\n",
       "      <th>71</th>\n",
       "      <td>Spain</td>\n",
       "      <td>ES</td>\n",
       "      <td>50</td>\n",
       "      <td>2020</td>\n",
       "    </tr>\n",
       "    <tr>\n",
       "      <th>72</th>\n",
       "      <td>Grmany</td>\n",
       "      <td>DE</td>\n",
       "      <td>497</td>\n",
       "      <td>2020</td>\n",
       "    </tr>\n",
       "    <tr>\n",
       "      <th>73</th>\n",
       "      <td>Franc</td>\n",
       "      <td>FR</td>\n",
       "      <td>417</td>\n",
       "      <td>2020</td>\n",
       "    </tr>\n",
       "    <tr>\n",
       "      <th>74</th>\n",
       "      <td>Italy</td>\n",
       "      <td>IT</td>\n",
       "      <td>92</td>\n",
       "      <td>2020</td>\n",
       "    </tr>\n",
       "  </tbody>\n",
       "</table>\n",
       "</div>"
      ],
      "text/plain": [
       "    country code  number  year\n",
       "70   Dnmark   DK     199  2020\n",
       "71    Spain   ES      50  2020\n",
       "72  Grmany    DE     497  2020\n",
       "73    Franc   FR     417  2020\n",
       "74    Italy   IT      92  2020"
      ]
     },
     "execution_count": 189,
     "metadata": {},
     "output_type": "execute_result"
    }
   ],
   "source": [
    "df_eubutter_produce2020melt2=df_eubutter_produce2020melt.loc[(df_eubutter_produce2020melt[\"year\"] == \"2020\"), ['country','code','number','year']]\n",
    "df_eubutter_produce2020melt2.head()"
   ]
  },
  {
   "cell_type": "code",
   "execution_count": 207,
   "id": "6738fccb",
   "metadata": {},
   "outputs": [],
   "source": [
    "#converting codes from Alpha 2 code to alpha 3 code for ISO 3166 country codes\n",
    "\n",
    "df_eubutter_produce2020melt2=df_eubutter_produce2020melt.loc[(df_eubutter_produce2020melt[\"year\"] == \"2020\"), ['country','code','number','year']]\n",
    "df_eubutter_produce2020melt2.head()\n",
    "\n",
    "df_eubutter_produce2020melt\n",
    "#converting codes from Alpha 2 code to alpha 3 code for ISO 3166 country codes\n",
    "df_eubutter_produce2020melt2['code']=df_eubutter_produce2020melt2['code'].replace('IE','IRL')\n",
    "df_eubutter_produce2020melt2['code']=df_eubutter_produce2020melt2['code'].replace('DK','DNK')\n",
    "df_eubutter_produce2020melt2['code']=df_eubutter_produce2020melt2['code'].replace('ES','ESP')\n",
    "df_eubutter_produce2020melt2['code']=df_eubutter_produce2020melt2['code'].replace('FR','FRA')\n",
    "df_eubutter_produce2020melt2['code']=df_eubutter_produce2020melt2['code'].replace('DE','DEU')\n",
    "df_eubutter_produce2020melt2['code']=df_eubutter_produce2020melt2['code'].replace('IT','ITA')\n",
    "df_eubutter_produce2020melt2['code']=df_eubutter_produce2020melt2['code'].replace('RO','ROU')\n",
    "\n",
    "df_eucheese_produce2020melt2=df_eucheese_produce2020melt.loc[(df_eucheese_produce2020melt[\"year\"] == \"2020\"), ['country','code','number','year']]\n",
    "\n",
    "\n",
    "#converting codes from Alpha 2 code to alpha 3 code for ISO 3166 country codes\n",
    "df_eucheese_produce2020melt2['code']=df_eucheese_produce2020melt2['code'].replace('IE','IRL')\n",
    "df_eucheese_produce2020melt2['code']=df_eucheese_produce2020melt2['code'].replace('DK','DNK')\n",
    "df_eucheese_produce2020melt2['code']=df_eucheese_produce2020melt2['code'].replace('ES','ESP')\n",
    "df_eucheese_produce2020melt2['code']=df_eucheese_produce2020melt2['code'].replace('FR','FRA')\n",
    "df_eucheese_produce2020melt2['code']=df_eucheese_produce2020melt2['code'].replace('DE','DEU')\n",
    "df_eucheese_produce2020melt2['code']=df_eucheese_produce2020melt2['code'].replace('IT','ITA')\n",
    "df_eucheese_produce2020melt2['code']=df_eucheese_produce2020melt2['code'].replace('RO','ROU')\n",
    "\n",
    "df_euskimmedmilkpowder_produce2020melt2=df_euskimmedmilkpowder_produce2020melt.loc[(df_euskimmedmilkpowder_produce2020melt[\"year\"] == \"2020\"), ['country','code','number','year']]\n",
    "\n",
    "#converting codes from Alpha 2 code to alpha 3 code for ISO 3166 country codes\n",
    "df_euskimmedmilkpowder_produce2020melt2['code']=df_euskimmedmilkpowder_produce2020melt2['code'].replace('IE','IRL')\n",
    "df_euskimmedmilkpowder_produce2020melt2['code']=df_euskimmedmilkpowder_produce2020melt2['code'].replace('DK','DNK')\n",
    "df_euskimmedmilkpowder_produce2020melt2['code']=df_euskimmedmilkpowder_produce2020melt2['code'].replace('ES','ESP')\n",
    "df_euskimmedmilkpowder_produce2020melt2['code']=df_euskimmedmilkpowder_produce2020melt2['code'].replace('FR','FRA')\n",
    "df_euskimmedmilkpowder_produce2020melt2['code']=df_euskimmedmilkpowder_produce2020melt2['code'].replace('DE','DEU')\n",
    "df_euskimmedmilkpowder_produce2020melt2['code']=df_euskimmedmilkpowder_produce2020melt2['code'].replace('IT','ITA')\n",
    "df_euskimmedmilkpowder_produce2020melt2['code']=df_euskimmedmilkpowder_produce2020melt2['code'].replace('RO','ROU')\n"
   ]
  },
  {
   "cell_type": "code",
   "execution_count": 217,
   "id": "53729d83",
   "metadata": {},
   "outputs": [
    {
     "data": {
      "application/vnd.plotly.v1+json": {
       "config": {
        "plotlyServerURL": "https://plot.ly"
       },
       "data": [
        {
         "coloraxis": "coloraxis",
         "geo": "geo",
         "hovertemplate": "<b>%{hovertext}</b><br><br>code=%{location}<br>number=%{z}<extra></extra>",
         "hovertext": [
          "Dnmark",
          "Spain",
          "Grmany ",
          "Franc",
          "Italy",
          "Romania",
          "Irland"
         ],
         "locations": [
          "DNK",
          "ESP",
          "DEU",
          "FRA",
          "ITA",
          "ROU",
          "IRL"
         ],
         "name": "",
         "type": "choropleth",
         "z": [
          468,
          472,
          2355,
          1841,
          1345,
          97,
          285
         ]
        }
       ],
       "layout": {
        "coloraxis": {
         "colorbar": {
          "title": {
           "text": "number"
          }
         },
         "colorscale": [
          [
           0,
           "rgb(36, 86, 104)"
          ],
          [
           0.16666666666666666,
           "rgb(15, 114, 121)"
          ],
          [
           0.3333333333333333,
           "rgb(13, 143, 129)"
          ],
          [
           0.5,
           "rgb(57, 171, 126)"
          ],
          [
           0.6666666666666666,
           "rgb(110, 197, 116)"
          ],
          [
           0.8333333333333334,
           "rgb(169, 220, 103)"
          ],
          [
           1,
           "rgb(237, 239, 93)"
          ]
         ]
        },
        "geo": {
         "center": {},
         "domain": {
          "x": [
           0,
           1
          ],
          "y": [
           0,
           1
          ]
         },
         "scope": "europe"
        },
        "legend": {
         "tracegroupgap": 0
        },
        "margin": {
         "t": 60
        },
        "template": {
         "data": {
          "bar": [
           {
            "error_x": {
             "color": "#2a3f5f"
            },
            "error_y": {
             "color": "#2a3f5f"
            },
            "marker": {
             "line": {
              "color": "#E5ECF6",
              "width": 0.5
             },
             "pattern": {
              "fillmode": "overlay",
              "size": 10,
              "solidity": 0.2
             }
            },
            "type": "bar"
           }
          ],
          "barpolar": [
           {
            "marker": {
             "line": {
              "color": "#E5ECF6",
              "width": 0.5
             },
             "pattern": {
              "fillmode": "overlay",
              "size": 10,
              "solidity": 0.2
             }
            },
            "type": "barpolar"
           }
          ],
          "carpet": [
           {
            "aaxis": {
             "endlinecolor": "#2a3f5f",
             "gridcolor": "white",
             "linecolor": "white",
             "minorgridcolor": "white",
             "startlinecolor": "#2a3f5f"
            },
            "baxis": {
             "endlinecolor": "#2a3f5f",
             "gridcolor": "white",
             "linecolor": "white",
             "minorgridcolor": "white",
             "startlinecolor": "#2a3f5f"
            },
            "type": "carpet"
           }
          ],
          "choropleth": [
           {
            "colorbar": {
             "outlinewidth": 0,
             "ticks": ""
            },
            "type": "choropleth"
           }
          ],
          "contour": [
           {
            "colorbar": {
             "outlinewidth": 0,
             "ticks": ""
            },
            "colorscale": [
             [
              0,
              "#0d0887"
             ],
             [
              0.1111111111111111,
              "#46039f"
             ],
             [
              0.2222222222222222,
              "#7201a8"
             ],
             [
              0.3333333333333333,
              "#9c179e"
             ],
             [
              0.4444444444444444,
              "#bd3786"
             ],
             [
              0.5555555555555556,
              "#d8576b"
             ],
             [
              0.6666666666666666,
              "#ed7953"
             ],
             [
              0.7777777777777778,
              "#fb9f3a"
             ],
             [
              0.8888888888888888,
              "#fdca26"
             ],
             [
              1,
              "#f0f921"
             ]
            ],
            "type": "contour"
           }
          ],
          "contourcarpet": [
           {
            "colorbar": {
             "outlinewidth": 0,
             "ticks": ""
            },
            "type": "contourcarpet"
           }
          ],
          "heatmap": [
           {
            "colorbar": {
             "outlinewidth": 0,
             "ticks": ""
            },
            "colorscale": [
             [
              0,
              "#0d0887"
             ],
             [
              0.1111111111111111,
              "#46039f"
             ],
             [
              0.2222222222222222,
              "#7201a8"
             ],
             [
              0.3333333333333333,
              "#9c179e"
             ],
             [
              0.4444444444444444,
              "#bd3786"
             ],
             [
              0.5555555555555556,
              "#d8576b"
             ],
             [
              0.6666666666666666,
              "#ed7953"
             ],
             [
              0.7777777777777778,
              "#fb9f3a"
             ],
             [
              0.8888888888888888,
              "#fdca26"
             ],
             [
              1,
              "#f0f921"
             ]
            ],
            "type": "heatmap"
           }
          ],
          "heatmapgl": [
           {
            "colorbar": {
             "outlinewidth": 0,
             "ticks": ""
            },
            "colorscale": [
             [
              0,
              "#0d0887"
             ],
             [
              0.1111111111111111,
              "#46039f"
             ],
             [
              0.2222222222222222,
              "#7201a8"
             ],
             [
              0.3333333333333333,
              "#9c179e"
             ],
             [
              0.4444444444444444,
              "#bd3786"
             ],
             [
              0.5555555555555556,
              "#d8576b"
             ],
             [
              0.6666666666666666,
              "#ed7953"
             ],
             [
              0.7777777777777778,
              "#fb9f3a"
             ],
             [
              0.8888888888888888,
              "#fdca26"
             ],
             [
              1,
              "#f0f921"
             ]
            ],
            "type": "heatmapgl"
           }
          ],
          "histogram": [
           {
            "marker": {
             "pattern": {
              "fillmode": "overlay",
              "size": 10,
              "solidity": 0.2
             }
            },
            "type": "histogram"
           }
          ],
          "histogram2d": [
           {
            "colorbar": {
             "outlinewidth": 0,
             "ticks": ""
            },
            "colorscale": [
             [
              0,
              "#0d0887"
             ],
             [
              0.1111111111111111,
              "#46039f"
             ],
             [
              0.2222222222222222,
              "#7201a8"
             ],
             [
              0.3333333333333333,
              "#9c179e"
             ],
             [
              0.4444444444444444,
              "#bd3786"
             ],
             [
              0.5555555555555556,
              "#d8576b"
             ],
             [
              0.6666666666666666,
              "#ed7953"
             ],
             [
              0.7777777777777778,
              "#fb9f3a"
             ],
             [
              0.8888888888888888,
              "#fdca26"
             ],
             [
              1,
              "#f0f921"
             ]
            ],
            "type": "histogram2d"
           }
          ],
          "histogram2dcontour": [
           {
            "colorbar": {
             "outlinewidth": 0,
             "ticks": ""
            },
            "colorscale": [
             [
              0,
              "#0d0887"
             ],
             [
              0.1111111111111111,
              "#46039f"
             ],
             [
              0.2222222222222222,
              "#7201a8"
             ],
             [
              0.3333333333333333,
              "#9c179e"
             ],
             [
              0.4444444444444444,
              "#bd3786"
             ],
             [
              0.5555555555555556,
              "#d8576b"
             ],
             [
              0.6666666666666666,
              "#ed7953"
             ],
             [
              0.7777777777777778,
              "#fb9f3a"
             ],
             [
              0.8888888888888888,
              "#fdca26"
             ],
             [
              1,
              "#f0f921"
             ]
            ],
            "type": "histogram2dcontour"
           }
          ],
          "mesh3d": [
           {
            "colorbar": {
             "outlinewidth": 0,
             "ticks": ""
            },
            "type": "mesh3d"
           }
          ],
          "parcoords": [
           {
            "line": {
             "colorbar": {
              "outlinewidth": 0,
              "ticks": ""
             }
            },
            "type": "parcoords"
           }
          ],
          "pie": [
           {
            "automargin": true,
            "type": "pie"
           }
          ],
          "scatter": [
           {
            "fillpattern": {
             "fillmode": "overlay",
             "size": 10,
             "solidity": 0.2
            },
            "type": "scatter"
           }
          ],
          "scatter3d": [
           {
            "line": {
             "colorbar": {
              "outlinewidth": 0,
              "ticks": ""
             }
            },
            "marker": {
             "colorbar": {
              "outlinewidth": 0,
              "ticks": ""
             }
            },
            "type": "scatter3d"
           }
          ],
          "scattercarpet": [
           {
            "marker": {
             "colorbar": {
              "outlinewidth": 0,
              "ticks": ""
             }
            },
            "type": "scattercarpet"
           }
          ],
          "scattergeo": [
           {
            "marker": {
             "colorbar": {
              "outlinewidth": 0,
              "ticks": ""
             }
            },
            "type": "scattergeo"
           }
          ],
          "scattergl": [
           {
            "marker": {
             "colorbar": {
              "outlinewidth": 0,
              "ticks": ""
             }
            },
            "type": "scattergl"
           }
          ],
          "scattermapbox": [
           {
            "marker": {
             "colorbar": {
              "outlinewidth": 0,
              "ticks": ""
             }
            },
            "type": "scattermapbox"
           }
          ],
          "scatterpolar": [
           {
            "marker": {
             "colorbar": {
              "outlinewidth": 0,
              "ticks": ""
             }
            },
            "type": "scatterpolar"
           }
          ],
          "scatterpolargl": [
           {
            "marker": {
             "colorbar": {
              "outlinewidth": 0,
              "ticks": ""
             }
            },
            "type": "scatterpolargl"
           }
          ],
          "scatterternary": [
           {
            "marker": {
             "colorbar": {
              "outlinewidth": 0,
              "ticks": ""
             }
            },
            "type": "scatterternary"
           }
          ],
          "surface": [
           {
            "colorbar": {
             "outlinewidth": 0,
             "ticks": ""
            },
            "colorscale": [
             [
              0,
              "#0d0887"
             ],
             [
              0.1111111111111111,
              "#46039f"
             ],
             [
              0.2222222222222222,
              "#7201a8"
             ],
             [
              0.3333333333333333,
              "#9c179e"
             ],
             [
              0.4444444444444444,
              "#bd3786"
             ],
             [
              0.5555555555555556,
              "#d8576b"
             ],
             [
              0.6666666666666666,
              "#ed7953"
             ],
             [
              0.7777777777777778,
              "#fb9f3a"
             ],
             [
              0.8888888888888888,
              "#fdca26"
             ],
             [
              1,
              "#f0f921"
             ]
            ],
            "type": "surface"
           }
          ],
          "table": [
           {
            "cells": {
             "fill": {
              "color": "#EBF0F8"
             },
             "line": {
              "color": "white"
             }
            },
            "header": {
             "fill": {
              "color": "#C8D4E3"
             },
             "line": {
              "color": "white"
             }
            },
            "type": "table"
           }
          ]
         },
         "layout": {
          "annotationdefaults": {
           "arrowcolor": "#2a3f5f",
           "arrowhead": 0,
           "arrowwidth": 1
          },
          "autotypenumbers": "strict",
          "coloraxis": {
           "colorbar": {
            "outlinewidth": 0,
            "ticks": ""
           }
          },
          "colorscale": {
           "diverging": [
            [
             0,
             "#8e0152"
            ],
            [
             0.1,
             "#c51b7d"
            ],
            [
             0.2,
             "#de77ae"
            ],
            [
             0.3,
             "#f1b6da"
            ],
            [
             0.4,
             "#fde0ef"
            ],
            [
             0.5,
             "#f7f7f7"
            ],
            [
             0.6,
             "#e6f5d0"
            ],
            [
             0.7,
             "#b8e186"
            ],
            [
             0.8,
             "#7fbc41"
            ],
            [
             0.9,
             "#4d9221"
            ],
            [
             1,
             "#276419"
            ]
           ],
           "sequential": [
            [
             0,
             "#0d0887"
            ],
            [
             0.1111111111111111,
             "#46039f"
            ],
            [
             0.2222222222222222,
             "#7201a8"
            ],
            [
             0.3333333333333333,
             "#9c179e"
            ],
            [
             0.4444444444444444,
             "#bd3786"
            ],
            [
             0.5555555555555556,
             "#d8576b"
            ],
            [
             0.6666666666666666,
             "#ed7953"
            ],
            [
             0.7777777777777778,
             "#fb9f3a"
            ],
            [
             0.8888888888888888,
             "#fdca26"
            ],
            [
             1,
             "#f0f921"
            ]
           ],
           "sequentialminus": [
            [
             0,
             "#0d0887"
            ],
            [
             0.1111111111111111,
             "#46039f"
            ],
            [
             0.2222222222222222,
             "#7201a8"
            ],
            [
             0.3333333333333333,
             "#9c179e"
            ],
            [
             0.4444444444444444,
             "#bd3786"
            ],
            [
             0.5555555555555556,
             "#d8576b"
            ],
            [
             0.6666666666666666,
             "#ed7953"
            ],
            [
             0.7777777777777778,
             "#fb9f3a"
            ],
            [
             0.8888888888888888,
             "#fdca26"
            ],
            [
             1,
             "#f0f921"
            ]
           ]
          },
          "colorway": [
           "#636efa",
           "#EF553B",
           "#00cc96",
           "#ab63fa",
           "#FFA15A",
           "#19d3f3",
           "#FF6692",
           "#B6E880",
           "#FF97FF",
           "#FECB52"
          ],
          "font": {
           "color": "#2a3f5f"
          },
          "geo": {
           "bgcolor": "white",
           "lakecolor": "white",
           "landcolor": "#E5ECF6",
           "showlakes": true,
           "showland": true,
           "subunitcolor": "white"
          },
          "hoverlabel": {
           "align": "left"
          },
          "hovermode": "closest",
          "mapbox": {
           "style": "light"
          },
          "paper_bgcolor": "white",
          "plot_bgcolor": "#E5ECF6",
          "polar": {
           "angularaxis": {
            "gridcolor": "white",
            "linecolor": "white",
            "ticks": ""
           },
           "bgcolor": "#E5ECF6",
           "radialaxis": {
            "gridcolor": "white",
            "linecolor": "white",
            "ticks": ""
           }
          },
          "scene": {
           "xaxis": {
            "backgroundcolor": "#E5ECF6",
            "gridcolor": "white",
            "gridwidth": 2,
            "linecolor": "white",
            "showbackground": true,
            "ticks": "",
            "zerolinecolor": "white"
           },
           "yaxis": {
            "backgroundcolor": "#E5ECF6",
            "gridcolor": "white",
            "gridwidth": 2,
            "linecolor": "white",
            "showbackground": true,
            "ticks": "",
            "zerolinecolor": "white"
           },
           "zaxis": {
            "backgroundcolor": "#E5ECF6",
            "gridcolor": "white",
            "gridwidth": 2,
            "linecolor": "white",
            "showbackground": true,
            "ticks": "",
            "zerolinecolor": "white"
           }
          },
          "shapedefaults": {
           "line": {
            "color": "#2a3f5f"
           }
          },
          "ternary": {
           "aaxis": {
            "gridcolor": "white",
            "linecolor": "white",
            "ticks": ""
           },
           "baxis": {
            "gridcolor": "white",
            "linecolor": "white",
            "ticks": ""
           },
           "bgcolor": "#E5ECF6",
           "caxis": {
            "gridcolor": "white",
            "linecolor": "white",
            "ticks": ""
           }
          },
          "title": {
           "x": 0.05
          },
          "xaxis": {
           "automargin": true,
           "gridcolor": "white",
           "linecolor": "white",
           "ticks": "",
           "title": {
            "standoff": 15
           },
           "zerolinecolor": "white",
           "zerolinewidth": 2
          },
          "yaxis": {
           "automargin": true,
           "gridcolor": "white",
           "linecolor": "white",
           "ticks": "",
           "title": {
            "standoff": 15
           },
           "zerolinecolor": "white",
           "zerolinewidth": 2
          }
         }
        },
        "title": {
         "text": "Cheese produce across the European continent in 2020"
        }
       }
      },
      "text/html": [
       "<div>                            <div id=\"81350217-7655-4dea-b691-4f0a15bf03e5\" class=\"plotly-graph-div\" style=\"height:525px; width:100%;\"></div>            <script type=\"text/javascript\">                require([\"plotly\"], function(Plotly) {                    window.PLOTLYENV=window.PLOTLYENV || {};                                    if (document.getElementById(\"81350217-7655-4dea-b691-4f0a15bf03e5\")) {                    Plotly.newPlot(                        \"81350217-7655-4dea-b691-4f0a15bf03e5\",                        [{\"coloraxis\":\"coloraxis\",\"geo\":\"geo\",\"hovertemplate\":\"<b>%{hovertext}</b><br><br>code=%{location}<br>number=%{z}<extra></extra>\",\"hovertext\":[\"Dnmark\",\"Spain\",\"Grmany \",\"Franc\",\"Italy\",\"Romania\",\"Irland\"],\"locations\":[\"DNK\",\"ESP\",\"DEU\",\"FRA\",\"ITA\",\"ROU\",\"IRL\"],\"name\":\"\",\"z\":[468,472,2355,1841,1345,97,285],\"type\":\"choropleth\"}],                        {\"template\":{\"data\":{\"histogram2dcontour\":[{\"type\":\"histogram2dcontour\",\"colorbar\":{\"outlinewidth\":0,\"ticks\":\"\"},\"colorscale\":[[0.0,\"#0d0887\"],[0.1111111111111111,\"#46039f\"],[0.2222222222222222,\"#7201a8\"],[0.3333333333333333,\"#9c179e\"],[0.4444444444444444,\"#bd3786\"],[0.5555555555555556,\"#d8576b\"],[0.6666666666666666,\"#ed7953\"],[0.7777777777777778,\"#fb9f3a\"],[0.8888888888888888,\"#fdca26\"],[1.0,\"#f0f921\"]]}],\"choropleth\":[{\"type\":\"choropleth\",\"colorbar\":{\"outlinewidth\":0,\"ticks\":\"\"}}],\"histogram2d\":[{\"type\":\"histogram2d\",\"colorbar\":{\"outlinewidth\":0,\"ticks\":\"\"},\"colorscale\":[[0.0,\"#0d0887\"],[0.1111111111111111,\"#46039f\"],[0.2222222222222222,\"#7201a8\"],[0.3333333333333333,\"#9c179e\"],[0.4444444444444444,\"#bd3786\"],[0.5555555555555556,\"#d8576b\"],[0.6666666666666666,\"#ed7953\"],[0.7777777777777778,\"#fb9f3a\"],[0.8888888888888888,\"#fdca26\"],[1.0,\"#f0f921\"]]}],\"heatmap\":[{\"type\":\"heatmap\",\"colorbar\":{\"outlinewidth\":0,\"ticks\":\"\"},\"colorscale\":[[0.0,\"#0d0887\"],[0.1111111111111111,\"#46039f\"],[0.2222222222222222,\"#7201a8\"],[0.3333333333333333,\"#9c179e\"],[0.4444444444444444,\"#bd3786\"],[0.5555555555555556,\"#d8576b\"],[0.6666666666666666,\"#ed7953\"],[0.7777777777777778,\"#fb9f3a\"],[0.8888888888888888,\"#fdca26\"],[1.0,\"#f0f921\"]]}],\"heatmapgl\":[{\"type\":\"heatmapgl\",\"colorbar\":{\"outlinewidth\":0,\"ticks\":\"\"},\"colorscale\":[[0.0,\"#0d0887\"],[0.1111111111111111,\"#46039f\"],[0.2222222222222222,\"#7201a8\"],[0.3333333333333333,\"#9c179e\"],[0.4444444444444444,\"#bd3786\"],[0.5555555555555556,\"#d8576b\"],[0.6666666666666666,\"#ed7953\"],[0.7777777777777778,\"#fb9f3a\"],[0.8888888888888888,\"#fdca26\"],[1.0,\"#f0f921\"]]}],\"contourcarpet\":[{\"type\":\"contourcarpet\",\"colorbar\":{\"outlinewidth\":0,\"ticks\":\"\"}}],\"contour\":[{\"type\":\"contour\",\"colorbar\":{\"outlinewidth\":0,\"ticks\":\"\"},\"colorscale\":[[0.0,\"#0d0887\"],[0.1111111111111111,\"#46039f\"],[0.2222222222222222,\"#7201a8\"],[0.3333333333333333,\"#9c179e\"],[0.4444444444444444,\"#bd3786\"],[0.5555555555555556,\"#d8576b\"],[0.6666666666666666,\"#ed7953\"],[0.7777777777777778,\"#fb9f3a\"],[0.8888888888888888,\"#fdca26\"],[1.0,\"#f0f921\"]]}],\"surface\":[{\"type\":\"surface\",\"colorbar\":{\"outlinewidth\":0,\"ticks\":\"\"},\"colorscale\":[[0.0,\"#0d0887\"],[0.1111111111111111,\"#46039f\"],[0.2222222222222222,\"#7201a8\"],[0.3333333333333333,\"#9c179e\"],[0.4444444444444444,\"#bd3786\"],[0.5555555555555556,\"#d8576b\"],[0.6666666666666666,\"#ed7953\"],[0.7777777777777778,\"#fb9f3a\"],[0.8888888888888888,\"#fdca26\"],[1.0,\"#f0f921\"]]}],\"mesh3d\":[{\"type\":\"mesh3d\",\"colorbar\":{\"outlinewidth\":0,\"ticks\":\"\"}}],\"scatter\":[{\"fillpattern\":{\"fillmode\":\"overlay\",\"size\":10,\"solidity\":0.2},\"type\":\"scatter\"}],\"parcoords\":[{\"type\":\"parcoords\",\"line\":{\"colorbar\":{\"outlinewidth\":0,\"ticks\":\"\"}}}],\"scatterpolargl\":[{\"type\":\"scatterpolargl\",\"marker\":{\"colorbar\":{\"outlinewidth\":0,\"ticks\":\"\"}}}],\"bar\":[{\"error_x\":{\"color\":\"#2a3f5f\"},\"error_y\":{\"color\":\"#2a3f5f\"},\"marker\":{\"line\":{\"color\":\"#E5ECF6\",\"width\":0.5},\"pattern\":{\"fillmode\":\"overlay\",\"size\":10,\"solidity\":0.2}},\"type\":\"bar\"}],\"scattergeo\":[{\"type\":\"scattergeo\",\"marker\":{\"colorbar\":{\"outlinewidth\":0,\"ticks\":\"\"}}}],\"scatterpolar\":[{\"type\":\"scatterpolar\",\"marker\":{\"colorbar\":{\"outlinewidth\":0,\"ticks\":\"\"}}}],\"histogram\":[{\"marker\":{\"pattern\":{\"fillmode\":\"overlay\",\"size\":10,\"solidity\":0.2}},\"type\":\"histogram\"}],\"scattergl\":[{\"type\":\"scattergl\",\"marker\":{\"colorbar\":{\"outlinewidth\":0,\"ticks\":\"\"}}}],\"scatter3d\":[{\"type\":\"scatter3d\",\"line\":{\"colorbar\":{\"outlinewidth\":0,\"ticks\":\"\"}},\"marker\":{\"colorbar\":{\"outlinewidth\":0,\"ticks\":\"\"}}}],\"scattermapbox\":[{\"type\":\"scattermapbox\",\"marker\":{\"colorbar\":{\"outlinewidth\":0,\"ticks\":\"\"}}}],\"scatterternary\":[{\"type\":\"scatterternary\",\"marker\":{\"colorbar\":{\"outlinewidth\":0,\"ticks\":\"\"}}}],\"scattercarpet\":[{\"type\":\"scattercarpet\",\"marker\":{\"colorbar\":{\"outlinewidth\":0,\"ticks\":\"\"}}}],\"carpet\":[{\"aaxis\":{\"endlinecolor\":\"#2a3f5f\",\"gridcolor\":\"white\",\"linecolor\":\"white\",\"minorgridcolor\":\"white\",\"startlinecolor\":\"#2a3f5f\"},\"baxis\":{\"endlinecolor\":\"#2a3f5f\",\"gridcolor\":\"white\",\"linecolor\":\"white\",\"minorgridcolor\":\"white\",\"startlinecolor\":\"#2a3f5f\"},\"type\":\"carpet\"}],\"table\":[{\"cells\":{\"fill\":{\"color\":\"#EBF0F8\"},\"line\":{\"color\":\"white\"}},\"header\":{\"fill\":{\"color\":\"#C8D4E3\"},\"line\":{\"color\":\"white\"}},\"type\":\"table\"}],\"barpolar\":[{\"marker\":{\"line\":{\"color\":\"#E5ECF6\",\"width\":0.5},\"pattern\":{\"fillmode\":\"overlay\",\"size\":10,\"solidity\":0.2}},\"type\":\"barpolar\"}],\"pie\":[{\"automargin\":true,\"type\":\"pie\"}]},\"layout\":{\"autotypenumbers\":\"strict\",\"colorway\":[\"#636efa\",\"#EF553B\",\"#00cc96\",\"#ab63fa\",\"#FFA15A\",\"#19d3f3\",\"#FF6692\",\"#B6E880\",\"#FF97FF\",\"#FECB52\"],\"font\":{\"color\":\"#2a3f5f\"},\"hovermode\":\"closest\",\"hoverlabel\":{\"align\":\"left\"},\"paper_bgcolor\":\"white\",\"plot_bgcolor\":\"#E5ECF6\",\"polar\":{\"bgcolor\":\"#E5ECF6\",\"angularaxis\":{\"gridcolor\":\"white\",\"linecolor\":\"white\",\"ticks\":\"\"},\"radialaxis\":{\"gridcolor\":\"white\",\"linecolor\":\"white\",\"ticks\":\"\"}},\"ternary\":{\"bgcolor\":\"#E5ECF6\",\"aaxis\":{\"gridcolor\":\"white\",\"linecolor\":\"white\",\"ticks\":\"\"},\"baxis\":{\"gridcolor\":\"white\",\"linecolor\":\"white\",\"ticks\":\"\"},\"caxis\":{\"gridcolor\":\"white\",\"linecolor\":\"white\",\"ticks\":\"\"}},\"coloraxis\":{\"colorbar\":{\"outlinewidth\":0,\"ticks\":\"\"}},\"colorscale\":{\"sequential\":[[0.0,\"#0d0887\"],[0.1111111111111111,\"#46039f\"],[0.2222222222222222,\"#7201a8\"],[0.3333333333333333,\"#9c179e\"],[0.4444444444444444,\"#bd3786\"],[0.5555555555555556,\"#d8576b\"],[0.6666666666666666,\"#ed7953\"],[0.7777777777777778,\"#fb9f3a\"],[0.8888888888888888,\"#fdca26\"],[1.0,\"#f0f921\"]],\"sequentialminus\":[[0.0,\"#0d0887\"],[0.1111111111111111,\"#46039f\"],[0.2222222222222222,\"#7201a8\"],[0.3333333333333333,\"#9c179e\"],[0.4444444444444444,\"#bd3786\"],[0.5555555555555556,\"#d8576b\"],[0.6666666666666666,\"#ed7953\"],[0.7777777777777778,\"#fb9f3a\"],[0.8888888888888888,\"#fdca26\"],[1.0,\"#f0f921\"]],\"diverging\":[[0,\"#8e0152\"],[0.1,\"#c51b7d\"],[0.2,\"#de77ae\"],[0.3,\"#f1b6da\"],[0.4,\"#fde0ef\"],[0.5,\"#f7f7f7\"],[0.6,\"#e6f5d0\"],[0.7,\"#b8e186\"],[0.8,\"#7fbc41\"],[0.9,\"#4d9221\"],[1,\"#276419\"]]},\"xaxis\":{\"gridcolor\":\"white\",\"linecolor\":\"white\",\"ticks\":\"\",\"title\":{\"standoff\":15},\"zerolinecolor\":\"white\",\"automargin\":true,\"zerolinewidth\":2},\"yaxis\":{\"gridcolor\":\"white\",\"linecolor\":\"white\",\"ticks\":\"\",\"title\":{\"standoff\":15},\"zerolinecolor\":\"white\",\"automargin\":true,\"zerolinewidth\":2},\"scene\":{\"xaxis\":{\"backgroundcolor\":\"#E5ECF6\",\"gridcolor\":\"white\",\"linecolor\":\"white\",\"showbackground\":true,\"ticks\":\"\",\"zerolinecolor\":\"white\",\"gridwidth\":2},\"yaxis\":{\"backgroundcolor\":\"#E5ECF6\",\"gridcolor\":\"white\",\"linecolor\":\"white\",\"showbackground\":true,\"ticks\":\"\",\"zerolinecolor\":\"white\",\"gridwidth\":2},\"zaxis\":{\"backgroundcolor\":\"#E5ECF6\",\"gridcolor\":\"white\",\"linecolor\":\"white\",\"showbackground\":true,\"ticks\":\"\",\"zerolinecolor\":\"white\",\"gridwidth\":2}},\"shapedefaults\":{\"line\":{\"color\":\"#2a3f5f\"}},\"annotationdefaults\":{\"arrowcolor\":\"#2a3f5f\",\"arrowhead\":0,\"arrowwidth\":1},\"geo\":{\"bgcolor\":\"white\",\"landcolor\":\"#E5ECF6\",\"subunitcolor\":\"white\",\"showland\":true,\"showlakes\":true,\"lakecolor\":\"white\"},\"title\":{\"x\":0.05},\"mapbox\":{\"style\":\"light\"}}},\"geo\":{\"domain\":{\"x\":[0.0,1.0],\"y\":[0.0,1.0]},\"center\":{},\"scope\":\"europe\"},\"coloraxis\":{\"colorbar\":{\"title\":{\"text\":\"number\"}},\"colorscale\":[[0.0,\"rgb(36, 86, 104)\"],[0.16666666666666666,\"rgb(15, 114, 121)\"],[0.3333333333333333,\"rgb(13, 143, 129)\"],[0.5,\"rgb(57, 171, 126)\"],[0.6666666666666666,\"rgb(110, 197, 116)\"],[0.8333333333333334,\"rgb(169, 220, 103)\"],[1.0,\"rgb(237, 239, 93)\"]]},\"legend\":{\"tracegroupgap\":0},\"margin\":{\"t\":60},\"title\":{\"text\":\"Cheese produce across the European continent in 2020\"}},                        {\"responsive\": true}                    ).then(function(){\n",
       "                            \n",
       "var gd = document.getElementById('81350217-7655-4dea-b691-4f0a15bf03e5');\n",
       "var x = new MutationObserver(function (mutations, observer) {{\n",
       "        var display = window.getComputedStyle(gd).display;\n",
       "        if (!display || display === 'none') {{\n",
       "            console.log([gd, 'removed!']);\n",
       "            Plotly.purge(gd);\n",
       "            observer.disconnect();\n",
       "        }}\n",
       "}});\n",
       "\n",
       "// Listen for the removal of the full notebook cells\n",
       "var notebookContainer = gd.closest('#notebook-container');\n",
       "if (notebookContainer) {{\n",
       "    x.observe(notebookContainer, {childList: true});\n",
       "}}\n",
       "\n",
       "// Listen for the clearing of the current output cell\n",
       "var outputEl = gd.closest('.output');\n",
       "if (outputEl) {{\n",
       "    x.observe(outputEl, {childList: true});\n",
       "}}\n",
       "\n",
       "                        })                };                });            </script>        </div>"
      ]
     },
     "metadata": {},
     "output_type": "display_data"
    }
   ],
   "source": [
    "fig = px.choropleth(df_eucheese_produce2020melt2,\n",
    "                    locations=\"code\", \n",
    "# colunm containing ISO 3166 country codes\n",
    "                    color=\"number\", \n",
    "# column by which to color-code\n",
    "                    hover_name=\"country\", # column to display in hover information\n",
    "                 color_continuous_scale=px.colors.sequential.Aggrnyl)\n",
    "fig.update_layout(\n",
    "    # add a title text for the plot\n",
    "    title_text = 'Cheese produce across the European continent in 2020',\n",
    "    geo_scope = 'europe' \n",
    "\n",
    ")"
   ]
  },
  {
   "cell_type": "code",
   "execution_count": 216,
   "id": "ee83092c",
   "metadata": {},
   "outputs": [
    {
     "data": {
      "application/vnd.plotly.v1+json": {
       "config": {
        "plotlyServerURL": "https://plot.ly"
       },
       "data": [
        {
         "coloraxis": "coloraxis",
         "geo": "geo",
         "hovertemplate": "<b>%{hovertext}</b><br><br>code=%{location}<br>number=%{z}<extra></extra>",
         "hovertext": [
          "Dnmark",
          "Spain",
          "Grmany ",
          "Franc",
          "Italy",
          "Romania",
          "Irland"
         ],
         "locations": [
          "DNK",
          "ESP",
          "DEU",
          "FRA",
          "ITA",
          "ROU",
          "IRL"
         ],
         "name": "",
         "type": "choropleth",
         "z": [
          199,
          50,
          497,
          417,
          92,
          10,
          294
         ]
        }
       ],
       "layout": {
        "coloraxis": {
         "colorbar": {
          "title": {
           "text": "number"
          }
         },
         "colorscale": [
          [
           0,
           "rgb(36, 86, 104)"
          ],
          [
           0.16666666666666666,
           "rgb(15, 114, 121)"
          ],
          [
           0.3333333333333333,
           "rgb(13, 143, 129)"
          ],
          [
           0.5,
           "rgb(57, 171, 126)"
          ],
          [
           0.6666666666666666,
           "rgb(110, 197, 116)"
          ],
          [
           0.8333333333333334,
           "rgb(169, 220, 103)"
          ],
          [
           1,
           "rgb(237, 239, 93)"
          ]
         ]
        },
        "geo": {
         "center": {},
         "domain": {
          "x": [
           0,
           1
          ],
          "y": [
           0,
           1
          ]
         },
         "scope": "europe"
        },
        "legend": {
         "tracegroupgap": 0
        },
        "margin": {
         "t": 60
        },
        "template": {
         "data": {
          "bar": [
           {
            "error_x": {
             "color": "#2a3f5f"
            },
            "error_y": {
             "color": "#2a3f5f"
            },
            "marker": {
             "line": {
              "color": "#E5ECF6",
              "width": 0.5
             },
             "pattern": {
              "fillmode": "overlay",
              "size": 10,
              "solidity": 0.2
             }
            },
            "type": "bar"
           }
          ],
          "barpolar": [
           {
            "marker": {
             "line": {
              "color": "#E5ECF6",
              "width": 0.5
             },
             "pattern": {
              "fillmode": "overlay",
              "size": 10,
              "solidity": 0.2
             }
            },
            "type": "barpolar"
           }
          ],
          "carpet": [
           {
            "aaxis": {
             "endlinecolor": "#2a3f5f",
             "gridcolor": "white",
             "linecolor": "white",
             "minorgridcolor": "white",
             "startlinecolor": "#2a3f5f"
            },
            "baxis": {
             "endlinecolor": "#2a3f5f",
             "gridcolor": "white",
             "linecolor": "white",
             "minorgridcolor": "white",
             "startlinecolor": "#2a3f5f"
            },
            "type": "carpet"
           }
          ],
          "choropleth": [
           {
            "colorbar": {
             "outlinewidth": 0,
             "ticks": ""
            },
            "type": "choropleth"
           }
          ],
          "contour": [
           {
            "colorbar": {
             "outlinewidth": 0,
             "ticks": ""
            },
            "colorscale": [
             [
              0,
              "#0d0887"
             ],
             [
              0.1111111111111111,
              "#46039f"
             ],
             [
              0.2222222222222222,
              "#7201a8"
             ],
             [
              0.3333333333333333,
              "#9c179e"
             ],
             [
              0.4444444444444444,
              "#bd3786"
             ],
             [
              0.5555555555555556,
              "#d8576b"
             ],
             [
              0.6666666666666666,
              "#ed7953"
             ],
             [
              0.7777777777777778,
              "#fb9f3a"
             ],
             [
              0.8888888888888888,
              "#fdca26"
             ],
             [
              1,
              "#f0f921"
             ]
            ],
            "type": "contour"
           }
          ],
          "contourcarpet": [
           {
            "colorbar": {
             "outlinewidth": 0,
             "ticks": ""
            },
            "type": "contourcarpet"
           }
          ],
          "heatmap": [
           {
            "colorbar": {
             "outlinewidth": 0,
             "ticks": ""
            },
            "colorscale": [
             [
              0,
              "#0d0887"
             ],
             [
              0.1111111111111111,
              "#46039f"
             ],
             [
              0.2222222222222222,
              "#7201a8"
             ],
             [
              0.3333333333333333,
              "#9c179e"
             ],
             [
              0.4444444444444444,
              "#bd3786"
             ],
             [
              0.5555555555555556,
              "#d8576b"
             ],
             [
              0.6666666666666666,
              "#ed7953"
             ],
             [
              0.7777777777777778,
              "#fb9f3a"
             ],
             [
              0.8888888888888888,
              "#fdca26"
             ],
             [
              1,
              "#f0f921"
             ]
            ],
            "type": "heatmap"
           }
          ],
          "heatmapgl": [
           {
            "colorbar": {
             "outlinewidth": 0,
             "ticks": ""
            },
            "colorscale": [
             [
              0,
              "#0d0887"
             ],
             [
              0.1111111111111111,
              "#46039f"
             ],
             [
              0.2222222222222222,
              "#7201a8"
             ],
             [
              0.3333333333333333,
              "#9c179e"
             ],
             [
              0.4444444444444444,
              "#bd3786"
             ],
             [
              0.5555555555555556,
              "#d8576b"
             ],
             [
              0.6666666666666666,
              "#ed7953"
             ],
             [
              0.7777777777777778,
              "#fb9f3a"
             ],
             [
              0.8888888888888888,
              "#fdca26"
             ],
             [
              1,
              "#f0f921"
             ]
            ],
            "type": "heatmapgl"
           }
          ],
          "histogram": [
           {
            "marker": {
             "pattern": {
              "fillmode": "overlay",
              "size": 10,
              "solidity": 0.2
             }
            },
            "type": "histogram"
           }
          ],
          "histogram2d": [
           {
            "colorbar": {
             "outlinewidth": 0,
             "ticks": ""
            },
            "colorscale": [
             [
              0,
              "#0d0887"
             ],
             [
              0.1111111111111111,
              "#46039f"
             ],
             [
              0.2222222222222222,
              "#7201a8"
             ],
             [
              0.3333333333333333,
              "#9c179e"
             ],
             [
              0.4444444444444444,
              "#bd3786"
             ],
             [
              0.5555555555555556,
              "#d8576b"
             ],
             [
              0.6666666666666666,
              "#ed7953"
             ],
             [
              0.7777777777777778,
              "#fb9f3a"
             ],
             [
              0.8888888888888888,
              "#fdca26"
             ],
             [
              1,
              "#f0f921"
             ]
            ],
            "type": "histogram2d"
           }
          ],
          "histogram2dcontour": [
           {
            "colorbar": {
             "outlinewidth": 0,
             "ticks": ""
            },
            "colorscale": [
             [
              0,
              "#0d0887"
             ],
             [
              0.1111111111111111,
              "#46039f"
             ],
             [
              0.2222222222222222,
              "#7201a8"
             ],
             [
              0.3333333333333333,
              "#9c179e"
             ],
             [
              0.4444444444444444,
              "#bd3786"
             ],
             [
              0.5555555555555556,
              "#d8576b"
             ],
             [
              0.6666666666666666,
              "#ed7953"
             ],
             [
              0.7777777777777778,
              "#fb9f3a"
             ],
             [
              0.8888888888888888,
              "#fdca26"
             ],
             [
              1,
              "#f0f921"
             ]
            ],
            "type": "histogram2dcontour"
           }
          ],
          "mesh3d": [
           {
            "colorbar": {
             "outlinewidth": 0,
             "ticks": ""
            },
            "type": "mesh3d"
           }
          ],
          "parcoords": [
           {
            "line": {
             "colorbar": {
              "outlinewidth": 0,
              "ticks": ""
             }
            },
            "type": "parcoords"
           }
          ],
          "pie": [
           {
            "automargin": true,
            "type": "pie"
           }
          ],
          "scatter": [
           {
            "fillpattern": {
             "fillmode": "overlay",
             "size": 10,
             "solidity": 0.2
            },
            "type": "scatter"
           }
          ],
          "scatter3d": [
           {
            "line": {
             "colorbar": {
              "outlinewidth": 0,
              "ticks": ""
             }
            },
            "marker": {
             "colorbar": {
              "outlinewidth": 0,
              "ticks": ""
             }
            },
            "type": "scatter3d"
           }
          ],
          "scattercarpet": [
           {
            "marker": {
             "colorbar": {
              "outlinewidth": 0,
              "ticks": ""
             }
            },
            "type": "scattercarpet"
           }
          ],
          "scattergeo": [
           {
            "marker": {
             "colorbar": {
              "outlinewidth": 0,
              "ticks": ""
             }
            },
            "type": "scattergeo"
           }
          ],
          "scattergl": [
           {
            "marker": {
             "colorbar": {
              "outlinewidth": 0,
              "ticks": ""
             }
            },
            "type": "scattergl"
           }
          ],
          "scattermapbox": [
           {
            "marker": {
             "colorbar": {
              "outlinewidth": 0,
              "ticks": ""
             }
            },
            "type": "scattermapbox"
           }
          ],
          "scatterpolar": [
           {
            "marker": {
             "colorbar": {
              "outlinewidth": 0,
              "ticks": ""
             }
            },
            "type": "scatterpolar"
           }
          ],
          "scatterpolargl": [
           {
            "marker": {
             "colorbar": {
              "outlinewidth": 0,
              "ticks": ""
             }
            },
            "type": "scatterpolargl"
           }
          ],
          "scatterternary": [
           {
            "marker": {
             "colorbar": {
              "outlinewidth": 0,
              "ticks": ""
             }
            },
            "type": "scatterternary"
           }
          ],
          "surface": [
           {
            "colorbar": {
             "outlinewidth": 0,
             "ticks": ""
            },
            "colorscale": [
             [
              0,
              "#0d0887"
             ],
             [
              0.1111111111111111,
              "#46039f"
             ],
             [
              0.2222222222222222,
              "#7201a8"
             ],
             [
              0.3333333333333333,
              "#9c179e"
             ],
             [
              0.4444444444444444,
              "#bd3786"
             ],
             [
              0.5555555555555556,
              "#d8576b"
             ],
             [
              0.6666666666666666,
              "#ed7953"
             ],
             [
              0.7777777777777778,
              "#fb9f3a"
             ],
             [
              0.8888888888888888,
              "#fdca26"
             ],
             [
              1,
              "#f0f921"
             ]
            ],
            "type": "surface"
           }
          ],
          "table": [
           {
            "cells": {
             "fill": {
              "color": "#EBF0F8"
             },
             "line": {
              "color": "white"
             }
            },
            "header": {
             "fill": {
              "color": "#C8D4E3"
             },
             "line": {
              "color": "white"
             }
            },
            "type": "table"
           }
          ]
         },
         "layout": {
          "annotationdefaults": {
           "arrowcolor": "#2a3f5f",
           "arrowhead": 0,
           "arrowwidth": 1
          },
          "autotypenumbers": "strict",
          "coloraxis": {
           "colorbar": {
            "outlinewidth": 0,
            "ticks": ""
           }
          },
          "colorscale": {
           "diverging": [
            [
             0,
             "#8e0152"
            ],
            [
             0.1,
             "#c51b7d"
            ],
            [
             0.2,
             "#de77ae"
            ],
            [
             0.3,
             "#f1b6da"
            ],
            [
             0.4,
             "#fde0ef"
            ],
            [
             0.5,
             "#f7f7f7"
            ],
            [
             0.6,
             "#e6f5d0"
            ],
            [
             0.7,
             "#b8e186"
            ],
            [
             0.8,
             "#7fbc41"
            ],
            [
             0.9,
             "#4d9221"
            ],
            [
             1,
             "#276419"
            ]
           ],
           "sequential": [
            [
             0,
             "#0d0887"
            ],
            [
             0.1111111111111111,
             "#46039f"
            ],
            [
             0.2222222222222222,
             "#7201a8"
            ],
            [
             0.3333333333333333,
             "#9c179e"
            ],
            [
             0.4444444444444444,
             "#bd3786"
            ],
            [
             0.5555555555555556,
             "#d8576b"
            ],
            [
             0.6666666666666666,
             "#ed7953"
            ],
            [
             0.7777777777777778,
             "#fb9f3a"
            ],
            [
             0.8888888888888888,
             "#fdca26"
            ],
            [
             1,
             "#f0f921"
            ]
           ],
           "sequentialminus": [
            [
             0,
             "#0d0887"
            ],
            [
             0.1111111111111111,
             "#46039f"
            ],
            [
             0.2222222222222222,
             "#7201a8"
            ],
            [
             0.3333333333333333,
             "#9c179e"
            ],
            [
             0.4444444444444444,
             "#bd3786"
            ],
            [
             0.5555555555555556,
             "#d8576b"
            ],
            [
             0.6666666666666666,
             "#ed7953"
            ],
            [
             0.7777777777777778,
             "#fb9f3a"
            ],
            [
             0.8888888888888888,
             "#fdca26"
            ],
            [
             1,
             "#f0f921"
            ]
           ]
          },
          "colorway": [
           "#636efa",
           "#EF553B",
           "#00cc96",
           "#ab63fa",
           "#FFA15A",
           "#19d3f3",
           "#FF6692",
           "#B6E880",
           "#FF97FF",
           "#FECB52"
          ],
          "font": {
           "color": "#2a3f5f"
          },
          "geo": {
           "bgcolor": "white",
           "lakecolor": "white",
           "landcolor": "#E5ECF6",
           "showlakes": true,
           "showland": true,
           "subunitcolor": "white"
          },
          "hoverlabel": {
           "align": "left"
          },
          "hovermode": "closest",
          "mapbox": {
           "style": "light"
          },
          "paper_bgcolor": "white",
          "plot_bgcolor": "#E5ECF6",
          "polar": {
           "angularaxis": {
            "gridcolor": "white",
            "linecolor": "white",
            "ticks": ""
           },
           "bgcolor": "#E5ECF6",
           "radialaxis": {
            "gridcolor": "white",
            "linecolor": "white",
            "ticks": ""
           }
          },
          "scene": {
           "xaxis": {
            "backgroundcolor": "#E5ECF6",
            "gridcolor": "white",
            "gridwidth": 2,
            "linecolor": "white",
            "showbackground": true,
            "ticks": "",
            "zerolinecolor": "white"
           },
           "yaxis": {
            "backgroundcolor": "#E5ECF6",
            "gridcolor": "white",
            "gridwidth": 2,
            "linecolor": "white",
            "showbackground": true,
            "ticks": "",
            "zerolinecolor": "white"
           },
           "zaxis": {
            "backgroundcolor": "#E5ECF6",
            "gridcolor": "white",
            "gridwidth": 2,
            "linecolor": "white",
            "showbackground": true,
            "ticks": "",
            "zerolinecolor": "white"
           }
          },
          "shapedefaults": {
           "line": {
            "color": "#2a3f5f"
           }
          },
          "ternary": {
           "aaxis": {
            "gridcolor": "white",
            "linecolor": "white",
            "ticks": ""
           },
           "baxis": {
            "gridcolor": "white",
            "linecolor": "white",
            "ticks": ""
           },
           "bgcolor": "#E5ECF6",
           "caxis": {
            "gridcolor": "white",
            "linecolor": "white",
            "ticks": ""
           }
          },
          "title": {
           "x": 0.05
          },
          "xaxis": {
           "automargin": true,
           "gridcolor": "white",
           "linecolor": "white",
           "ticks": "",
           "title": {
            "standoff": 15
           },
           "zerolinecolor": "white",
           "zerolinewidth": 2
          },
          "yaxis": {
           "automargin": true,
           "gridcolor": "white",
           "linecolor": "white",
           "ticks": "",
           "title": {
            "standoff": 15
           },
           "zerolinecolor": "white",
           "zerolinewidth": 2
          }
         }
        },
        "title": {
         "text": "Butter produce across the European continent in 2020"
        }
       }
      },
      "text/html": [
       "<div>                            <div id=\"eb320d9c-4401-46f3-8020-ff3d98f305ce\" class=\"plotly-graph-div\" style=\"height:525px; width:100%;\"></div>            <script type=\"text/javascript\">                require([\"plotly\"], function(Plotly) {                    window.PLOTLYENV=window.PLOTLYENV || {};                                    if (document.getElementById(\"eb320d9c-4401-46f3-8020-ff3d98f305ce\")) {                    Plotly.newPlot(                        \"eb320d9c-4401-46f3-8020-ff3d98f305ce\",                        [{\"coloraxis\":\"coloraxis\",\"geo\":\"geo\",\"hovertemplate\":\"<b>%{hovertext}</b><br><br>code=%{location}<br>number=%{z}<extra></extra>\",\"hovertext\":[\"Dnmark\",\"Spain\",\"Grmany \",\"Franc\",\"Italy\",\"Romania\",\"Irland\"],\"locations\":[\"DNK\",\"ESP\",\"DEU\",\"FRA\",\"ITA\",\"ROU\",\"IRL\"],\"name\":\"\",\"z\":[199,50,497,417,92,10,294],\"type\":\"choropleth\"}],                        {\"template\":{\"data\":{\"histogram2dcontour\":[{\"type\":\"histogram2dcontour\",\"colorbar\":{\"outlinewidth\":0,\"ticks\":\"\"},\"colorscale\":[[0.0,\"#0d0887\"],[0.1111111111111111,\"#46039f\"],[0.2222222222222222,\"#7201a8\"],[0.3333333333333333,\"#9c179e\"],[0.4444444444444444,\"#bd3786\"],[0.5555555555555556,\"#d8576b\"],[0.6666666666666666,\"#ed7953\"],[0.7777777777777778,\"#fb9f3a\"],[0.8888888888888888,\"#fdca26\"],[1.0,\"#f0f921\"]]}],\"choropleth\":[{\"type\":\"choropleth\",\"colorbar\":{\"outlinewidth\":0,\"ticks\":\"\"}}],\"histogram2d\":[{\"type\":\"histogram2d\",\"colorbar\":{\"outlinewidth\":0,\"ticks\":\"\"},\"colorscale\":[[0.0,\"#0d0887\"],[0.1111111111111111,\"#46039f\"],[0.2222222222222222,\"#7201a8\"],[0.3333333333333333,\"#9c179e\"],[0.4444444444444444,\"#bd3786\"],[0.5555555555555556,\"#d8576b\"],[0.6666666666666666,\"#ed7953\"],[0.7777777777777778,\"#fb9f3a\"],[0.8888888888888888,\"#fdca26\"],[1.0,\"#f0f921\"]]}],\"heatmap\":[{\"type\":\"heatmap\",\"colorbar\":{\"outlinewidth\":0,\"ticks\":\"\"},\"colorscale\":[[0.0,\"#0d0887\"],[0.1111111111111111,\"#46039f\"],[0.2222222222222222,\"#7201a8\"],[0.3333333333333333,\"#9c179e\"],[0.4444444444444444,\"#bd3786\"],[0.5555555555555556,\"#d8576b\"],[0.6666666666666666,\"#ed7953\"],[0.7777777777777778,\"#fb9f3a\"],[0.8888888888888888,\"#fdca26\"],[1.0,\"#f0f921\"]]}],\"heatmapgl\":[{\"type\":\"heatmapgl\",\"colorbar\":{\"outlinewidth\":0,\"ticks\":\"\"},\"colorscale\":[[0.0,\"#0d0887\"],[0.1111111111111111,\"#46039f\"],[0.2222222222222222,\"#7201a8\"],[0.3333333333333333,\"#9c179e\"],[0.4444444444444444,\"#bd3786\"],[0.5555555555555556,\"#d8576b\"],[0.6666666666666666,\"#ed7953\"],[0.7777777777777778,\"#fb9f3a\"],[0.8888888888888888,\"#fdca26\"],[1.0,\"#f0f921\"]]}],\"contourcarpet\":[{\"type\":\"contourcarpet\",\"colorbar\":{\"outlinewidth\":0,\"ticks\":\"\"}}],\"contour\":[{\"type\":\"contour\",\"colorbar\":{\"outlinewidth\":0,\"ticks\":\"\"},\"colorscale\":[[0.0,\"#0d0887\"],[0.1111111111111111,\"#46039f\"],[0.2222222222222222,\"#7201a8\"],[0.3333333333333333,\"#9c179e\"],[0.4444444444444444,\"#bd3786\"],[0.5555555555555556,\"#d8576b\"],[0.6666666666666666,\"#ed7953\"],[0.7777777777777778,\"#fb9f3a\"],[0.8888888888888888,\"#fdca26\"],[1.0,\"#f0f921\"]]}],\"surface\":[{\"type\":\"surface\",\"colorbar\":{\"outlinewidth\":0,\"ticks\":\"\"},\"colorscale\":[[0.0,\"#0d0887\"],[0.1111111111111111,\"#46039f\"],[0.2222222222222222,\"#7201a8\"],[0.3333333333333333,\"#9c179e\"],[0.4444444444444444,\"#bd3786\"],[0.5555555555555556,\"#d8576b\"],[0.6666666666666666,\"#ed7953\"],[0.7777777777777778,\"#fb9f3a\"],[0.8888888888888888,\"#fdca26\"],[1.0,\"#f0f921\"]]}],\"mesh3d\":[{\"type\":\"mesh3d\",\"colorbar\":{\"outlinewidth\":0,\"ticks\":\"\"}}],\"scatter\":[{\"fillpattern\":{\"fillmode\":\"overlay\",\"size\":10,\"solidity\":0.2},\"type\":\"scatter\"}],\"parcoords\":[{\"type\":\"parcoords\",\"line\":{\"colorbar\":{\"outlinewidth\":0,\"ticks\":\"\"}}}],\"scatterpolargl\":[{\"type\":\"scatterpolargl\",\"marker\":{\"colorbar\":{\"outlinewidth\":0,\"ticks\":\"\"}}}],\"bar\":[{\"error_x\":{\"color\":\"#2a3f5f\"},\"error_y\":{\"color\":\"#2a3f5f\"},\"marker\":{\"line\":{\"color\":\"#E5ECF6\",\"width\":0.5},\"pattern\":{\"fillmode\":\"overlay\",\"size\":10,\"solidity\":0.2}},\"type\":\"bar\"}],\"scattergeo\":[{\"type\":\"scattergeo\",\"marker\":{\"colorbar\":{\"outlinewidth\":0,\"ticks\":\"\"}}}],\"scatterpolar\":[{\"type\":\"scatterpolar\",\"marker\":{\"colorbar\":{\"outlinewidth\":0,\"ticks\":\"\"}}}],\"histogram\":[{\"marker\":{\"pattern\":{\"fillmode\":\"overlay\",\"size\":10,\"solidity\":0.2}},\"type\":\"histogram\"}],\"scattergl\":[{\"type\":\"scattergl\",\"marker\":{\"colorbar\":{\"outlinewidth\":0,\"ticks\":\"\"}}}],\"scatter3d\":[{\"type\":\"scatter3d\",\"line\":{\"colorbar\":{\"outlinewidth\":0,\"ticks\":\"\"}},\"marker\":{\"colorbar\":{\"outlinewidth\":0,\"ticks\":\"\"}}}],\"scattermapbox\":[{\"type\":\"scattermapbox\",\"marker\":{\"colorbar\":{\"outlinewidth\":0,\"ticks\":\"\"}}}],\"scatterternary\":[{\"type\":\"scatterternary\",\"marker\":{\"colorbar\":{\"outlinewidth\":0,\"ticks\":\"\"}}}],\"scattercarpet\":[{\"type\":\"scattercarpet\",\"marker\":{\"colorbar\":{\"outlinewidth\":0,\"ticks\":\"\"}}}],\"carpet\":[{\"aaxis\":{\"endlinecolor\":\"#2a3f5f\",\"gridcolor\":\"white\",\"linecolor\":\"white\",\"minorgridcolor\":\"white\",\"startlinecolor\":\"#2a3f5f\"},\"baxis\":{\"endlinecolor\":\"#2a3f5f\",\"gridcolor\":\"white\",\"linecolor\":\"white\",\"minorgridcolor\":\"white\",\"startlinecolor\":\"#2a3f5f\"},\"type\":\"carpet\"}],\"table\":[{\"cells\":{\"fill\":{\"color\":\"#EBF0F8\"},\"line\":{\"color\":\"white\"}},\"header\":{\"fill\":{\"color\":\"#C8D4E3\"},\"line\":{\"color\":\"white\"}},\"type\":\"table\"}],\"barpolar\":[{\"marker\":{\"line\":{\"color\":\"#E5ECF6\",\"width\":0.5},\"pattern\":{\"fillmode\":\"overlay\",\"size\":10,\"solidity\":0.2}},\"type\":\"barpolar\"}],\"pie\":[{\"automargin\":true,\"type\":\"pie\"}]},\"layout\":{\"autotypenumbers\":\"strict\",\"colorway\":[\"#636efa\",\"#EF553B\",\"#00cc96\",\"#ab63fa\",\"#FFA15A\",\"#19d3f3\",\"#FF6692\",\"#B6E880\",\"#FF97FF\",\"#FECB52\"],\"font\":{\"color\":\"#2a3f5f\"},\"hovermode\":\"closest\",\"hoverlabel\":{\"align\":\"left\"},\"paper_bgcolor\":\"white\",\"plot_bgcolor\":\"#E5ECF6\",\"polar\":{\"bgcolor\":\"#E5ECF6\",\"angularaxis\":{\"gridcolor\":\"white\",\"linecolor\":\"white\",\"ticks\":\"\"},\"radialaxis\":{\"gridcolor\":\"white\",\"linecolor\":\"white\",\"ticks\":\"\"}},\"ternary\":{\"bgcolor\":\"#E5ECF6\",\"aaxis\":{\"gridcolor\":\"white\",\"linecolor\":\"white\",\"ticks\":\"\"},\"baxis\":{\"gridcolor\":\"white\",\"linecolor\":\"white\",\"ticks\":\"\"},\"caxis\":{\"gridcolor\":\"white\",\"linecolor\":\"white\",\"ticks\":\"\"}},\"coloraxis\":{\"colorbar\":{\"outlinewidth\":0,\"ticks\":\"\"}},\"colorscale\":{\"sequential\":[[0.0,\"#0d0887\"],[0.1111111111111111,\"#46039f\"],[0.2222222222222222,\"#7201a8\"],[0.3333333333333333,\"#9c179e\"],[0.4444444444444444,\"#bd3786\"],[0.5555555555555556,\"#d8576b\"],[0.6666666666666666,\"#ed7953\"],[0.7777777777777778,\"#fb9f3a\"],[0.8888888888888888,\"#fdca26\"],[1.0,\"#f0f921\"]],\"sequentialminus\":[[0.0,\"#0d0887\"],[0.1111111111111111,\"#46039f\"],[0.2222222222222222,\"#7201a8\"],[0.3333333333333333,\"#9c179e\"],[0.4444444444444444,\"#bd3786\"],[0.5555555555555556,\"#d8576b\"],[0.6666666666666666,\"#ed7953\"],[0.7777777777777778,\"#fb9f3a\"],[0.8888888888888888,\"#fdca26\"],[1.0,\"#f0f921\"]],\"diverging\":[[0,\"#8e0152\"],[0.1,\"#c51b7d\"],[0.2,\"#de77ae\"],[0.3,\"#f1b6da\"],[0.4,\"#fde0ef\"],[0.5,\"#f7f7f7\"],[0.6,\"#e6f5d0\"],[0.7,\"#b8e186\"],[0.8,\"#7fbc41\"],[0.9,\"#4d9221\"],[1,\"#276419\"]]},\"xaxis\":{\"gridcolor\":\"white\",\"linecolor\":\"white\",\"ticks\":\"\",\"title\":{\"standoff\":15},\"zerolinecolor\":\"white\",\"automargin\":true,\"zerolinewidth\":2},\"yaxis\":{\"gridcolor\":\"white\",\"linecolor\":\"white\",\"ticks\":\"\",\"title\":{\"standoff\":15},\"zerolinecolor\":\"white\",\"automargin\":true,\"zerolinewidth\":2},\"scene\":{\"xaxis\":{\"backgroundcolor\":\"#E5ECF6\",\"gridcolor\":\"white\",\"linecolor\":\"white\",\"showbackground\":true,\"ticks\":\"\",\"zerolinecolor\":\"white\",\"gridwidth\":2},\"yaxis\":{\"backgroundcolor\":\"#E5ECF6\",\"gridcolor\":\"white\",\"linecolor\":\"white\",\"showbackground\":true,\"ticks\":\"\",\"zerolinecolor\":\"white\",\"gridwidth\":2},\"zaxis\":{\"backgroundcolor\":\"#E5ECF6\",\"gridcolor\":\"white\",\"linecolor\":\"white\",\"showbackground\":true,\"ticks\":\"\",\"zerolinecolor\":\"white\",\"gridwidth\":2}},\"shapedefaults\":{\"line\":{\"color\":\"#2a3f5f\"}},\"annotationdefaults\":{\"arrowcolor\":\"#2a3f5f\",\"arrowhead\":0,\"arrowwidth\":1},\"geo\":{\"bgcolor\":\"white\",\"landcolor\":\"#E5ECF6\",\"subunitcolor\":\"white\",\"showland\":true,\"showlakes\":true,\"lakecolor\":\"white\"},\"title\":{\"x\":0.05},\"mapbox\":{\"style\":\"light\"}}},\"geo\":{\"domain\":{\"x\":[0.0,1.0],\"y\":[0.0,1.0]},\"center\":{},\"scope\":\"europe\"},\"coloraxis\":{\"colorbar\":{\"title\":{\"text\":\"number\"}},\"colorscale\":[[0.0,\"rgb(36, 86, 104)\"],[0.16666666666666666,\"rgb(15, 114, 121)\"],[0.3333333333333333,\"rgb(13, 143, 129)\"],[0.5,\"rgb(57, 171, 126)\"],[0.6666666666666666,\"rgb(110, 197, 116)\"],[0.8333333333333334,\"rgb(169, 220, 103)\"],[1.0,\"rgb(237, 239, 93)\"]]},\"legend\":{\"tracegroupgap\":0},\"margin\":{\"t\":60},\"title\":{\"text\":\"Butter produce across the European continent in 2020\"}},                        {\"responsive\": true}                    ).then(function(){\n",
       "                            \n",
       "var gd = document.getElementById('eb320d9c-4401-46f3-8020-ff3d98f305ce');\n",
       "var x = new MutationObserver(function (mutations, observer) {{\n",
       "        var display = window.getComputedStyle(gd).display;\n",
       "        if (!display || display === 'none') {{\n",
       "            console.log([gd, 'removed!']);\n",
       "            Plotly.purge(gd);\n",
       "            observer.disconnect();\n",
       "        }}\n",
       "}});\n",
       "\n",
       "// Listen for the removal of the full notebook cells\n",
       "var notebookContainer = gd.closest('#notebook-container');\n",
       "if (notebookContainer) {{\n",
       "    x.observe(notebookContainer, {childList: true});\n",
       "}}\n",
       "\n",
       "// Listen for the clearing of the current output cell\n",
       "var outputEl = gd.closest('.output');\n",
       "if (outputEl) {{\n",
       "    x.observe(outputEl, {childList: true});\n",
       "}}\n",
       "\n",
       "                        })                };                });            </script>        </div>"
      ]
     },
     "metadata": {},
     "output_type": "display_data"
    }
   ],
   "source": [
    "fig = px.choropleth(df_eubutter_produce2020melt2,\n",
    "                    locations=\"code\", \n",
    "# colunm containing ISO 3166 country codes\n",
    "                    color=\"number\", \n",
    "# column by which to color-code\n",
    "                    hover_name=\"country\", # column to display in hover information\n",
    "                 color_continuous_scale=px.colors.sequential.Aggrnyl)\n",
    "fig.update_layout(\n",
    "    # add a title text for the plot\n",
    "    title_text = 'Butter produce across the European continent in 2020',\n",
    "    geo_scope = 'europe' \n",
    "\n",
    ")"
   ]
  },
  {
   "cell_type": "code",
   "execution_count": 215,
   "id": "b117ee0b",
   "metadata": {},
   "outputs": [
    {
     "data": {
      "application/vnd.plotly.v1+json": {
       "config": {
        "plotlyServerURL": "https://plot.ly"
       },
       "data": [
        {
         "coloraxis": "coloraxis",
         "geo": "geo",
         "hovertemplate": "<b>%{hovertext}</b><br><br>code=%{location}<br>number=%{z}<extra></extra>",
         "hovertext": [
          "Dnmark",
          "Spain",
          "Grmany ",
          "Franc",
          "Italy",
          "Romania",
          "Irland"
         ],
         "locations": [
          "DNK",
          "ESP",
          "DEU",
          "FRA",
          "ITA",
          "ROU",
          "IRL"
         ],
         "name": "",
         "type": "choropleth",
         "z": [
          199,
          50,
          497,
          417,
          92,
          10,
          294
         ]
        }
       ],
       "layout": {
        "coloraxis": {
         "colorbar": {
          "title": {
           "text": "number"
          }
         },
         "colorscale": [
          [
           0,
           "rgb(36, 86, 104)"
          ],
          [
           0.16666666666666666,
           "rgb(15, 114, 121)"
          ],
          [
           0.3333333333333333,
           "rgb(13, 143, 129)"
          ],
          [
           0.5,
           "rgb(57, 171, 126)"
          ],
          [
           0.6666666666666666,
           "rgb(110, 197, 116)"
          ],
          [
           0.8333333333333334,
           "rgb(169, 220, 103)"
          ],
          [
           1,
           "rgb(237, 239, 93)"
          ]
         ]
        },
        "geo": {
         "center": {},
         "domain": {
          "x": [
           0,
           1
          ],
          "y": [
           0,
           1
          ]
         },
         "scope": "europe"
        },
        "legend": {
         "tracegroupgap": 0
        },
        "margin": {
         "t": 60
        },
        "template": {
         "data": {
          "bar": [
           {
            "error_x": {
             "color": "#2a3f5f"
            },
            "error_y": {
             "color": "#2a3f5f"
            },
            "marker": {
             "line": {
              "color": "#E5ECF6",
              "width": 0.5
             },
             "pattern": {
              "fillmode": "overlay",
              "size": 10,
              "solidity": 0.2
             }
            },
            "type": "bar"
           }
          ],
          "barpolar": [
           {
            "marker": {
             "line": {
              "color": "#E5ECF6",
              "width": 0.5
             },
             "pattern": {
              "fillmode": "overlay",
              "size": 10,
              "solidity": 0.2
             }
            },
            "type": "barpolar"
           }
          ],
          "carpet": [
           {
            "aaxis": {
             "endlinecolor": "#2a3f5f",
             "gridcolor": "white",
             "linecolor": "white",
             "minorgridcolor": "white",
             "startlinecolor": "#2a3f5f"
            },
            "baxis": {
             "endlinecolor": "#2a3f5f",
             "gridcolor": "white",
             "linecolor": "white",
             "minorgridcolor": "white",
             "startlinecolor": "#2a3f5f"
            },
            "type": "carpet"
           }
          ],
          "choropleth": [
           {
            "colorbar": {
             "outlinewidth": 0,
             "ticks": ""
            },
            "type": "choropleth"
           }
          ],
          "contour": [
           {
            "colorbar": {
             "outlinewidth": 0,
             "ticks": ""
            },
            "colorscale": [
             [
              0,
              "#0d0887"
             ],
             [
              0.1111111111111111,
              "#46039f"
             ],
             [
              0.2222222222222222,
              "#7201a8"
             ],
             [
              0.3333333333333333,
              "#9c179e"
             ],
             [
              0.4444444444444444,
              "#bd3786"
             ],
             [
              0.5555555555555556,
              "#d8576b"
             ],
             [
              0.6666666666666666,
              "#ed7953"
             ],
             [
              0.7777777777777778,
              "#fb9f3a"
             ],
             [
              0.8888888888888888,
              "#fdca26"
             ],
             [
              1,
              "#f0f921"
             ]
            ],
            "type": "contour"
           }
          ],
          "contourcarpet": [
           {
            "colorbar": {
             "outlinewidth": 0,
             "ticks": ""
            },
            "type": "contourcarpet"
           }
          ],
          "heatmap": [
           {
            "colorbar": {
             "outlinewidth": 0,
             "ticks": ""
            },
            "colorscale": [
             [
              0,
              "#0d0887"
             ],
             [
              0.1111111111111111,
              "#46039f"
             ],
             [
              0.2222222222222222,
              "#7201a8"
             ],
             [
              0.3333333333333333,
              "#9c179e"
             ],
             [
              0.4444444444444444,
              "#bd3786"
             ],
             [
              0.5555555555555556,
              "#d8576b"
             ],
             [
              0.6666666666666666,
              "#ed7953"
             ],
             [
              0.7777777777777778,
              "#fb9f3a"
             ],
             [
              0.8888888888888888,
              "#fdca26"
             ],
             [
              1,
              "#f0f921"
             ]
            ],
            "type": "heatmap"
           }
          ],
          "heatmapgl": [
           {
            "colorbar": {
             "outlinewidth": 0,
             "ticks": ""
            },
            "colorscale": [
             [
              0,
              "#0d0887"
             ],
             [
              0.1111111111111111,
              "#46039f"
             ],
             [
              0.2222222222222222,
              "#7201a8"
             ],
             [
              0.3333333333333333,
              "#9c179e"
             ],
             [
              0.4444444444444444,
              "#bd3786"
             ],
             [
              0.5555555555555556,
              "#d8576b"
             ],
             [
              0.6666666666666666,
              "#ed7953"
             ],
             [
              0.7777777777777778,
              "#fb9f3a"
             ],
             [
              0.8888888888888888,
              "#fdca26"
             ],
             [
              1,
              "#f0f921"
             ]
            ],
            "type": "heatmapgl"
           }
          ],
          "histogram": [
           {
            "marker": {
             "pattern": {
              "fillmode": "overlay",
              "size": 10,
              "solidity": 0.2
             }
            },
            "type": "histogram"
           }
          ],
          "histogram2d": [
           {
            "colorbar": {
             "outlinewidth": 0,
             "ticks": ""
            },
            "colorscale": [
             [
              0,
              "#0d0887"
             ],
             [
              0.1111111111111111,
              "#46039f"
             ],
             [
              0.2222222222222222,
              "#7201a8"
             ],
             [
              0.3333333333333333,
              "#9c179e"
             ],
             [
              0.4444444444444444,
              "#bd3786"
             ],
             [
              0.5555555555555556,
              "#d8576b"
             ],
             [
              0.6666666666666666,
              "#ed7953"
             ],
             [
              0.7777777777777778,
              "#fb9f3a"
             ],
             [
              0.8888888888888888,
              "#fdca26"
             ],
             [
              1,
              "#f0f921"
             ]
            ],
            "type": "histogram2d"
           }
          ],
          "histogram2dcontour": [
           {
            "colorbar": {
             "outlinewidth": 0,
             "ticks": ""
            },
            "colorscale": [
             [
              0,
              "#0d0887"
             ],
             [
              0.1111111111111111,
              "#46039f"
             ],
             [
              0.2222222222222222,
              "#7201a8"
             ],
             [
              0.3333333333333333,
              "#9c179e"
             ],
             [
              0.4444444444444444,
              "#bd3786"
             ],
             [
              0.5555555555555556,
              "#d8576b"
             ],
             [
              0.6666666666666666,
              "#ed7953"
             ],
             [
              0.7777777777777778,
              "#fb9f3a"
             ],
             [
              0.8888888888888888,
              "#fdca26"
             ],
             [
              1,
              "#f0f921"
             ]
            ],
            "type": "histogram2dcontour"
           }
          ],
          "mesh3d": [
           {
            "colorbar": {
             "outlinewidth": 0,
             "ticks": ""
            },
            "type": "mesh3d"
           }
          ],
          "parcoords": [
           {
            "line": {
             "colorbar": {
              "outlinewidth": 0,
              "ticks": ""
             }
            },
            "type": "parcoords"
           }
          ],
          "pie": [
           {
            "automargin": true,
            "type": "pie"
           }
          ],
          "scatter": [
           {
            "fillpattern": {
             "fillmode": "overlay",
             "size": 10,
             "solidity": 0.2
            },
            "type": "scatter"
           }
          ],
          "scatter3d": [
           {
            "line": {
             "colorbar": {
              "outlinewidth": 0,
              "ticks": ""
             }
            },
            "marker": {
             "colorbar": {
              "outlinewidth": 0,
              "ticks": ""
             }
            },
            "type": "scatter3d"
           }
          ],
          "scattercarpet": [
           {
            "marker": {
             "colorbar": {
              "outlinewidth": 0,
              "ticks": ""
             }
            },
            "type": "scattercarpet"
           }
          ],
          "scattergeo": [
           {
            "marker": {
             "colorbar": {
              "outlinewidth": 0,
              "ticks": ""
             }
            },
            "type": "scattergeo"
           }
          ],
          "scattergl": [
           {
            "marker": {
             "colorbar": {
              "outlinewidth": 0,
              "ticks": ""
             }
            },
            "type": "scattergl"
           }
          ],
          "scattermapbox": [
           {
            "marker": {
             "colorbar": {
              "outlinewidth": 0,
              "ticks": ""
             }
            },
            "type": "scattermapbox"
           }
          ],
          "scatterpolar": [
           {
            "marker": {
             "colorbar": {
              "outlinewidth": 0,
              "ticks": ""
             }
            },
            "type": "scatterpolar"
           }
          ],
          "scatterpolargl": [
           {
            "marker": {
             "colorbar": {
              "outlinewidth": 0,
              "ticks": ""
             }
            },
            "type": "scatterpolargl"
           }
          ],
          "scatterternary": [
           {
            "marker": {
             "colorbar": {
              "outlinewidth": 0,
              "ticks": ""
             }
            },
            "type": "scatterternary"
           }
          ],
          "surface": [
           {
            "colorbar": {
             "outlinewidth": 0,
             "ticks": ""
            },
            "colorscale": [
             [
              0,
              "#0d0887"
             ],
             [
              0.1111111111111111,
              "#46039f"
             ],
             [
              0.2222222222222222,
              "#7201a8"
             ],
             [
              0.3333333333333333,
              "#9c179e"
             ],
             [
              0.4444444444444444,
              "#bd3786"
             ],
             [
              0.5555555555555556,
              "#d8576b"
             ],
             [
              0.6666666666666666,
              "#ed7953"
             ],
             [
              0.7777777777777778,
              "#fb9f3a"
             ],
             [
              0.8888888888888888,
              "#fdca26"
             ],
             [
              1,
              "#f0f921"
             ]
            ],
            "type": "surface"
           }
          ],
          "table": [
           {
            "cells": {
             "fill": {
              "color": "#EBF0F8"
             },
             "line": {
              "color": "white"
             }
            },
            "header": {
             "fill": {
              "color": "#C8D4E3"
             },
             "line": {
              "color": "white"
             }
            },
            "type": "table"
           }
          ]
         },
         "layout": {
          "annotationdefaults": {
           "arrowcolor": "#2a3f5f",
           "arrowhead": 0,
           "arrowwidth": 1
          },
          "autotypenumbers": "strict",
          "coloraxis": {
           "colorbar": {
            "outlinewidth": 0,
            "ticks": ""
           }
          },
          "colorscale": {
           "diverging": [
            [
             0,
             "#8e0152"
            ],
            [
             0.1,
             "#c51b7d"
            ],
            [
             0.2,
             "#de77ae"
            ],
            [
             0.3,
             "#f1b6da"
            ],
            [
             0.4,
             "#fde0ef"
            ],
            [
             0.5,
             "#f7f7f7"
            ],
            [
             0.6,
             "#e6f5d0"
            ],
            [
             0.7,
             "#b8e186"
            ],
            [
             0.8,
             "#7fbc41"
            ],
            [
             0.9,
             "#4d9221"
            ],
            [
             1,
             "#276419"
            ]
           ],
           "sequential": [
            [
             0,
             "#0d0887"
            ],
            [
             0.1111111111111111,
             "#46039f"
            ],
            [
             0.2222222222222222,
             "#7201a8"
            ],
            [
             0.3333333333333333,
             "#9c179e"
            ],
            [
             0.4444444444444444,
             "#bd3786"
            ],
            [
             0.5555555555555556,
             "#d8576b"
            ],
            [
             0.6666666666666666,
             "#ed7953"
            ],
            [
             0.7777777777777778,
             "#fb9f3a"
            ],
            [
             0.8888888888888888,
             "#fdca26"
            ],
            [
             1,
             "#f0f921"
            ]
           ],
           "sequentialminus": [
            [
             0,
             "#0d0887"
            ],
            [
             0.1111111111111111,
             "#46039f"
            ],
            [
             0.2222222222222222,
             "#7201a8"
            ],
            [
             0.3333333333333333,
             "#9c179e"
            ],
            [
             0.4444444444444444,
             "#bd3786"
            ],
            [
             0.5555555555555556,
             "#d8576b"
            ],
            [
             0.6666666666666666,
             "#ed7953"
            ],
            [
             0.7777777777777778,
             "#fb9f3a"
            ],
            [
             0.8888888888888888,
             "#fdca26"
            ],
            [
             1,
             "#f0f921"
            ]
           ]
          },
          "colorway": [
           "#636efa",
           "#EF553B",
           "#00cc96",
           "#ab63fa",
           "#FFA15A",
           "#19d3f3",
           "#FF6692",
           "#B6E880",
           "#FF97FF",
           "#FECB52"
          ],
          "font": {
           "color": "#2a3f5f"
          },
          "geo": {
           "bgcolor": "white",
           "lakecolor": "white",
           "landcolor": "#E5ECF6",
           "showlakes": true,
           "showland": true,
           "subunitcolor": "white"
          },
          "hoverlabel": {
           "align": "left"
          },
          "hovermode": "closest",
          "mapbox": {
           "style": "light"
          },
          "paper_bgcolor": "white",
          "plot_bgcolor": "#E5ECF6",
          "polar": {
           "angularaxis": {
            "gridcolor": "white",
            "linecolor": "white",
            "ticks": ""
           },
           "bgcolor": "#E5ECF6",
           "radialaxis": {
            "gridcolor": "white",
            "linecolor": "white",
            "ticks": ""
           }
          },
          "scene": {
           "xaxis": {
            "backgroundcolor": "#E5ECF6",
            "gridcolor": "white",
            "gridwidth": 2,
            "linecolor": "white",
            "showbackground": true,
            "ticks": "",
            "zerolinecolor": "white"
           },
           "yaxis": {
            "backgroundcolor": "#E5ECF6",
            "gridcolor": "white",
            "gridwidth": 2,
            "linecolor": "white",
            "showbackground": true,
            "ticks": "",
            "zerolinecolor": "white"
           },
           "zaxis": {
            "backgroundcolor": "#E5ECF6",
            "gridcolor": "white",
            "gridwidth": 2,
            "linecolor": "white",
            "showbackground": true,
            "ticks": "",
            "zerolinecolor": "white"
           }
          },
          "shapedefaults": {
           "line": {
            "color": "#2a3f5f"
           }
          },
          "ternary": {
           "aaxis": {
            "gridcolor": "white",
            "linecolor": "white",
            "ticks": ""
           },
           "baxis": {
            "gridcolor": "white",
            "linecolor": "white",
            "ticks": ""
           },
           "bgcolor": "#E5ECF6",
           "caxis": {
            "gridcolor": "white",
            "linecolor": "white",
            "ticks": ""
           }
          },
          "title": {
           "x": 0.05
          },
          "xaxis": {
           "automargin": true,
           "gridcolor": "white",
           "linecolor": "white",
           "ticks": "",
           "title": {
            "standoff": 15
           },
           "zerolinecolor": "white",
           "zerolinewidth": 2
          },
          "yaxis": {
           "automargin": true,
           "gridcolor": "white",
           "linecolor": "white",
           "ticks": "",
           "title": {
            "standoff": 15
           },
           "zerolinecolor": "white",
           "zerolinewidth": 2
          }
         }
        },
        "title": {
         "text": "Skimmed milk powder produce across the European continent in 2020"
        }
       }
      },
      "text/html": [
       "<div>                            <div id=\"4a4c4fc5-d0ea-41b8-81b2-44604b9f876c\" class=\"plotly-graph-div\" style=\"height:525px; width:100%;\"></div>            <script type=\"text/javascript\">                require([\"plotly\"], function(Plotly) {                    window.PLOTLYENV=window.PLOTLYENV || {};                                    if (document.getElementById(\"4a4c4fc5-d0ea-41b8-81b2-44604b9f876c\")) {                    Plotly.newPlot(                        \"4a4c4fc5-d0ea-41b8-81b2-44604b9f876c\",                        [{\"coloraxis\":\"coloraxis\",\"geo\":\"geo\",\"hovertemplate\":\"<b>%{hovertext}</b><br><br>code=%{location}<br>number=%{z}<extra></extra>\",\"hovertext\":[\"Dnmark\",\"Spain\",\"Grmany \",\"Franc\",\"Italy\",\"Romania\",\"Irland\"],\"locations\":[\"DNK\",\"ESP\",\"DEU\",\"FRA\",\"ITA\",\"ROU\",\"IRL\"],\"name\":\"\",\"z\":[199,50,497,417,92,10,294],\"type\":\"choropleth\"}],                        {\"template\":{\"data\":{\"histogram2dcontour\":[{\"type\":\"histogram2dcontour\",\"colorbar\":{\"outlinewidth\":0,\"ticks\":\"\"},\"colorscale\":[[0.0,\"#0d0887\"],[0.1111111111111111,\"#46039f\"],[0.2222222222222222,\"#7201a8\"],[0.3333333333333333,\"#9c179e\"],[0.4444444444444444,\"#bd3786\"],[0.5555555555555556,\"#d8576b\"],[0.6666666666666666,\"#ed7953\"],[0.7777777777777778,\"#fb9f3a\"],[0.8888888888888888,\"#fdca26\"],[1.0,\"#f0f921\"]]}],\"choropleth\":[{\"type\":\"choropleth\",\"colorbar\":{\"outlinewidth\":0,\"ticks\":\"\"}}],\"histogram2d\":[{\"type\":\"histogram2d\",\"colorbar\":{\"outlinewidth\":0,\"ticks\":\"\"},\"colorscale\":[[0.0,\"#0d0887\"],[0.1111111111111111,\"#46039f\"],[0.2222222222222222,\"#7201a8\"],[0.3333333333333333,\"#9c179e\"],[0.4444444444444444,\"#bd3786\"],[0.5555555555555556,\"#d8576b\"],[0.6666666666666666,\"#ed7953\"],[0.7777777777777778,\"#fb9f3a\"],[0.8888888888888888,\"#fdca26\"],[1.0,\"#f0f921\"]]}],\"heatmap\":[{\"type\":\"heatmap\",\"colorbar\":{\"outlinewidth\":0,\"ticks\":\"\"},\"colorscale\":[[0.0,\"#0d0887\"],[0.1111111111111111,\"#46039f\"],[0.2222222222222222,\"#7201a8\"],[0.3333333333333333,\"#9c179e\"],[0.4444444444444444,\"#bd3786\"],[0.5555555555555556,\"#d8576b\"],[0.6666666666666666,\"#ed7953\"],[0.7777777777777778,\"#fb9f3a\"],[0.8888888888888888,\"#fdca26\"],[1.0,\"#f0f921\"]]}],\"heatmapgl\":[{\"type\":\"heatmapgl\",\"colorbar\":{\"outlinewidth\":0,\"ticks\":\"\"},\"colorscale\":[[0.0,\"#0d0887\"],[0.1111111111111111,\"#46039f\"],[0.2222222222222222,\"#7201a8\"],[0.3333333333333333,\"#9c179e\"],[0.4444444444444444,\"#bd3786\"],[0.5555555555555556,\"#d8576b\"],[0.6666666666666666,\"#ed7953\"],[0.7777777777777778,\"#fb9f3a\"],[0.8888888888888888,\"#fdca26\"],[1.0,\"#f0f921\"]]}],\"contourcarpet\":[{\"type\":\"contourcarpet\",\"colorbar\":{\"outlinewidth\":0,\"ticks\":\"\"}}],\"contour\":[{\"type\":\"contour\",\"colorbar\":{\"outlinewidth\":0,\"ticks\":\"\"},\"colorscale\":[[0.0,\"#0d0887\"],[0.1111111111111111,\"#46039f\"],[0.2222222222222222,\"#7201a8\"],[0.3333333333333333,\"#9c179e\"],[0.4444444444444444,\"#bd3786\"],[0.5555555555555556,\"#d8576b\"],[0.6666666666666666,\"#ed7953\"],[0.7777777777777778,\"#fb9f3a\"],[0.8888888888888888,\"#fdca26\"],[1.0,\"#f0f921\"]]}],\"surface\":[{\"type\":\"surface\",\"colorbar\":{\"outlinewidth\":0,\"ticks\":\"\"},\"colorscale\":[[0.0,\"#0d0887\"],[0.1111111111111111,\"#46039f\"],[0.2222222222222222,\"#7201a8\"],[0.3333333333333333,\"#9c179e\"],[0.4444444444444444,\"#bd3786\"],[0.5555555555555556,\"#d8576b\"],[0.6666666666666666,\"#ed7953\"],[0.7777777777777778,\"#fb9f3a\"],[0.8888888888888888,\"#fdca26\"],[1.0,\"#f0f921\"]]}],\"mesh3d\":[{\"type\":\"mesh3d\",\"colorbar\":{\"outlinewidth\":0,\"ticks\":\"\"}}],\"scatter\":[{\"fillpattern\":{\"fillmode\":\"overlay\",\"size\":10,\"solidity\":0.2},\"type\":\"scatter\"}],\"parcoords\":[{\"type\":\"parcoords\",\"line\":{\"colorbar\":{\"outlinewidth\":0,\"ticks\":\"\"}}}],\"scatterpolargl\":[{\"type\":\"scatterpolargl\",\"marker\":{\"colorbar\":{\"outlinewidth\":0,\"ticks\":\"\"}}}],\"bar\":[{\"error_x\":{\"color\":\"#2a3f5f\"},\"error_y\":{\"color\":\"#2a3f5f\"},\"marker\":{\"line\":{\"color\":\"#E5ECF6\",\"width\":0.5},\"pattern\":{\"fillmode\":\"overlay\",\"size\":10,\"solidity\":0.2}},\"type\":\"bar\"}],\"scattergeo\":[{\"type\":\"scattergeo\",\"marker\":{\"colorbar\":{\"outlinewidth\":0,\"ticks\":\"\"}}}],\"scatterpolar\":[{\"type\":\"scatterpolar\",\"marker\":{\"colorbar\":{\"outlinewidth\":0,\"ticks\":\"\"}}}],\"histogram\":[{\"marker\":{\"pattern\":{\"fillmode\":\"overlay\",\"size\":10,\"solidity\":0.2}},\"type\":\"histogram\"}],\"scattergl\":[{\"type\":\"scattergl\",\"marker\":{\"colorbar\":{\"outlinewidth\":0,\"ticks\":\"\"}}}],\"scatter3d\":[{\"type\":\"scatter3d\",\"line\":{\"colorbar\":{\"outlinewidth\":0,\"ticks\":\"\"}},\"marker\":{\"colorbar\":{\"outlinewidth\":0,\"ticks\":\"\"}}}],\"scattermapbox\":[{\"type\":\"scattermapbox\",\"marker\":{\"colorbar\":{\"outlinewidth\":0,\"ticks\":\"\"}}}],\"scatterternary\":[{\"type\":\"scatterternary\",\"marker\":{\"colorbar\":{\"outlinewidth\":0,\"ticks\":\"\"}}}],\"scattercarpet\":[{\"type\":\"scattercarpet\",\"marker\":{\"colorbar\":{\"outlinewidth\":0,\"ticks\":\"\"}}}],\"carpet\":[{\"aaxis\":{\"endlinecolor\":\"#2a3f5f\",\"gridcolor\":\"white\",\"linecolor\":\"white\",\"minorgridcolor\":\"white\",\"startlinecolor\":\"#2a3f5f\"},\"baxis\":{\"endlinecolor\":\"#2a3f5f\",\"gridcolor\":\"white\",\"linecolor\":\"white\",\"minorgridcolor\":\"white\",\"startlinecolor\":\"#2a3f5f\"},\"type\":\"carpet\"}],\"table\":[{\"cells\":{\"fill\":{\"color\":\"#EBF0F8\"},\"line\":{\"color\":\"white\"}},\"header\":{\"fill\":{\"color\":\"#C8D4E3\"},\"line\":{\"color\":\"white\"}},\"type\":\"table\"}],\"barpolar\":[{\"marker\":{\"line\":{\"color\":\"#E5ECF6\",\"width\":0.5},\"pattern\":{\"fillmode\":\"overlay\",\"size\":10,\"solidity\":0.2}},\"type\":\"barpolar\"}],\"pie\":[{\"automargin\":true,\"type\":\"pie\"}]},\"layout\":{\"autotypenumbers\":\"strict\",\"colorway\":[\"#636efa\",\"#EF553B\",\"#00cc96\",\"#ab63fa\",\"#FFA15A\",\"#19d3f3\",\"#FF6692\",\"#B6E880\",\"#FF97FF\",\"#FECB52\"],\"font\":{\"color\":\"#2a3f5f\"},\"hovermode\":\"closest\",\"hoverlabel\":{\"align\":\"left\"},\"paper_bgcolor\":\"white\",\"plot_bgcolor\":\"#E5ECF6\",\"polar\":{\"bgcolor\":\"#E5ECF6\",\"angularaxis\":{\"gridcolor\":\"white\",\"linecolor\":\"white\",\"ticks\":\"\"},\"radialaxis\":{\"gridcolor\":\"white\",\"linecolor\":\"white\",\"ticks\":\"\"}},\"ternary\":{\"bgcolor\":\"#E5ECF6\",\"aaxis\":{\"gridcolor\":\"white\",\"linecolor\":\"white\",\"ticks\":\"\"},\"baxis\":{\"gridcolor\":\"white\",\"linecolor\":\"white\",\"ticks\":\"\"},\"caxis\":{\"gridcolor\":\"white\",\"linecolor\":\"white\",\"ticks\":\"\"}},\"coloraxis\":{\"colorbar\":{\"outlinewidth\":0,\"ticks\":\"\"}},\"colorscale\":{\"sequential\":[[0.0,\"#0d0887\"],[0.1111111111111111,\"#46039f\"],[0.2222222222222222,\"#7201a8\"],[0.3333333333333333,\"#9c179e\"],[0.4444444444444444,\"#bd3786\"],[0.5555555555555556,\"#d8576b\"],[0.6666666666666666,\"#ed7953\"],[0.7777777777777778,\"#fb9f3a\"],[0.8888888888888888,\"#fdca26\"],[1.0,\"#f0f921\"]],\"sequentialminus\":[[0.0,\"#0d0887\"],[0.1111111111111111,\"#46039f\"],[0.2222222222222222,\"#7201a8\"],[0.3333333333333333,\"#9c179e\"],[0.4444444444444444,\"#bd3786\"],[0.5555555555555556,\"#d8576b\"],[0.6666666666666666,\"#ed7953\"],[0.7777777777777778,\"#fb9f3a\"],[0.8888888888888888,\"#fdca26\"],[1.0,\"#f0f921\"]],\"diverging\":[[0,\"#8e0152\"],[0.1,\"#c51b7d\"],[0.2,\"#de77ae\"],[0.3,\"#f1b6da\"],[0.4,\"#fde0ef\"],[0.5,\"#f7f7f7\"],[0.6,\"#e6f5d0\"],[0.7,\"#b8e186\"],[0.8,\"#7fbc41\"],[0.9,\"#4d9221\"],[1,\"#276419\"]]},\"xaxis\":{\"gridcolor\":\"white\",\"linecolor\":\"white\",\"ticks\":\"\",\"title\":{\"standoff\":15},\"zerolinecolor\":\"white\",\"automargin\":true,\"zerolinewidth\":2},\"yaxis\":{\"gridcolor\":\"white\",\"linecolor\":\"white\",\"ticks\":\"\",\"title\":{\"standoff\":15},\"zerolinecolor\":\"white\",\"automargin\":true,\"zerolinewidth\":2},\"scene\":{\"xaxis\":{\"backgroundcolor\":\"#E5ECF6\",\"gridcolor\":\"white\",\"linecolor\":\"white\",\"showbackground\":true,\"ticks\":\"\",\"zerolinecolor\":\"white\",\"gridwidth\":2},\"yaxis\":{\"backgroundcolor\":\"#E5ECF6\",\"gridcolor\":\"white\",\"linecolor\":\"white\",\"showbackground\":true,\"ticks\":\"\",\"zerolinecolor\":\"white\",\"gridwidth\":2},\"zaxis\":{\"backgroundcolor\":\"#E5ECF6\",\"gridcolor\":\"white\",\"linecolor\":\"white\",\"showbackground\":true,\"ticks\":\"\",\"zerolinecolor\":\"white\",\"gridwidth\":2}},\"shapedefaults\":{\"line\":{\"color\":\"#2a3f5f\"}},\"annotationdefaults\":{\"arrowcolor\":\"#2a3f5f\",\"arrowhead\":0,\"arrowwidth\":1},\"geo\":{\"bgcolor\":\"white\",\"landcolor\":\"#E5ECF6\",\"subunitcolor\":\"white\",\"showland\":true,\"showlakes\":true,\"lakecolor\":\"white\"},\"title\":{\"x\":0.05},\"mapbox\":{\"style\":\"light\"}}},\"geo\":{\"domain\":{\"x\":[0.0,1.0],\"y\":[0.0,1.0]},\"center\":{},\"scope\":\"europe\"},\"coloraxis\":{\"colorbar\":{\"title\":{\"text\":\"number\"}},\"colorscale\":[[0.0,\"rgb(36, 86, 104)\"],[0.16666666666666666,\"rgb(15, 114, 121)\"],[0.3333333333333333,\"rgb(13, 143, 129)\"],[0.5,\"rgb(57, 171, 126)\"],[0.6666666666666666,\"rgb(110, 197, 116)\"],[0.8333333333333334,\"rgb(169, 220, 103)\"],[1.0,\"rgb(237, 239, 93)\"]]},\"legend\":{\"tracegroupgap\":0},\"margin\":{\"t\":60},\"title\":{\"text\":\"Skimmed milk powder produce across the European continent in 2020\"}},                        {\"responsive\": true}                    ).then(function(){\n",
       "                            \n",
       "var gd = document.getElementById('4a4c4fc5-d0ea-41b8-81b2-44604b9f876c');\n",
       "var x = new MutationObserver(function (mutations, observer) {{\n",
       "        var display = window.getComputedStyle(gd).display;\n",
       "        if (!display || display === 'none') {{\n",
       "            console.log([gd, 'removed!']);\n",
       "            Plotly.purge(gd);\n",
       "            observer.disconnect();\n",
       "        }}\n",
       "}});\n",
       "\n",
       "// Listen for the removal of the full notebook cells\n",
       "var notebookContainer = gd.closest('#notebook-container');\n",
       "if (notebookContainer) {{\n",
       "    x.observe(notebookContainer, {childList: true});\n",
       "}}\n",
       "\n",
       "// Listen for the clearing of the current output cell\n",
       "var outputEl = gd.closest('.output');\n",
       "if (outputEl) {{\n",
       "    x.observe(outputEl, {childList: true});\n",
       "}}\n",
       "\n",
       "                        })                };                });            </script>        </div>"
      ]
     },
     "metadata": {},
     "output_type": "display_data"
    }
   ],
   "source": [
    "fig = px.choropleth(df_euskimmedmilkpowder_produce2020melt2,\n",
    "                    locations=\"code\", \n",
    "# colunm containing ISO 3166 country codes\n",
    "                    color=\"number\", \n",
    "# column by which to color-code\n",
    "                    hover_name=\"country\", # column to display in hover information\n",
    "                 color_continuous_scale=px.colors.sequential.Aggrnyl)\n",
    "fig.update_layout(\n",
    "    # add a title text for the plot\n",
    "    title_text = 'Skimmed milk powder produce across the European continent in 2020',\n",
    "    geo_scope = 'europe' \n",
    "\n",
    ")"
   ]
  },
  {
   "cell_type": "code",
   "execution_count": 248,
   "id": "91e77a13",
   "metadata": {},
   "outputs": [
    {
     "name": "stdout",
     "output_type": "stream",
     "text": [
      "   Year  DAFM Slaughter plants  Disposal in LA Abattoirs  Exports  \\\n",
      "0  2011                1570323                     72935   215780   \n",
      "1  2012                1400858                     83054   162038   \n",
      "2  2013                1499551                     88754   212369   \n",
      "3  2014                1648258                    100725   239993   \n",
      "4  2015                1563824                    100414   182482   \n",
      "\n",
      "   Farm to Farm    Marts  Calves_Born_by_Sire_Fresian  \\\n",
      "0       1027286  1655770                       690297   \n",
      "1       1053544  1625660                       711812   \n",
      "2       1099607  1723498                       732096   \n",
      "3       1095022  1697188                       711766   \n",
      "4       1223431  1717558                       733332   \n",
      "\n",
      "   Calves Born by Sire Limousin  Calves Born by Sire Aberdeen Angus  \\\n",
      "0                        382919                              215535   \n",
      "1                        427416                              238479   \n",
      "2                        388986                              234534   \n",
      "3                        395908                              269098   \n",
      "4                        416181                              321964   \n",
      "\n",
      "    Calves Born by Sire Charolais  ...  Beef breeds female 18-24 months  \\\n",
      "0                          385840  ...                           136235   \n",
      "1                          402973  ...                           125493   \n",
      "2                          356618  ...                           124803   \n",
      "3                          357922  ...                           127406   \n",
      "4                          362268  ...                           131798   \n",
      "\n",
      "   Beef breeds female 24-30  beef breeds female 30 months +  Age >25  \\\n",
      "0                    157292                          233696    44150   \n",
      "1                    129559                          196563    43461   \n",
      "2                    144160                          227039    44004   \n",
      "3                    190239                          241972    43356   \n",
      "4                    175207                          204859    42433   \n",
      "\n",
      "   Age 25-49  Age 50-74  Age 75-99  Age 100+  Born to a beef bull  \\\n",
      "0      23938      12724       7868     17332              1346870   \n",
      "1      24078      12946       8148     18705              1453821   \n",
      "2      23896      12702       7896     18692              1321579   \n",
      "3      23789      12407       7691     18444              1386875   \n",
      "4      23946      12651       7864     19051              1501101   \n",
      "\n",
      "   Born to a dairy Bull  \n",
      "0                738681  \n",
      "1                748630  \n",
      "2                773286  \n",
      "3                744173  \n",
      "4                762666  \n",
      "\n",
      "[5 rows x 25 columns]\n",
      "number of null values= Year                                  0\n",
      "DAFM Slaughter plants                 0\n",
      "Disposal in LA Abattoirs              0\n",
      "Exports                               0\n",
      "Farm to Farm                          0\n",
      "Marts                                 0\n",
      "Calves_Born_by_Sire_Fresian           0\n",
      "Calves Born by Sire Limousin          0\n",
      "Calves Born by Sire Aberdeen Angus    0\n",
      " Calves Born by Sire Charolais        0\n",
      "Calves Born by Sire Hereford          0\n",
      "Calves Born by Sire Belgian Blue      0\n",
      "Beef breeds male 18-24 months         0\n",
      "Beef breeds male 24-30                0\n",
      "beef breeds male 30 months +          0\n",
      "Beef breeds female 18-24 months       0\n",
      "Beef breeds female 24-30              0\n",
      "beef breeds female 30 months +        0\n",
      "Age >25                               0\n",
      "Age 25-49                             0\n",
      "Age 50-74                             0\n",
      "Age 75-99                             0\n",
      "Age 100+                              0\n",
      "Born to a beef bull                   0\n",
      "Born to a dairy Bull                  0\n",
      "dtype: int64\n"
     ]
    }
   ],
   "source": [
    "#explore dataset1 https://data.gov.ie/dataset/national-trends-in-bovine-data-2011-2021?package_type=dataset\n",
    "print(df_trends_bovine_data.head()) #EDA , no cleaning required\n",
    "df_trends_bovine_data.dtypes\n",
    "df_trends_bovine_data.describe()#NAN values identified\n",
    "print(\"number of null values=\",df_trends_bovine_data.isnull().sum())\n",
    "#best for milking is fresian 90% ireland\n",
    "#graph year and born to dairy cow\n",
    "#graph all on lots of small scatter plots"
   ]
  },
  {
   "cell_type": "code",
   "execution_count": 250,
   "id": "672fb055",
   "metadata": {},
   "outputs": [
    {
     "data": {
      "text/html": [
       "<div>\n",
       "<style scoped>\n",
       "    .dataframe tbody tr th:only-of-type {\n",
       "        vertical-align: middle;\n",
       "    }\n",
       "\n",
       "    .dataframe tbody tr th {\n",
       "        vertical-align: top;\n",
       "    }\n",
       "\n",
       "    .dataframe thead th {\n",
       "        text-align: right;\n",
       "    }\n",
       "</style>\n",
       "<table border=\"1\" class=\"dataframe\">\n",
       "  <thead>\n",
       "    <tr style=\"text-align: right;\">\n",
       "      <th></th>\n",
       "      <th>Year</th>\n",
       "      <th>sire_breed</th>\n",
       "      <th>number</th>\n",
       "    </tr>\n",
       "  </thead>\n",
       "  <tbody>\n",
       "    <tr>\n",
       "      <th>0</th>\n",
       "      <td>2011</td>\n",
       "      <td>Calves_Born_by_Sire_Fresian</td>\n",
       "      <td>690297</td>\n",
       "    </tr>\n",
       "    <tr>\n",
       "      <th>1</th>\n",
       "      <td>2012</td>\n",
       "      <td>Calves_Born_by_Sire_Fresian</td>\n",
       "      <td>711812</td>\n",
       "    </tr>\n",
       "    <tr>\n",
       "      <th>2</th>\n",
       "      <td>2013</td>\n",
       "      <td>Calves_Born_by_Sire_Fresian</td>\n",
       "      <td>732096</td>\n",
       "    </tr>\n",
       "    <tr>\n",
       "      <th>3</th>\n",
       "      <td>2014</td>\n",
       "      <td>Calves_Born_by_Sire_Fresian</td>\n",
       "      <td>711766</td>\n",
       "    </tr>\n",
       "    <tr>\n",
       "      <th>4</th>\n",
       "      <td>2015</td>\n",
       "      <td>Calves_Born_by_Sire_Fresian</td>\n",
       "      <td>733332</td>\n",
       "    </tr>\n",
       "  </tbody>\n",
       "</table>\n",
       "</div>"
      ],
      "text/plain": [
       "   Year                   sire_breed  number\n",
       "0  2011  Calves_Born_by_Sire_Fresian  690297\n",
       "1  2012  Calves_Born_by_Sire_Fresian  711812\n",
       "2  2013  Calves_Born_by_Sire_Fresian  732096\n",
       "3  2014  Calves_Born_by_Sire_Fresian  711766\n",
       "4  2015  Calves_Born_by_Sire_Fresian  733332"
      ]
     },
     "execution_count": 250,
     "metadata": {},
     "output_type": "execute_result"
    }
   ],
   "source": [
    "df_trends_bovine_data.rename(columns={'Calves Born by Sire Fresian': 'Calves_Born_by_Sire_Fresian'}, inplace=True)\n",
    "\n",
    "#subsetting the data looking at cow breeds in ireland\n",
    "df_trends_calf_data=df_trends_bovine_data[['Year','Calves_Born_by_Sire_Fresian','Calves Born by Sire Limousin','Calves Born by Sire Aberdeen Angus',' Calves Born by Sire Charolais','Calves Born by Sire Hereford','Calves Born by Sire Belgian Blue']]\n",
    "df_trends_calf_data.head()\n",
    "#melting data to have categorical variables as sire breeds\n",
    "df_trends_calf_data_melt = pd.melt(df_trends_calf_data, id_vars=['Year'],  value_vars=['Calves_Born_by_Sire_Fresian','Calves Born by Sire Limousin','Calves Born by Sire Aberdeen Angus',' Calves Born by Sire Charolais','Calves Born by Sire Hereford','Calves Born by Sire Belgian Blue'], var_name='sire_breed', value_name='number')\n",
    "df_trends_calf_data_melt.head()\n",
    "\n"
   ]
  },
  {
   "cell_type": "code",
   "execution_count": 14,
   "id": "c589aa25",
   "metadata": {},
   "outputs": [
    {
     "data": {
      "image/png": "[encoded data removed]",
      "text/plain": [
       "<Figure size 640x480 with 1 Axes>"
      ]
     },
     "metadata": {},
     "output_type": "display_data"
    }
   ],
   "source": [
    "chart=sns.barplot(x = \"Year\", y = \"number\", hue = \"sire_breed\", data = df_trends_calf_data_melt,ci = \"sd\",palette='Greens');\n",
    "#rotating ax tick labels to fit\n",
    "sequential_colors = sns.color_palette(\"Greens\", 10)\n",
    "chart.set_xticklabels(chart.get_xticklabels(), rotation=45, horizontalalignment='right')\n",
    "plt.legend(title='sire breed', fontsize='6', title_fontsize='8')\n",
    "#pal = sns.color_palette(\"Greens_d\", len(df_trends_calf_data_melt))\n",
    "plt.show()\n",
    "#highest number of cows bred from fresian sires as best for milking\n",
    "#increasing year on year"
   ]
  },
  {
   "cell_type": "code",
   "execution_count": 239,
   "id": "8c796940",
   "metadata": {},
   "outputs": [
    {
     "data": {
      "text/plain": [
       "<Figure size 640x480 with 0 Axes>"
      ]
     },
     "execution_count": 239,
     "metadata": {},
     "output_type": "execute_result"
    },
    {
     "data": {
      "image/png": "[encoded data removed]",
      "text/plain": [
       "<Figure size 640x480 with 1 Axes>"
      ]
     },
     "metadata": {},
     "output_type": "display_data"
    },
    {
     "data": {
      "text/plain": [
       "<Figure size 640x480 with 0 Axes>"
      ]
     },
     "metadata": {},
     "output_type": "display_data"
    }
   ],
   "source": [
    "#Anova analysis\n",
    "#testing assumptions for anova one by one\n",
    "#Normality plot. Our variable is \"charges\"\n",
    "\n",
    "stats.probplot(df_trends_bovine_data['Calves_Born_by_Sire_Fresian'], plot=plt)\n",
    "plt.figure()"
   ]
  },
  {
   "cell_type": "code",
   "execution_count": 252,
   "id": "6384a4e4",
   "metadata": {},
   "outputs": [
    {
     "data": {
      "text/plain": [
       "ShapiroResult(statistic=0.9387540221214294, pvalue=0.0027784837875515223)"
      ]
     },
     "execution_count": 252,
     "metadata": {},
     "output_type": "execute_result"
    }
   ],
   "source": [
    "#Shapiro wilk test\n",
    "\n",
    "from scipy.stats import shapiro\n",
    "#stats.shapiro(df_trends_bovine_data.Calves_Born_by_Sire_Fresian[df_trends_bovine_data.Year == 2021])\n",
    "shapiro(df_trends_calf_data_melt.Year)\n",
    "#since p values is greater than 0.05, with a 95% confidence level, we fail to reject null  hypothesis, there not sufficient\n",
    "#evidence to say sample does not come from normal distribution, H1"
   ]
  },
  {
   "cell_type": "code",
   "execution_count": 251,
   "id": "b0484000",
   "metadata": {},
   "outputs": [
    {
     "data": {
      "text/html": [
       "<div>\n",
       "<style scoped>\n",
       "    .dataframe tbody tr th:only-of-type {\n",
       "        vertical-align: middle;\n",
       "    }\n",
       "\n",
       "    .dataframe tbody tr th {\n",
       "        vertical-align: top;\n",
       "    }\n",
       "\n",
       "    .dataframe thead th {\n",
       "        text-align: right;\n",
       "    }\n",
       "</style>\n",
       "<table border=\"1\" class=\"dataframe\">\n",
       "  <thead>\n",
       "    <tr style=\"text-align: right;\">\n",
       "      <th></th>\n",
       "      <th>Year</th>\n",
       "      <th>sire_breed</th>\n",
       "      <th>number</th>\n",
       "    </tr>\n",
       "  </thead>\n",
       "  <tbody>\n",
       "    <tr>\n",
       "      <th>0</th>\n",
       "      <td>2011</td>\n",
       "      <td>Calves_Born_by_Sire_Fresian</td>\n",
       "      <td>690297</td>\n",
       "    </tr>\n",
       "    <tr>\n",
       "      <th>1</th>\n",
       "      <td>2012</td>\n",
       "      <td>Calves_Born_by_Sire_Fresian</td>\n",
       "      <td>711812</td>\n",
       "    </tr>\n",
       "    <tr>\n",
       "      <th>2</th>\n",
       "      <td>2013</td>\n",
       "      <td>Calves_Born_by_Sire_Fresian</td>\n",
       "      <td>732096</td>\n",
       "    </tr>\n",
       "    <tr>\n",
       "      <th>3</th>\n",
       "      <td>2014</td>\n",
       "      <td>Calves_Born_by_Sire_Fresian</td>\n",
       "      <td>711766</td>\n",
       "    </tr>\n",
       "    <tr>\n",
       "      <th>4</th>\n",
       "      <td>2015</td>\n",
       "      <td>Calves_Born_by_Sire_Fresian</td>\n",
       "      <td>733332</td>\n",
       "    </tr>\n",
       "    <tr>\n",
       "      <th>...</th>\n",
       "      <td>...</td>\n",
       "      <td>...</td>\n",
       "      <td>...</td>\n",
       "    </tr>\n",
       "    <tr>\n",
       "      <th>61</th>\n",
       "      <td>2017</td>\n",
       "      <td>Calves Born by Sire Belgian Blue</td>\n",
       "      <td>52945</td>\n",
       "    </tr>\n",
       "    <tr>\n",
       "      <th>62</th>\n",
       "      <td>2018</td>\n",
       "      <td>Calves Born by Sire Belgian Blue</td>\n",
       "      <td>45085</td>\n",
       "    </tr>\n",
       "    <tr>\n",
       "      <th>63</th>\n",
       "      <td>2019</td>\n",
       "      <td>Calves Born by Sire Belgian Blue</td>\n",
       "      <td>40348</td>\n",
       "    </tr>\n",
       "    <tr>\n",
       "      <th>64</th>\n",
       "      <td>2020</td>\n",
       "      <td>Calves Born by Sire Belgian Blue</td>\n",
       "      <td>44347</td>\n",
       "    </tr>\n",
       "    <tr>\n",
       "      <th>65</th>\n",
       "      <td>2021</td>\n",
       "      <td>Calves Born by Sire Belgian Blue</td>\n",
       "      <td>50033</td>\n",
       "    </tr>\n",
       "  </tbody>\n",
       "</table>\n",
       "<p>66 rows × 3 columns</p>\n",
       "</div>"
      ],
      "text/plain": [
       "    Year                        sire_breed  number\n",
       "0   2011       Calves_Born_by_Sire_Fresian  690297\n",
       "1   2012       Calves_Born_by_Sire_Fresian  711812\n",
       "2   2013       Calves_Born_by_Sire_Fresian  732096\n",
       "3   2014       Calves_Born_by_Sire_Fresian  711766\n",
       "4   2015       Calves_Born_by_Sire_Fresian  733332\n",
       "..   ...                               ...     ...\n",
       "61  2017  Calves Born by Sire Belgian Blue   52945\n",
       "62  2018  Calves Born by Sire Belgian Blue   45085\n",
       "63  2019  Calves Born by Sire Belgian Blue   40348\n",
       "64  2020  Calves Born by Sire Belgian Blue   44347\n",
       "65  2021  Calves Born by Sire Belgian Blue   50033\n",
       "\n",
       "[66 rows x 3 columns]"
      ]
     },
     "execution_count": 251,
     "metadata": {},
     "output_type": "execute_result"
    }
   ],
   "source": [
    "df_trends_calf_data_melt"
   ]
  },
  {
   "cell_type": "code",
   "execution_count": 272,
   "id": "a3d26553",
   "metadata": {},
   "outputs": [
    {
     "name": "stdout",
     "output_type": "stream",
     "text": [
      "3.3166247903554 3.3166247903554 3.3166247903554 3.3166247903554\n"
     ]
    }
   ],
   "source": [
    "#subsetting data\n",
    "\n",
    "fresian = df_trends_calf_data_melt.Year[df_trends_calf_data_melt.sire_breed == \"Calves_Born_by_Sire_Fresian\"]\n",
    "belgian_blue = df_trends_calf_data_melt.Year[df_trends_calf_data_melt.sire_breed == \"Calves Born by Sire Belgian Blue\"]\n",
    "limousin = df_trends_calf_data_melt.Year[df_trends_calf_data_melt.sire_breed == \"Calves Born by Sire Limousin\"]\n",
    "Aberdeen = df_trends_calf_data_melt.Year[df_trends_calf_data_melt.sire_breed == \"Calves Born by Sire Aberdeen Angus\"]\n",
    "\n",
    "sd1 = fresian.std()\n",
    "sd2 = belgian_blue.std()\n",
    "sd3 = limousin.std()\n",
    "sd4 = Aberdeen.std()\n",
    "print(sd1,sd2,sd3,sd4)#all identical"
   ]
  },
  {
   "cell_type": "code",
   "execution_count": 276,
   "id": "b7a2bb10",
   "metadata": {},
   "outputs": [
    {
     "data": {
      "text/plain": [
       "LeveneResult(statistic=1.1546633411097874e-30, pvalue=1.0)"
      ]
     },
     "execution_count": 276,
     "metadata": {},
     "output_type": "execute_result"
    }
   ],
   "source": [
    "#Homogeinity of variance: Levene's test\n",
    "from scipy.stats import levene\n",
    "levene(fresian, belgian_blue, limousin,center = 'mean')\n",
    "\n",
    "#since p-value for the Levene test is greater than . 05, then the variances are not significantly different from each other "
   ]
  },
  {
   "cell_type": "code",
   "execution_count": 283,
   "id": "6a223bdc",
   "metadata": {},
   "outputs": [
    {
     "name": "stdout",
     "output_type": "stream",
     "text": [
      "              df        sum_sq       mean_sq              F    PR(>F)\n",
      "----------  ----  ------------  ------------  -------------  --------\n",
      "sire_breed     5    6.8511e-24   1.37022e-24    1.24565e-25         1\n",
      "Residual      60  660           11            nan                 nan\n"
     ]
    }
   ],
   "source": [
    "#ANOVA one way\n",
    "model1 = ols('Year~sire_breed', data = df_trends_calf_data_melt).fit()\n",
    "aov = sm.stats.anova_lm(model1, type=2)\n",
    "print (tabulate(aov, headers=[\"df\", \"sum_sq\", \"mean_sq\", \"F\", \"PR(>F)\"]))\n",
    "\n",
    "# The alternative hypothesis (H1) is that there is a difference between the means, p value>0.05"
   ]
  },
  {
   "cell_type": "code",
   "execution_count": 15,
   "id": "ff971ab7",
   "metadata": {},
   "outputs": [
    {
     "name": "stdout",
     "output_type": "stream",
     "text": [
      "STATISTIC           object\n",
      "STATISTIC Label     object\n",
      "TLIST(M1)            int64\n",
      "Month               object\n",
      "C02064V02491         int64\n",
      "Type of Milk        object\n",
      "UNIT                object\n",
      "VALUE              float64\n",
      "dtype: object\n",
      "  STATISTIC                           STATISTIC Label  TLIST(M1)  \\\n",
      "0     AKM02  Milk Sales (Dairy) for Human Consumption     198001   \n",
      "1     AKM02  Milk Sales (Dairy) for Human Consumption     198001   \n",
      "2     AKM02  Milk Sales (Dairy) for Human Consumption     198001   \n",
      "3     AKM02  Milk Sales (Dairy) for Human Consumption     198001   \n",
      "4     AKM02  Milk Sales (Dairy) for Human Consumption     198001   \n",
      "\n",
      "          Month  C02064V02491                   Type of Milk            UNIT  \\\n",
      "0  1980 January             1                       All Milk  Million Litres   \n",
      "1  1980 January            12                     Whole Milk  Million Litres   \n",
      "2  1980 January            13  Skimmed and Semi-skimmed milk  Million Litres   \n",
      "3  1980 January            14                   Skimmed Milk  Million Litres   \n",
      "4  1980 January            15              Semi-skimmed milk  Million Litres   \n",
      "\n",
      "   VALUE  year    month  \n",
      "0   38.2  1980  January  \n",
      "1   38.2  1980  January  \n",
      "2    NaN  1980  January  \n",
      "3    NaN  1980  January  \n",
      "4    NaN  1980  January  \n"
     ]
    },
    {
     "name": "stderr",
     "output_type": "stream",
     "text": [
      "C:\\Users\\teresa\\AppData\\Local\\Temp\\ipykernel_21336\\4190003954.py:8: FutureWarning: Columnar iteration over characters will be deprecated in future releases.\n",
      "  df_milk_sales8021['year'],df_milk_sales8021['month'] = df_milk_sales8021['Month'].str.split(' ', 2).str\n"
     ]
    }
   ],
   "source": [
    "#print(df_milk_sales8021.head()) #EDA \n",
    "print(df_milk_sales8021.dtypes)\n",
    "df_milk_sales8021.describe()#\n",
    "#df_milk_sales8021.drop(columns=[\"STATISTIC\",\"TLIST(M1)\",\"C02064V02491\"], inplace=True) #dropping columns\n",
    "\n",
    "#separating month column\n",
    "df_milk_sales8021['Month']=df_milk_sales8021['Month'].astype(str)\n",
    "df_milk_sales8021['year'],df_milk_sales8021['month'] = df_milk_sales8021['Month'].str.split(' ', 2).str\n",
    "print(df_milk_sales8021.head())\n",
    "df_milk_sales8021.drop(columns=[\"Month\"], inplace=True) #dropping columns\n"
   ]
  },
  {
   "cell_type": "code",
   "execution_count": 16,
   "id": "01863c02",
   "metadata": {},
   "outputs": [
    {
     "name": "stdout",
     "output_type": "stream",
     "text": [
      "   STATISTIC                           STATISTIC Label  TLIST(M1)  \\\n",
      "0      AKM02  Milk Sales (Dairy) for Human Consumption     198001   \n",
      "1      AKM02  Milk Sales (Dairy) for Human Consumption     198001   \n",
      "5      AKM02  Milk Sales (Dairy) for Human Consumption     198002   \n",
      "6      AKM02  Milk Sales (Dairy) for Human Consumption     198002   \n",
      "10     AKM02  Milk Sales (Dairy) for Human Consumption     198003   \n",
      "\n",
      "    C02064V02491 Type of Milk            UNIT  VALUE  year     month  \n",
      "0              1     All Milk  Million Litres   38.2  1980   January  \n",
      "1             12   Whole Milk  Million Litres   38.2  1980   January  \n",
      "5              1     All Milk  Million Litres   36.6  1980  February  \n",
      "6             12   Whole Milk  Million Litres   36.6  1980  February  \n",
      "10             1     All Milk  Million Litres   38.4  1980     March  \n"
     ]
    }
   ],
   "source": [
    "#missing data, only 2 sale values per month so deleting other rows\n",
    "#df_milk_sales8021['VALUE'].fillna(0)\n",
    "df_milk_sales8021['VALUE'] = df_milk_sales8021['VALUE'].replace(np.nan, 0) \n",
    "\n",
    "df_milk_sales8021['VALUE'] = pd.to_numeric(df_milk_sales8021['VALUE'] )\n",
    "df_milk_sales8021['VALUE'].astype(float)\n",
    "\n",
    "df_milk_sales8021.drop(df_milk_sales8021[df_milk_sales8021.VALUE < 1.0].index, inplace=True)\n",
    "print(df_milk_sales8021.head())"
   ]
  },
  {
   "cell_type": "code",
   "execution_count": 17,
   "id": "b01b31cd",
   "metadata": {},
   "outputs": [],
   "source": [
    "#creating new column\n",
    "#create new subset\n",
    "df_milk_skimmed=df_milk_sales8021.loc[df_milk_sales8021[\"Type of Milk\"] == \"Skimmed Milk\", ['year', 'VALUE']]\n",
    "df_milk_semiskimmed=df_milk_sales8021.loc[df_milk_sales8021[\"Type of Milk\"] == \"Semi-skimmed milk\", ['year', 'VALUE']] \n",
    "df_milk_whole=df_milk_sales8021.loc[df_milk_sales8021[\"Type of Milk\"] == \"Whole Milk\", ['year', 'VALUE']] "
   ]
  },
  {
   "cell_type": "code",
   "execution_count": 18,
   "id": "4f4369aa",
   "metadata": {},
   "outputs": [
    {
     "data": {
      "image/png": "[encoded data removed]",
      "text/plain": [
       "<Figure size 800x500 with 1 Axes>"
      ]
     },
     "metadata": {},
     "output_type": "display_data"
    }
   ],
   "source": [
    "x = df_milk_sales8021['year']\n",
    "y = df_milk_sales8021['VALUE']\n",
    "plt.figure(figsize=(8,5))\n",
    "\n",
    "plt.bar(x, y, label='Year', color='black',  width=.6, align='center', alpha=0.7)\n",
    "\n",
    "plt.xlabel('YEAR', fontsize = 16)\n",
    "plt.ylabel('Value in million litres', fontsize = 16)\n",
    "plt.title('Milk Sales between 1980 and 2022'.format(x.min(), x.max()), fontsize=16)\n",
    "plt.xticks(rotation=90)\n",
    "    \n",
    "plt.grid(axis='x')\n",
    "#plt.legend()\n",
    "# plt.savefig('data/images/Bar_plot.png')\n",
    "plt.show()\n",
    "#separate type of milk"
   ]
  },
  {
   "cell_type": "code",
   "execution_count": 19,
   "id": "3c91f05b",
   "metadata": {},
   "outputs": [
    {
     "data": {
      "image/png": "[encoded data removed]",
      "text/plain": [
       "<Figure size 800x500 with 1 Axes>"
      ]
     },
     "metadata": {},
     "output_type": "display_data"
    }
   ],
   "source": [
    "#looking at skimmed milk sales,  upward trend\n",
    "x = df_milk_skimmed['year']\n",
    "y = df_milk_skimmed['VALUE']\n",
    "plt.figure(figsize=(8,5))\n",
    "\n",
    "plt.bar(x, y, label='Year', color='black',  width=.6, align='center', alpha=0.7)\n",
    "\n",
    "plt.xlabel('YEAR', fontsize = 16)\n",
    "plt.ylabel('Value in million litres', fontsize = 16)\n",
    "plt.title('Skimmed Milk Sales between 1997 and 2020'.format(x.min(), x.max()), fontsize=16)\n",
    "plt.xticks(rotation=90)\n",
    "    \n",
    "plt.grid(axis='x')\n",
    "\n",
    "# plt.savefig('data/images/Bar_plot.png')\n",
    "plt.show()\n"
   ]
  },
  {
   "cell_type": "code",
   "execution_count": 20,
   "id": "91d838df",
   "metadata": {},
   "outputs": [
    {
     "data": {
      "image/png": "[encoded data removed]",
      "text/plain": [
       "<Figure size 800x500 with 1 Axes>"
      ]
     },
     "metadata": {},
     "output_type": "display_data"
    }
   ],
   "source": [
    "#looking at whole milk sales, downward trend\n",
    "x = df_milk_whole['year']\n",
    "y = df_milk_whole['VALUE']\n",
    "plt.figure(figsize=(8,5))\n",
    "\n",
    "lr.fit(df_milk_whole[['year']],df_milk_whole['VALUE'])\n",
    "plt.bar(x, y, label='Year', color='black',  width=.6, align='center', alpha=0.7)\n",
    "\n",
    "plt.xlabel('YEAR', fontsize = 16)\n",
    "plt.ylabel('Value in million litres', fontsize = 16)\n",
    "plt.title('Whole Milk Sales between 1980 and 2022'.format(x.min(), x.max()), fontsize=16)\n",
    "plt.xticks(rotation=90)\n",
    "    \n",
    "plt.grid(axis='x')\n",
    "\n",
    "\n",
    "#separate type of milk\n",
    "#plt.plot(df_milk_whole['VALUE'], lr.coef_*df_milk_whole['VALUE']+lr.intercept_, color='orange')\n",
    "#plt.plot(df_milk_whole['VALUE'], df_milk_whole['year'], '-o', color='orange')"
   ]
  },
  {
   "cell_type": "code",
   "execution_count": 21,
   "id": "d5227bcf",
   "metadata": {},
   "outputs": [
    {
     "data": {
      "image/png": "[encoded data removed]",
      "text/plain": [
       "<Figure size 800x500 with 1 Axes>"
      ]
     },
     "metadata": {},
     "output_type": "display_data"
    }
   ],
   "source": [
    "x = df_milk_semiskimmed['year']\n",
    "y = df_milk_semiskimmed['VALUE']\n",
    "plt.figure(figsize=(8,5))\n",
    "\n",
    "plt.bar(x, y, label='Year', color='black',  width=.6, align='center', alpha=0.7)\n",
    "\n",
    "plt.xlabel('YEAR', fontsize = 16)\n",
    "plt.ylabel('Value in million litres', fontsize = 16)\n",
    "plt.title('Semi skimmed Milk Sales between 1985 and 2020'.format(x.min(), x.max()), fontsize=16)\n",
    "plt.xticks(rotation=90)\n",
    "    \n",
    "plt.grid(axis='x')\n",
    "#plt.legend()\n",
    "# plt.savefig('data/images/Bar_plot.png')\n",
    "plt.show()\n",
    "#separate type of milk"
   ]
  },
  {
   "cell_type": "code",
   "execution_count": 22,
   "id": "71cc8b70",
   "metadata": {},
   "outputs": [
    {
     "name": "stdout",
     "output_type": "stream",
     "text": [
      "STATISTIC           object\n",
      "STATISTIC Label     object\n",
      "TLIST(A1)            int64\n",
      "Year                 int64\n",
      "C02136V02577         int64\n",
      "Product             object\n",
      "UNIT                object\n",
      "VALUE              float64\n",
      "dtype: object\n",
      "  STATISTIC                            STATISTIC Label  TLIST(A1)  Year  \\\n",
      "0     AJA07  Manufacturing Milk Prices (including VAT)       2007  2007   \n",
      "1     AJA07  Manufacturing Milk Prices (including VAT)       2007  2007   \n",
      "2     AJA07  Manufacturing Milk Prices (including VAT)       2008  2008   \n",
      "3     AJA07  Manufacturing Milk Prices (including VAT)       2008  2008   \n",
      "4     AJA07  Manufacturing Milk Prices (including VAT)       2009  2009   \n",
      "\n",
      "   C02136V02577                                      Product  UNIT  VALUE  \n",
      "0             1     Milk (per litre), actual fat and protein  Euro  0.339  \n",
      "1             2  Milk (per litre), 3.7% fat and 3.3% protein  Euro  0.332  \n",
      "2             1     Milk (per litre), actual fat and protein  Euro  0.337  \n",
      "3             2  Milk (per litre), 3.7% fat and 3.3% protein  Euro  0.331  \n",
      "4             1     Milk (per litre), actual fat and protein  Euro  0.232  \n"
     ]
    }
   ],
   "source": [
    "\n",
    "print(df_milk_prices0721 .dtypes)\n",
    "df_milk_prices0721 .describe()\n",
    "#df_milk_prices07211.drop(columns=[\"STATISTIC\",\"TLIST(A1)\",\"C02136V02577\"], inplace=True) \n",
    "#dropping columns, tlist is duplicate of year and C02136V02577 no info on \n",
    "print(df_milk_prices0721.head())"
   ]
  },
  {
   "cell_type": "code",
   "execution_count": 23,
   "id": "4932fbf8",
   "metadata": {},
   "outputs": [
    {
     "data": {
      "image/png": "[encoded data removed]",
      "text/plain": [
       "<Figure size 800x500 with 1 Axes>"
      ]
     },
     "metadata": {},
     "output_type": "display_data"
    }
   ],
   "source": [
    "x = df_milk_prices0721['Year']\n",
    "y = df_milk_prices0721['VALUE']\n",
    "#df_milk_prices0721['VALUE']= df_milk_prices0721['VALUE'].astype(float)\n",
    "#df_milk_prices0721['VALUE']= df_milk_prices0721['VALUE'].astype(float)\n",
    "plt.figure(figsize=(8,5))\n",
    "\n",
    "plt.bar(x, y, label='Year', color='grey',  width=.6, align='center', alpha=0.7)\n",
    "plt.xticks(rotation=90)\n",
    "plt.xlabel('YEAR', fontsize = 12)\n",
    "plt.ylabel('Value in euro per litre', fontsize = 12)\n",
    "    \n",
    "plt.grid(axis='x')\n",
    "\n",
    "\n",
    "plt.title('Manufacturing milk prices between 2007 and 2022')\n",
    "plt.savefig('Manufacturing milk prices between 2007 and 2022.png')\n",
    "plt.show()\n",
    "#separate type of milk"
   ]
  },
  {
   "cell_type": "code",
   "execution_count": 24,
   "id": "44582965",
   "metadata": {},
   "outputs": [
    {
     "name": "stdout",
     "output_type": "stream",
     "text": [
      "r value= [[1.         0.28298794]\n",
      " [0.28298794 1.        ]]\n",
      "Pearsons_r_value= PearsonRResult(statistic=0.282987941990748, pvalue=0.12969763459204406)\n",
      "Kendalls tau value= KendalltauResult(correlation=0.17098316432938773, pvalue=0.1916487375405196)\n"
     ]
    },
    {
     "data": {
      "image/png": "[encoded data removed]",
      "text/plain": [
       "<Figure size 640x480 with 1 Axes>"
      ]
     },
     "metadata": {},
     "output_type": "display_data"
    }
   ],
   "source": [
    "#combining sales and price datasets to check for correlation\n",
    "#filtering milk sales data on whole milk only to allow for comparison between 2007 and 2021 based on available data from cso office\n",
    "\n",
    "df_wholemilk_sales0721=df_milk_sales0721.loc[(df_milk_sales0721[\"Type of Milk\"] == \"Whole Milk\"), ['VALUE','Year','Type of Milk']]\n",
    "df_wholemilk_sales0721.rename(columns={'VALUE': 'value_sold'}, inplace=True)\n",
    "#converting value to unit litres from million litres\n",
    "\n",
    "#Value_litres_sold=df_wholemilk_sales0721['VALUE']*100000000\n",
    "#print(Value_litres)\n",
    "#df_wholemilk_sales0721 = df_wholemilk_sales0721.assign(Value_litres_sold=df_wholemilk_sales0721['VALUE']*100000000 )\n",
    "\n",
    "#df_wholemilk_sales0721.drop(columns=[\"VALUE\"], inplace=True) #dropping columns\n",
    "#filtering milk sales data on whole milk only \n",
    "\n",
    "df_wholemilk_prices0721=df_milk_prices0721.loc[(df_milk_prices0721[\"Product\"] == \"Milk (per litre), actual fat and protein\"), ['VALUE','Year','Product']]\n",
    "\n",
    "df_wholemilk_prices0721.rename(columns={'VALUE': 'manufacturing milk price'}, inplace=True)\n",
    "\n",
    "#joining datasets on year\n",
    "df_milkfinancials0721=df_wholemilk_sales0721.merge(df_wholemilk_prices0721,on='Year')\n",
    "df_milkfinancials0721.head()\n",
    "#scatterplot\n",
    "sns.regplot(data=df_milkfinancials0721, y='manufacturing milk price', x='value_sold')\n",
    "#not enough data values to see a correlation, cluster visible when price is between 0.325 and 0.35c/litre. \n",
    "#highest value sold in 2007\n",
    "r = np.corrcoef(x, y)\n",
    "print('r value=',r)\n",
    "print('Pearsons_r_value=',scipy.stats.pearsonr(x, y))   # Pearson's r\n",
    "print('Kendalls tau value=',scipy.stats.kendalltau(x, y))#data is normally distributed"
   ]
  },
  {
   "cell_type": "code",
   "execution_count": 25,
   "id": "7a2876af",
   "metadata": {},
   "outputs": [
    {
     "data": {
      "image/png": "[encoded data removed]",
      "text/plain": [
       "<Figure size 600x600 with 3 Axes>"
      ]
     },
     "metadata": {},
     "output_type": "display_data"
    }
   ],
   "source": [
    "sns.jointplot(x='value_sold', \n",
    "              y='manufacturing milk price',kind=\"reg\",color=\"k\",marginal_kws=dict(bins=10),data=df_milkfinancials0721);"
   ]
  },
  {
   "cell_type": "code",
   "execution_count": 26,
   "id": "627a78ff",
   "metadata": {},
   "outputs": [
    {
     "data": {
      "text/html": [
       "<div>\n",
       "<style scoped>\n",
       "    .dataframe tbody tr th:only-of-type {\n",
       "        vertical-align: middle;\n",
       "    }\n",
       "\n",
       "    .dataframe tbody tr th {\n",
       "        vertical-align: top;\n",
       "    }\n",
       "\n",
       "    .dataframe thead th {\n",
       "        text-align: right;\n",
       "    }\n",
       "</style>\n",
       "<table border=\"1\" class=\"dataframe\">\n",
       "  <thead>\n",
       "    <tr style=\"text-align: right;\">\n",
       "      <th></th>\n",
       "      <th>value_sold</th>\n",
       "      <th>Year</th>\n",
       "      <th>Type of Milk</th>\n",
       "      <th>manufacturing milk price</th>\n",
       "      <th>Product</th>\n",
       "    </tr>\n",
       "  </thead>\n",
       "  <tbody>\n",
       "    <tr>\n",
       "      <th>0</th>\n",
       "      <td>374.30</td>\n",
       "      <td>2007</td>\n",
       "      <td>Whole Milk</td>\n",
       "      <td>0.339</td>\n",
       "      <td>Milk (per litre), actual fat and protein</td>\n",
       "    </tr>\n",
       "    <tr>\n",
       "      <th>1</th>\n",
       "      <td>357.30</td>\n",
       "      <td>2008</td>\n",
       "      <td>Whole Milk</td>\n",
       "      <td>0.337</td>\n",
       "      <td>Milk (per litre), actual fat and protein</td>\n",
       "    </tr>\n",
       "    <tr>\n",
       "      <th>2</th>\n",
       "      <td>331.93</td>\n",
       "      <td>2009</td>\n",
       "      <td>Whole Milk</td>\n",
       "      <td>0.232</td>\n",
       "      <td>Milk (per litre), actual fat and protein</td>\n",
       "    </tr>\n",
       "    <tr>\n",
       "      <th>3</th>\n",
       "      <td>322.02</td>\n",
       "      <td>2010</td>\n",
       "      <td>Whole Milk</td>\n",
       "      <td>0.308</td>\n",
       "      <td>Milk (per litre), actual fat and protein</td>\n",
       "    </tr>\n",
       "    <tr>\n",
       "      <th>4</th>\n",
       "      <td>316.38</td>\n",
       "      <td>2011</td>\n",
       "      <td>Whole Milk</td>\n",
       "      <td>0.353</td>\n",
       "      <td>Milk (per litre), actual fat and protein</td>\n",
       "    </tr>\n",
       "  </tbody>\n",
       "</table>\n",
       "</div>"
      ],
      "text/plain": [
       "   value_sold  Year Type of Milk  manufacturing milk price  \\\n",
       "0      374.30  2007   Whole Milk                     0.339   \n",
       "1      357.30  2008   Whole Milk                     0.337   \n",
       "2      331.93  2009   Whole Milk                     0.232   \n",
       "3      322.02  2010   Whole Milk                     0.308   \n",
       "4      316.38  2011   Whole Milk                     0.353   \n",
       "\n",
       "                                    Product  \n",
       "0  Milk (per litre), actual fat and protein  \n",
       "1  Milk (per litre), actual fat and protein  \n",
       "2  Milk (per litre), actual fat and protein  \n",
       "3  Milk (per litre), actual fat and protein  \n",
       "4  Milk (per litre), actual fat and protein  "
      ]
     },
     "execution_count": 26,
     "metadata": {},
     "output_type": "execute_result"
    }
   ],
   "source": [
    "df_milkfinancials0721.head()"
   ]
  },
  {
   "cell_type": "code",
   "execution_count": 27,
   "id": "63bde5a1",
   "metadata": {},
   "outputs": [
    {
     "name": "stdout",
     "output_type": "stream",
     "text": [
      "STATISTIC Label     object\n",
      "Month               object\n",
      "Product             object\n",
      "UNIT                object\n",
      "VALUE              float64\n",
      "dtype: object\n",
      "number of null values= STATISTIC Label     0\n",
      "Month               0\n",
      "Product             0\n",
      "UNIT                0\n",
      "VALUE              33\n",
      "dtype: int64\n"
     ]
    }
   ],
   "source": [
    "#explore dairy production datasets  https://www.cso.ie/en/releasesandpublications/ep/p-ms/milkstatisticsseptember2022/data/\n",
    "\n",
    "#print(df_irish_dairy1022.head()) #EDA , no cleaning required\n",
    "print(df_irish_cheese1022.dtypes)\n",
    "df_irish_butter1022.describe()#NAN values identified\n",
    "print(\"number of null values=\",df_irish_skimmedmilkpowder1022.isnull().sum())#26 zero values under VALUE column\n",
    "\n"
   ]
  },
  {
   "cell_type": "code",
   "execution_count": 28,
   "id": "25f6893e",
   "metadata": {},
   "outputs": [
    {
     "name": "stderr",
     "output_type": "stream",
     "text": [
      "C:\\Users\\teresa\\AppData\\Local\\Temp\\ipykernel_21336\\1236365999.py:3: FutureWarning: Columnar iteration over characters will be deprecated in future releases.\n",
      "  df_irish_cheese1022['year'],df_irish_cheese1022['month'] = df_irish_cheese1022['Month'].str.split(' ', 2).str\n",
      "C:\\Users\\teresa\\AppData\\Local\\Temp\\ipykernel_21336\\1236365999.py:4: FutureWarning: Columnar iteration over characters will be deprecated in future releases.\n",
      "  df_irish_butter1022['year'],df_irish_butter1022['month'] = df_irish_butter1022['Month'].str.split(' ', 2).str\n",
      "C:\\Users\\teresa\\AppData\\Local\\Temp\\ipykernel_21336\\1236365999.py:5: FutureWarning: Columnar iteration over characters will be deprecated in future releases.\n",
      "  df_irish_skimmedmilkpowder1022['year'],df_irish_skimmedmilkpowder1022['month'] = df_irish_skimmedmilkpowder1022['Month'].str.split(' ', 2).str\n"
     ]
    },
    {
     "data": {
      "text/plain": [
       "0       3.00\n",
       "1        NaN\n",
       "2       1.30\n",
       "3       6.80\n",
       "4      10.90\n",
       "       ...  \n",
       "149    26.20\n",
       "150    22.10\n",
       "151    16.92\n",
       "152    13.15\n",
       "153      NaN\n",
       "Name: VALUE, Length: 154, dtype: float64"
      ]
     },
     "execution_count": 28,
     "metadata": {},
     "output_type": "execute_result"
    }
   ],
   "source": [
    "#cleaning\n",
    "#separation of month and year column\n",
    "df_irish_cheese1022['year'],df_irish_cheese1022['month'] = df_irish_cheese1022['Month'].str.split(' ', 2).str\n",
    "df_irish_butter1022['year'],df_irish_butter1022['month'] = df_irish_butter1022['Month'].str.split(' ', 2).str\n",
    "df_irish_skimmedmilkpowder1022['year'],df_irish_skimmedmilkpowder1022['month'] = df_irish_skimmedmilkpowder1022['Month'].str.split(' ', 2).str\n",
    "\n",
    "df_irish_cheese1022['year'].astype(int)\n",
    "df_irish_butter1022 ['year'].astype(int)\n",
    "df_irish_skimmedmilkpowder1022['year'].astype(int)\n",
    "\n",
    "#df_irish_dairy1022.drop(columns=[\"Month\",\"TLIST(M1)\",\"C02064V02491\"], inplace=True) #dropping columns\n",
    "#df_product_cheese[\"VALUE\"]=df_product_cheese[\"VALUE\"].astype(float)\n",
    "#df_product_cheese[\"month\"].str.lower() \n",
    "df_irish_skimmedmilkpowder1022['VALUE']"
   ]
  },
  {
   "cell_type": "code",
   "execution_count": 29,
   "id": "d9ca5c02",
   "metadata": {},
   "outputs": [
    {
     "name": "stdout",
     "output_type": "stream",
     "text": [
      "['January' 'February' 'March' 'April' 'May' 'June' 'July' 'August'\n",
      " 'September' 'October' 'November' 'December']\n"
     ]
    }
   ],
   "source": [
    "print(df_irish_butter1022['month'].unique())"
   ]
  },
  {
   "cell_type": "code",
   "execution_count": 30,
   "id": "2c71f25b",
   "metadata": {},
   "outputs": [
    {
     "name": "stderr",
     "output_type": "stream",
     "text": [
      "C:\\Users\\teresa\\AppData\\Local\\Temp\\ipykernel_21336\\3956336429.py:2: FutureWarning: Dropping of nuisance columns in DataFrame reductions (with 'numeric_only=None') is deprecated; in a future version this will raise TypeError.  Select only valid columns before calling the reduction.\n",
      "  df_irish_cheese1022=df_irish_cheese1022.fillna(df_irish_cheese1022 .mean())\n",
      "C:\\Users\\teresa\\AppData\\Local\\Temp\\ipykernel_21336\\3956336429.py:3: FutureWarning: Dropping of nuisance columns in DataFrame reductions (with 'numeric_only=None') is deprecated; in a future version this will raise TypeError.  Select only valid columns before calling the reduction.\n",
      "  df_irish_butter1022=df_irish_butter1022.fillna(df_irish_butter1022 .mean())\n",
      "C:\\Users\\teresa\\AppData\\Local\\Temp\\ipykernel_21336\\3956336429.py:4: FutureWarning: Dropping of nuisance columns in DataFrame reductions (with 'numeric_only=None') is deprecated; in a future version this will raise TypeError.  Select only valid columns before calling the reduction.\n",
      "  df_irish_skimmedmilkpowder1022=df_irish_skimmedmilkpowder1022.fillna(df_irish_skimmedmilkpowder1022 .mean())\n"
     ]
    }
   ],
   "source": [
    "#cleaning, filling with mean values\n",
    "df_irish_cheese1022=df_irish_cheese1022.fillna(df_irish_cheese1022 .mean())\n",
    "df_irish_butter1022=df_irish_butter1022.fillna(df_irish_butter1022 .mean())\n",
    "df_irish_skimmedmilkpowder1022=df_irish_skimmedmilkpowder1022.fillna(df_irish_skimmedmilkpowder1022 .mean())\n",
    "\n"
   ]
  },
  {
   "cell_type": "code",
   "execution_count": 31,
   "id": "dc163ec6",
   "metadata": {},
   "outputs": [
    {
     "data": {
      "text/html": [
       "<div>\n",
       "<style scoped>\n",
       "    .dataframe tbody tr th:only-of-type {\n",
       "        vertical-align: middle;\n",
       "    }\n",
       "\n",
       "    .dataframe tbody tr th {\n",
       "        vertical-align: top;\n",
       "    }\n",
       "\n",
       "    .dataframe thead th {\n",
       "        text-align: right;\n",
       "    }\n",
       "</style>\n",
       "<table border=\"1\" class=\"dataframe\">\n",
       "  <thead>\n",
       "    <tr style=\"text-align: right;\">\n",
       "      <th></th>\n",
       "      <th>STATISTIC Label</th>\n",
       "      <th>Month</th>\n",
       "      <th>Product</th>\n",
       "      <th>UNIT</th>\n",
       "      <th>VALUE</th>\n",
       "      <th>year</th>\n",
       "      <th>month</th>\n",
       "    </tr>\n",
       "  </thead>\n",
       "  <tbody>\n",
       "    <tr>\n",
       "      <th>0</th>\n",
       "      <td>Production of Dairy Products</td>\n",
       "      <td>2010 January</td>\n",
       "      <td>Skimmed Milk Powder</td>\n",
       "      <td>000 Tonnes</td>\n",
       "      <td>3.000000</td>\n",
       "      <td>2010</td>\n",
       "      <td>January</td>\n",
       "    </tr>\n",
       "    <tr>\n",
       "      <th>1</th>\n",
       "      <td>Production of Dairy Products</td>\n",
       "      <td>2010 February</td>\n",
       "      <td>Skimmed Milk Powder</td>\n",
       "      <td>000 Tonnes</td>\n",
       "      <td>10.293967</td>\n",
       "      <td>2010</td>\n",
       "      <td>February</td>\n",
       "    </tr>\n",
       "    <tr>\n",
       "      <th>2</th>\n",
       "      <td>Production of Dairy Products</td>\n",
       "      <td>2010 March</td>\n",
       "      <td>Skimmed Milk Powder</td>\n",
       "      <td>000 Tonnes</td>\n",
       "      <td>1.300000</td>\n",
       "      <td>2010</td>\n",
       "      <td>March</td>\n",
       "    </tr>\n",
       "    <tr>\n",
       "      <th>3</th>\n",
       "      <td>Production of Dairy Products</td>\n",
       "      <td>2010 April</td>\n",
       "      <td>Skimmed Milk Powder</td>\n",
       "      <td>000 Tonnes</td>\n",
       "      <td>6.800000</td>\n",
       "      <td>2010</td>\n",
       "      <td>April</td>\n",
       "    </tr>\n",
       "    <tr>\n",
       "      <th>4</th>\n",
       "      <td>Production of Dairy Products</td>\n",
       "      <td>2010 May</td>\n",
       "      <td>Skimmed Milk Powder</td>\n",
       "      <td>000 Tonnes</td>\n",
       "      <td>10.900000</td>\n",
       "      <td>2010</td>\n",
       "      <td>May</td>\n",
       "    </tr>\n",
       "    <tr>\n",
       "      <th>...</th>\n",
       "      <td>...</td>\n",
       "      <td>...</td>\n",
       "      <td>...</td>\n",
       "      <td>...</td>\n",
       "      <td>...</td>\n",
       "      <td>...</td>\n",
       "      <td>...</td>\n",
       "    </tr>\n",
       "    <tr>\n",
       "      <th>149</th>\n",
       "      <td>Production of Dairy Products</td>\n",
       "      <td>2022 June</td>\n",
       "      <td>Skimmed Milk Powder</td>\n",
       "      <td>000 Tonnes</td>\n",
       "      <td>26.200000</td>\n",
       "      <td>2022</td>\n",
       "      <td>June</td>\n",
       "    </tr>\n",
       "    <tr>\n",
       "      <th>150</th>\n",
       "      <td>Production of Dairy Products</td>\n",
       "      <td>2022 July</td>\n",
       "      <td>Skimmed Milk Powder</td>\n",
       "      <td>000 Tonnes</td>\n",
       "      <td>22.100000</td>\n",
       "      <td>2022</td>\n",
       "      <td>July</td>\n",
       "    </tr>\n",
       "    <tr>\n",
       "      <th>151</th>\n",
       "      <td>Production of Dairy Products</td>\n",
       "      <td>2022 August</td>\n",
       "      <td>Skimmed Milk Powder</td>\n",
       "      <td>000 Tonnes</td>\n",
       "      <td>16.920000</td>\n",
       "      <td>2022</td>\n",
       "      <td>August</td>\n",
       "    </tr>\n",
       "    <tr>\n",
       "      <th>152</th>\n",
       "      <td>Production of Dairy Products</td>\n",
       "      <td>2022 September</td>\n",
       "      <td>Skimmed Milk Powder</td>\n",
       "      <td>000 Tonnes</td>\n",
       "      <td>13.150000</td>\n",
       "      <td>2022</td>\n",
       "      <td>September</td>\n",
       "    </tr>\n",
       "    <tr>\n",
       "      <th>153</th>\n",
       "      <td>Production of Dairy Products</td>\n",
       "      <td>2022 October</td>\n",
       "      <td>Skimmed Milk Powder</td>\n",
       "      <td>000 Tonnes</td>\n",
       "      <td>10.293967</td>\n",
       "      <td>2022</td>\n",
       "      <td>October</td>\n",
       "    </tr>\n",
       "  </tbody>\n",
       "</table>\n",
       "<p>154 rows × 7 columns</p>\n",
       "</div>"
      ],
      "text/plain": [
       "                  STATISTIC Label           Month              Product  \\\n",
       "0    Production of Dairy Products    2010 January  Skimmed Milk Powder   \n",
       "1    Production of Dairy Products   2010 February  Skimmed Milk Powder   \n",
       "2    Production of Dairy Products      2010 March  Skimmed Milk Powder   \n",
       "3    Production of Dairy Products      2010 April  Skimmed Milk Powder   \n",
       "4    Production of Dairy Products        2010 May  Skimmed Milk Powder   \n",
       "..                            ...             ...                  ...   \n",
       "149  Production of Dairy Products       2022 June  Skimmed Milk Powder   \n",
       "150  Production of Dairy Products       2022 July  Skimmed Milk Powder   \n",
       "151  Production of Dairy Products     2022 August  Skimmed Milk Powder   \n",
       "152  Production of Dairy Products  2022 September  Skimmed Milk Powder   \n",
       "153  Production of Dairy Products    2022 October  Skimmed Milk Powder   \n",
       "\n",
       "           UNIT      VALUE  year      month  \n",
       "0    000 Tonnes   3.000000  2010    January  \n",
       "1    000 Tonnes  10.293967  2010   February  \n",
       "2    000 Tonnes   1.300000  2010      March  \n",
       "3    000 Tonnes   6.800000  2010      April  \n",
       "4    000 Tonnes  10.900000  2010        May  \n",
       "..          ...        ...   ...        ...  \n",
       "149  000 Tonnes  26.200000  2022       June  \n",
       "150  000 Tonnes  22.100000  2022       July  \n",
       "151  000 Tonnes  16.920000  2022     August  \n",
       "152  000 Tonnes  13.150000  2022  September  \n",
       "153  000 Tonnes  10.293967  2022    October  \n",
       "\n",
       "[154 rows x 7 columns]"
      ]
     },
     "execution_count": 31,
     "metadata": {},
     "output_type": "execute_result"
    }
   ],
   "source": [
    "#create new subsets per product type\n",
    "#https://sparkbyexamples.com/pandas/pandas-loc-multiple-conditions/\n",
    "#df_product_cheese=df_irish_dairy1022.loc[df_irish_dairy1022[\"Product\"] == \"Cheese\", ['year', 'VALUE']]\n",
    "#df_product_cheese_10=df_irish_dairy1022.loc[(df_irish_dairy1022[\"Product\"] == \"Cheese\")& (df_irish_dairy1022[\"year\"] == \"2010\"), ['VALUE','month']]\n",
    "#df_product_butter=df_irish_dairy1022.loc[df_irish_dairy1022[\"Product\"] == \"Butter\", ['year', 'VALUE']]\n",
    "#df_product_skimmedmilkpowder=df_irish_dairy1022.loc[df_irish_dairy1022[\"Product\"] == \"Skimmed Milk Powder\", ['year', 'VALUE']]\n",
    "#df_product_cheese=df_irish_dairy1022.loc[df_irish_dairy1022[\"Product\"] == \"Cheese\", ['year', 'VALUE']]\n",
    "#print(df_product_cheese)\n",
    "df_irish_skimmedmilkpowder1022"
   ]
  },
  {
   "cell_type": "code",
   "execution_count": null,
   "id": "22c517d7",
   "metadata": {},
   "outputs": [],
   "source": [
    "#filtering cheese dataset by year\n",
    "df_product_cheese_10=df_irish_cheese1022.loc[(df_irish_cheese1022[\"year\"] == \"2010\"), ['VALUE','month']]\n",
    "df_product_cheese_11=df_irish_cheese1022.loc[(df_irish_cheese1022[\"year\"] == \"2011\"), ['VALUE','month']]\n",
    "df_product_cheese_12=df_irish_cheese1022.loc[(df_irish_cheese1022[\"year\"] == \"2012\"), ['VALUE','month']]\n",
    "df_product_cheese_13=df_irish_cheese1022.loc[(df_irish_cheese1022[\"year\"] == \"2013\"), ['VALUE','month']]\n",
    "df_product_cheese_14=df_irish_cheese1022.loc[(df_irish_cheese1022[\"year\"] == \"2014\"), ['VALUE','month']]\n",
    "df_product_cheese_15=df_irish_cheese1022.loc[(df_irish_cheese1022[\"year\"] == \"2015\"), ['VALUE','month']]\n",
    "df_product_cheese_16=df_irish_cheese1022.loc[(df_irish_cheese1022[\"year\"] == \"2016\"), ['VALUE','month']]\n",
    "df_product_cheese_17=df_irish_cheese1022.loc[(df_irish_cheese1022[\"year\"] == \"2017\"), ['VALUE','month']]\n",
    "df_product_cheese_18=df_irish_cheese1022.loc[(df_irish_cheese1022[\"year\"] == \"2018\"), ['VALUE','month']]\n",
    "df_product_cheese_19=df_irish_cheese1022.loc[(df_irish_cheese1022[\"year\"] == \"2019\"), ['VALUE','month']]\n",
    "df_product_cheese_20=df_irish_cheese1022.loc[(df_irish_cheese1022[\"year\"] == \"2020\"), ['VALUE','month']]\n",
    "df_product_cheese_21=df_irish_cheese1022.loc[(df_irish_cheese1022[\"year\"] == \"2021\"), ['VALUE','month']]\n",
    "#df_product_cheese_22=df_irish_cheese1022.loc[(df_irish_cheese1022[\"year\"] == \"2022\"), ['VALUE','month']]\n",
    "\n",
    "#filtering butter dataset by year\n",
    "df_product_butter_10=df_irish_butter1022.loc[(df_irish_butter1022[\"year\"] == \"2010\"), ['VALUE','month']]\n",
    "df_product_butter_11=df_irish_butter1022.loc[(df_irish_butter1022[\"year\"] == \"2011\"), ['VALUE','month']]\n",
    "df_product_butter_12=df_irish_butter1022.loc[(df_irish_butter1022[\"year\"] == \"2012\"), ['VALUE','month']]\n",
    "df_product_butter_13=df_irish_butter1022.loc[(df_irish_butter1022[\"year\"] == \"2013\"), ['VALUE','month']]\n",
    "df_product_butter_14=df_irish_butter1022.loc[(df_irish_butter1022[\"year\"] == \"2014\"), ['VALUE','month']]\n",
    "df_product_butter_15=df_irish_butter1022.loc[(df_irish_butter1022[\"year\"] == \"2015\"), ['VALUE','month']]\n",
    "df_product_butter_16=df_irish_butter1022.loc[(df_irish_butter1022[\"year\"] == \"2016\"), ['VALUE','month']]\n",
    "df_product_butter_17=df_irish_butter1022.loc[(df_irish_butter1022[\"year\"] == \"2017\"), ['VALUE','month']]\n",
    "df_product_butter_18=df_irish_butter1022.loc[(df_irish_butter1022[\"year\"] == \"2018\"), ['VALUE','month']]\n",
    "df_product_butter_19=df_irish_butter1022.loc[(df_irish_butter1022[\"year\"] == \"2019\"), ['VALUE','month']]\n",
    "df_product_butter_20=df_irish_butter1022.loc[(df_irish_butter1022[\"year\"] == \"2020\"), ['VALUE','month']]\n",
    "df_product_butter_21=df_irish_butter1022.loc[(df_irish_butter1022[\"year\"] == \"2021\"), ['VALUE','month']]\n",
    "#df_product_butter_22=df_irish_butter1022.loc[(df_irish_butter1022[\"year\"] == \"2022\"), ['VALUE','month']]\n",
    "\n",
    "#filtering skimmedmilkpowder dataset by year\n",
    "df_product_skimmedmilkpowder_10=df_irish_skimmedmilkpowder1022.loc[(df_irish_skimmedmilkpowder1022[\"year\"] == \"2010\"), ['VALUE','month']]\n",
    "df_product_skimmedmilkpowder_11=df_irish_skimmedmilkpowder1022.loc[(df_irish_skimmedmilkpowder1022[\"year\"] == \"2011\"), ['VALUE','month']]\n",
    "df_product_skimmedmilkpowder_12=df_irish_skimmedmilkpowder1022.loc[(df_irish_skimmedmilkpowder1022[\"year\"] == \"2012\"), ['VALUE','month']]\n",
    "df_product_skimmedmilkpowder_13=df_irish_skimmedmilkpowder1022.loc[(df_irish_skimmedmilkpowder1022[\"year\"] == \"2013\"), ['VALUE','month']]\n",
    "df_product_skimmedmilkpowder_14=df_irish_skimmedmilkpowder1022.loc[(df_irish_skimmedmilkpowder1022[\"year\"] == \"2014\"), ['VALUE','month']]\n",
    "df_product_skimmedmilkpowder_15=df_irish_skimmedmilkpowder1022.loc[(df_irish_skimmedmilkpowder1022[\"year\"] == \"2015\"), ['VALUE','month']]\n",
    "df_product_skimmedmilkpowder_16=df_irish_skimmedmilkpowder1022.loc[(df_irish_skimmedmilkpowder1022[\"year\"] == \"2016\"), ['VALUE','month']]\n",
    "df_product_skimmedmilkpowder_17=df_irish_skimmedmilkpowder1022.loc[(df_irish_skimmedmilkpowder1022[\"year\"] == \"2017\"), ['VALUE','month']]\n",
    "df_product_skimmedmilkpowder_18=df_irish_skimmedmilkpowder1022.loc[(df_irish_skimmedmilkpowder1022[\"year\"] == \"2018\"), ['VALUE','month']]\n",
    "df_product_skimmedmilkpowder_19=df_irish_skimmedmilkpowder1022.loc[(df_irish_skimmedmilkpowder1022[\"year\"] == \"2019\"), ['VALUE','month']]\n",
    "df_product_skimmedmilkpowder_20=df_irish_skimmedmilkpowder1022.loc[(df_irish_skimmedmilkpowder1022[\"year\"] == \"2020\"), ['VALUE','month']]\n",
    "df_product_skimmedmilkpowder_21=df_irish_skimmedmilkpowder1022.loc[(df_irish_skimmedmilkpowder1022[\"year\"] == \"2021\"), ['VALUE','month']]\n",
    "#df_product_skimmedmilkpowder_22=df_irish_skimmedmilkpowder1022.loc[(df_irish_skimmedmilkpowder1022[\"year\"] == \"2022\"), ['VALUE','month']]\n",
    "\n",
    "\n"
   ]
  },
  {
   "cell_type": "code",
   "execution_count": null,
   "id": "2172468b",
   "metadata": {},
   "outputs": [],
   "source": [
    "#tidying up column names for the purposes of visualisation\n",
    "df_product_cheese_10.rename(columns={'VALUE': '2010'}, inplace=True)\n",
    "df_product_cheese_11.rename(columns={'VALUE': '2011'}, inplace=True)\n",
    "df_product_cheese_12.rename(columns={'VALUE': '2012'}, inplace=True)\n",
    "df_product_cheese_13.rename(columns={'VALUE': '2013'}, inplace=True)\n",
    "df_product_cheese_14.rename(columns={'VALUE': '2014'}, inplace=True)\n",
    "df_product_cheese_15.rename(columns={'VALUE': '2015'}, inplace=True)\n",
    "df_product_cheese_16.rename(columns={'VALUE': '2016'}, inplace=True)\n",
    "df_product_cheese_17.rename(columns={'VALUE': '2017'}, inplace=True)\n",
    "df_product_cheese_18.rename(columns={'VALUE': '2018'}, inplace=True)\n",
    "df_product_cheese_19.rename(columns={'VALUE': '2019'}, inplace=True)\n",
    "df_product_cheese_20.rename(columns={'VALUE': '2020'}, inplace=True)\n",
    "df_product_cheese_21.rename(columns={'VALUE': '2021'}, inplace=True)\n",
    "#df_product_cheese_22.rename(columns={'VALUE': '2022'}, inplace=True)\n",
    "\n",
    "df_product_butter_10.rename(columns={'VALUE': '2010'}, inplace=True)\n",
    "df_product_butter_11.rename(columns={'VALUE': '2011'}, inplace=True)\n",
    "df_product_butter_12.rename(columns={'VALUE': '2012'}, inplace=True)\n",
    "df_product_butter_13.rename(columns={'VALUE': '2013'}, inplace=True)\n",
    "df_product_butter_14.rename(columns={'VALUE': '2014'}, inplace=True)\n",
    "df_product_butter_15.rename(columns={'VALUE': '2015'}, inplace=True)\n",
    "df_product_butter_16.rename(columns={'VALUE': '2016'}, inplace=True)\n",
    "df_product_butter_17.rename(columns={'VALUE': '2017'}, inplace=True)\n",
    "df_product_butter_18.rename(columns={'VALUE': '2018'}, inplace=True)\n",
    "df_product_butter_19.rename(columns={'VALUE': '2019'}, inplace=True)\n",
    "df_product_butter_20.rename(columns={'VALUE': '2020'}, inplace=True)\n",
    "df_product_butter_21.rename(columns={'VALUE': '2021'}, inplace=True)\n",
    "#df_product_butter_22.rename(columns={'VALUE': '2022'}, inplace=True)\n",
    "\n",
    "df_product_skimmedmilkpowder_10.rename(columns={'VALUE': '2010'}, inplace=True)\n",
    "df_product_skimmedmilkpowder_11.rename(columns={'VALUE': '2011'}, inplace=True)\n",
    "df_product_skimmedmilkpowder_12.rename(columns={'VALUE': '2012'}, inplace=True)\n",
    "df_product_skimmedmilkpowder_13.rename(columns={'VALUE': '2013'}, inplace=True)\n",
    "df_product_skimmedmilkpowder_14.rename(columns={'VALUE': '2014'}, inplace=True)\n",
    "df_product_skimmedmilkpowder_15.rename(columns={'VALUE': '2015'}, inplace=True)\n",
    "df_product_skimmedmilkpowder_16.rename(columns={'VALUE': '2016'}, inplace=True)\n",
    "df_product_skimmedmilkpowder_17.rename(columns={'VALUE': '2017'}, inplace=True)\n",
    "df_product_skimmedmilkpowder_18.rename(columns={'VALUE': '2018'}, inplace=True)\n",
    "df_product_skimmedmilkpowder_19.rename(columns={'VALUE': '2019'}, inplace=True)\n",
    "df_product_skimmedmilkpowder_20.rename(columns={'VALUE': '2020'}, inplace=True)\n",
    "df_product_skimmedmilkpowder_21.rename(columns={'VALUE': '2021'}, inplace=True)\n",
    "#df_product_skimmedmilkpowder_22.rename(columns={'VALUE': '2022'}, inplace=True)\n",
    "\n"
   ]
  },
  {
   "cell_type": "code",
   "execution_count": null,
   "id": "9ca185cb",
   "metadata": {},
   "outputs": [],
   "source": [
    "#merging filtered datasets\n",
    "x1=df_product_cheese_10.merge(df_product_cheese_11,on='month').merge(df_product_cheese_12,on='month')\n",
    "x2=df_product_cheese_13.merge(df_product_cheese_14,on='month').merge(df_product_cheese_15,on='month')\n",
    "x3=df_product_cheese_16.merge(df_product_cheese_17,on='month').merge(df_product_cheese_18,on='month')\n",
    "x4=df_product_cheese_19.merge(df_product_cheese_20,on='month').merge(df_product_cheese_21,on='month')\n",
    "#x5=x4.merge(x1,on='month').merge(df_product_cheese_22,on='month').merge(x2,on='month')\n",
    "x5=x4.merge(x1,on='month').merge(x2,on='month')\n",
    "df_cheese1020=x4.merge(x5,on='month').merge(x3,on='month').merge(x4,on='month')\n",
    "      \n",
    "y1=df_product_butter_10.merge(df_product_butter_11,on='month').merge(df_product_butter_12,on='month')\n",
    "y2=df_product_butter_13.merge(df_product_butter_14,on='month').merge(df_product_butter_15,on='month')\n",
    "y3=df_product_butter_16.merge(df_product_butter_17,on='month').merge(df_product_butter_18,on='month')\n",
    "y4=df_product_butter_19.merge(df_product_butter_20,on='month').merge(df_product_butter_21,on='month')\n",
    "y5=y4.merge(y1,on='month').merge(y2,on='month')\n",
    "df_butter1020=y4.merge(y5,on='month').merge(y3,on='month').merge(y4,on='month')\n",
    "\n",
    "\n",
    "z1=df_product_skimmedmilkpowder_10.merge(df_product_skimmedmilkpowder_11,on='month').merge(df_product_skimmedmilkpowder_12,on='month')\n",
    "z2=df_product_skimmedmilkpowder_13.merge(df_product_skimmedmilkpowder_14,on='month').merge(df_product_skimmedmilkpowder_15,on='month')\n",
    "z3=df_product_skimmedmilkpowder_16.merge(df_product_skimmedmilkpowder_17,on='month').merge(df_product_skimmedmilkpowder_18,on='month')\n",
    "z4=df_product_skimmedmilkpowder_19.merge(df_product_skimmedmilkpowder_20,on='month').merge(df_product_skimmedmilkpowder_21,on='month')\n",
    "z5=z4.merge(z1,on='month').merge(z2,on='month')\n",
    "df_skimmedmilkpowder1020=z4.merge(z5,on='month').merge(z3,on='month').merge(z4,on='month')\n",
    "\n",
    "\n",
    "#reordering columns for visualisation purpose\n",
    "df_cheese1020 = df_cheese1020[['month','2010','2011','2012','2013','2014','2015','2016','2017','2018','2019','2020','2021']]\n",
    "df_butter1020 = df_butter1020[['month','2010','2011','2012','2013','2014','2015','2016','2017','2018','2019','2020','2021']]\n",
    "df_skimmedmilkpowder1022 = df_skimmedmilkpowder1020[['month','2010','2011','2012','2013','2014','2015','2016','2017','2018','2019','2020','2021']]"
   ]
  },
  {
   "cell_type": "code",
   "execution_count": null,
   "id": "4559df6f",
   "metadata": {},
   "outputs": [],
   "source": [
    "df_cheese1020['month']"
   ]
  },
  {
   "cell_type": "code",
   "execution_count": null,
   "id": "eeab645f",
   "metadata": {},
   "outputs": [],
   "source": [
    "\n",
    "#showing every 2nd year to make graph more readable\n",
    "#production highest between may,june.As the temperatures drop, so can milk production. When it is cold, cows can divert their energy into maintaining body temperature instead of producing milk.\n",
    "#How do seasons affect milk production?\n",
    "#Monthly milk yield was highest during the spring and lowest in winter. Highest milk yield for early and midlactation cows was in the spring, whereas late lactation cows performed best in the summer."
   ]
  },
  {
   "cell_type": "code",
   "execution_count": null,
   "id": "3690c1ab",
   "metadata": {},
   "outputs": [],
   "source": [
    "#bar chart showing production\n",
    "melt_df1 = pd.melt(df_cheese1020, id_vars=['month' ],  value_vars=['2010','2014','2018','2021'], var_name='year', value_name='amount')\n",
    "melt_df1['amount']=melt_df1['amount'].astype(float)\n",
    "\n",
    "sequential_colors = sns.color_palette(\"Greens\", 10)\n",
    "#sns.palplot(sequential_colors)\n",
    "\n",
    "sns.set(style='whitegrid', context='talk') \n",
    "g = sns.catplot(data=melt_df1, x=\"amount\", y=\"month\", col=\"year\", kind=\"bar\",height=20,aspect=0.4, palette='Greens');\n",
    "plt.suptitle(\"'Production of Cheese in Ireland between 2010 and 2020 by  month\", fontsize=30, x=.25, y=1.06, fontweight='bold')\n",
    "\n",
    "plt.savefig('Cheese production between 2010 and 2021.png')\n",
    "plt.show()"
   ]
  },
  {
   "cell_type": "code",
   "execution_count": null,
   "id": "e02cf59d",
   "metadata": {},
   "outputs": [],
   "source": [
    "#bar chart showing production\n",
    "melt_df2 = pd.melt(df_butter1020, id_vars=['month' ],  value_vars=['2010','2014','2018','2021'], var_name='year', value_name='amount')\n",
    "melt_df2['amount']=melt_df2['amount'].astype(float)\n",
    "sequential_colors = sns.color_palette(\"Greens\", 10)\n",
    "sns.set(style='whitegrid', context='talk') \n",
    "g = sns.catplot(data=melt_df2, x=\"amount\", y=\"month\", col=\"year\", kind=\"bar\",height=20,aspect=0.4, palette='Greens');\n",
    "plt.suptitle(\"'Production of Butter in Ireland between 2010 and 2020 by  month\", fontsize=30, x=.25, y=1.06, fontweight='bold')\n",
    "\n",
    "plt.savefig('Butter production between 2010 and 2021.png')\n",
    "plt.show()"
   ]
  },
  {
   "cell_type": "code",
   "execution_count": null,
   "id": "6b168d0d",
   "metadata": {},
   "outputs": [],
   "source": [
    "#bar chart showing production\n",
    "melt_df3 = pd.melt(df_skimmedmilkpowder1022, id_vars=['month' ],  value_vars=['2010','2015','2019','2021'], var_name='year', value_name='amount')\n",
    "melt_df3['amount']=melt_df3['amount'].astype(float)\n",
    "sequential_colors = sns.color_palette(\"Greens\", 10)\n",
    "sns.set(style='whitegrid', context='talk') \n",
    "g = sns.catplot(data=melt_df3, x=\"amount\", y=\"month\", col=\"year\", kind=\"bar\",height=20,aspect=0.4, palette='Greens');\n",
    "plt.suptitle(\"'Production of Skimmed Milk Powder in Ireland between 2010 and 2020 by  month\", fontsize=30, x=.25, y=1.06, fontweight='bold')\n",
    "\n",
    "plt.savefig('Skimmed Milk Powder production between 2010 and 2021.png')\n",
    "plt.show()"
   ]
  },
  {
   "cell_type": "code",
   "execution_count": null,
   "id": "3ccd377c",
   "metadata": {},
   "outputs": [],
   "source": [
    "#getting sum per year of production to compare with other countries\n",
    "#unit 000 tonnes\n",
    "\n",
    "#df_cheese1020.loc['Column_Total'] = df_cheese1020.sum(numeric_only=True, axis=0)\n",
    "\n",
    "sum_total = df_cheese1020.select_dtypes(pd.np.number).sum().rename('total_sum')\n",
    "#append sums to the data frame\n",
    "df_cheese1020_sum=df_cheese1020.append(sum_total)\n",
    "\n",
    "\n",
    "#sum_total\n",
    "\n",
    "# displaying the DataFrame as a table and graphing the total values\n",
    "print(tabulate(df_cheese1020_sum, headers = 'keys', tablefmt = 'simple'))\n",
    "total_sum=(171.9,   179.7 ,  185.5 ,  182.8,   188.4,   206.9,   204.9,   259.2,   269.5 ,  278.4   ,285.6 ,  287.1)\n",
    "Year=('2010','2011','2012','2013','2014','2015','2016','2017','2018','2019','2020','2021')"
   ]
  },
  {
   "cell_type": "code",
   "execution_count": null,
   "id": "8da5daf1",
   "metadata": {},
   "outputs": [],
   "source": [
    "x = Year\n",
    "y = total_sum\n",
    "\n",
    "#plt.figure(figsize=(8,5))\n",
    "\n",
    "#plt.bar(x, y, label='Year', color='yellow',  width=.6, align='center', alpha=0.7)\n",
    "#plt.xticks(rotation=90)\n",
    "#plt.xlabel('YEAR', fontsize = 12)\n",
    "plt.ylabel('Production in 000 tonnes', fontsize = 12)\n",
    "\n",
    "fig, ax = plt.subplots()\n",
    "width = 0.75\n",
    "ind = np.arange(len(y))\n",
    " \n",
    "ax.barh(x, y, width, color = \"green\")\n",
    " \n",
    "for i, v in enumerate(y):\n",
    "    ax.text(v + 3, i + .1, str(v),\n",
    "            color = 'black', fontweight = 'bold')\n",
    "plt.title('Production of Cheese in Ireland in 000s tonnes between 2007 and 2021')\n",
    "\n",
    "\n",
    "#separate type of milk"
   ]
  },
  {
   "cell_type": "markdown",
   "id": "5ed89f2d",
   "metadata": {},
   "source": [
    "#compare like for like countries, give reasons why, use country flag colours"
   ]
  }
 ],
 "metadata": {
  "kernelspec": {
   "display_name": "Python 3 (ipykernel)",
   "language": "python",
   "name": "python3"
  },
  "language_info": {
   "codemirror_mode": {
    "name": "ipython",
    "version": 3
   },
   "file_extension": ".py",
   "mimetype": "text/x-python",
   "name": "python",
   "nbconvert_exporter": "python",
   "pygments_lexer": "ipython3",
   "version": "3.9.13"
  }
 },
 "nbformat": 4,
 "nbformat_minor": 5
}
